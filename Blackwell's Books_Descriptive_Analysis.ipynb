{
 "cells": [
  {
   "cell_type": "markdown",
   "id": "5ddca370",
   "metadata": {},
   "source": [
    "#### Blackwell's Books - Discriptive Analysis"
   ]
  },
  {
   "cell_type": "markdown",
   "id": "2a251548",
   "metadata": {},
   "source": [
    "#### Importing the libraries and loading the data"
   ]
  },
  {
   "cell_type": "code",
   "execution_count": 292,
   "id": "dd8cf398",
   "metadata": {},
   "outputs": [],
   "source": [
    "import numpy as np\n",
    "import pandas as pd\n",
    "import seaborn as sea\n",
    "import matplotlib as mat\n",
    "#Define how many rows is will display\n",
    "pd.options.display.max_rows = 13000"
   ]
  },
  {
   "cell_type": "code",
   "execution_count": 155,
   "id": "37d512a3",
   "metadata": {},
   "outputs": [],
   "source": [
    "def upload_data():\n",
    "    bookstore_df = pd.read_csv('data/blackwell_shop_cleaned-2.csv')\n",
    "    return bookstore_df"
   ]
  },
  {
   "cell_type": "code",
   "execution_count": 156,
   "id": "9b22509f",
   "metadata": {},
   "outputs": [],
   "source": [
    "bookstore_df = upload_data()"
   ]
  },
  {
   "cell_type": "code",
   "execution_count": 157,
   "id": "c44eb671",
   "metadata": {
    "scrolled": true
   },
   "outputs": [
    {
     "data": {
      "text/html": [
       "<div>\n",
       "<style scoped>\n",
       "    .dataframe tbody tr th:only-of-type {\n",
       "        vertical-align: middle;\n",
       "    }\n",
       "\n",
       "    .dataframe tbody tr th {\n",
       "        vertical-align: top;\n",
       "    }\n",
       "\n",
       "    .dataframe thead th {\n",
       "        text-align: right;\n",
       "    }\n",
       "</style>\n",
       "<table border=\"1\" class=\"dataframe\">\n",
       "  <thead>\n",
       "    <tr style=\"text-align: right;\">\n",
       "      <th></th>\n",
       "      <th>isbn</th>\n",
       "      <th>publication_date</th>\n",
       "      <th>euro_price</th>\n",
       "      <th>discount_euro</th>\n",
       "      <th>type</th>\n",
       "      <th>category</th>\n",
       "      <th>link_book_page</th>\n",
       "      <th>name</th>\n",
       "      <th>subtitle</th>\n",
       "      <th>edition</th>\n",
       "      <th>...</th>\n",
       "      <th>language</th>\n",
       "      <th>no_of_pages</th>\n",
       "      <th>height</th>\n",
       "      <th>width</th>\n",
       "      <th>spine</th>\n",
       "      <th>weight</th>\n",
       "      <th>salesRank</th>\n",
       "      <th>short_blurb</th>\n",
       "      <th>long_blurb</th>\n",
       "      <th>blurbReview</th>\n",
       "    </tr>\n",
       "  </thead>\n",
       "  <tbody>\n",
       "    <tr>\n",
       "      <th>0</th>\n",
       "      <td>9781780724379</td>\n",
       "      <td>08 Oct 2020</td>\n",
       "      <td>13.63</td>\n",
       "      <td>2.92</td>\n",
       "      <td>Hardback</td>\n",
       "      <td>artanddesign</td>\n",
       "      <td>/bookshop/product/Secrets-of-a-Devon-Wood-by-J...</td>\n",
       "      <td>Secrets of a Devon Wood</td>\n",
       "      <td>A Nature Journal</td>\n",
       "      <td>NaN</td>\n",
       "      <td>...</td>\n",
       "      <td>English</td>\n",
       "      <td>96</td>\n",
       "      <td>242.0</td>\n",
       "      <td>218.0</td>\n",
       "      <td>18.0</td>\n",
       "      <td>390</td>\n",
       "      <td>108.0</td>\n",
       "      <td>Walking one day in the woods behind her cottag...</td>\n",
       "      <td>&lt;p&gt;&lt;b&gt;\"Things of such magnitude deserve respec...</td>\n",
       "      <td>&lt;b&gt;Exquisite drawings and thoughtful annotatio...</td>\n",
       "    </tr>\n",
       "    <tr>\n",
       "      <th>1</th>\n",
       "      <td>9780141992150</td>\n",
       "      <td>05 Nov 2020</td>\n",
       "      <td>11.03</td>\n",
       "      <td>NaN</td>\n",
       "      <td>Paperback</td>\n",
       "      <td>artanddesign</td>\n",
       "      <td>/bookshop/product/Poor-by-Caleb-Femi-author/97...</td>\n",
       "      <td>Poor</td>\n",
       "      <td>NaN</td>\n",
       "      <td>NaN</td>\n",
       "      <td>...</td>\n",
       "      <td>English</td>\n",
       "      <td>140</td>\n",
       "      <td>130.0</td>\n",
       "      <td>197.0</td>\n",
       "      <td>16.0</td>\n",
       "      <td>258</td>\n",
       "      <td>167.0</td>\n",
       "      <td>What is it like to grow up in a place where th...</td>\n",
       "      <td>&lt;p&gt;&lt;b&gt;A &lt;i&gt;NEW STATESMAN&lt;/i&gt; AND &lt;i&gt;FINANCIAL ...</td>\n",
       "      <td>&lt;b&gt;It&amp;#39;s rare for a book of poems to repeat...</td>\n",
       "    </tr>\n",
       "    <tr>\n",
       "      <th>2</th>\n",
       "      <td>9781250114297</td>\n",
       "      <td>06 Oct 2020</td>\n",
       "      <td>32.97</td>\n",
       "      <td>NaN</td>\n",
       "      <td>Hardback</td>\n",
       "      <td>artanddesign</td>\n",
       "      <td>/bookshop/product/Humans-by-Brandon-Stanton-au...</td>\n",
       "      <td>Humans</td>\n",
       "      <td>NaN</td>\n",
       "      <td>First edition</td>\n",
       "      <td>...</td>\n",
       "      <td>NaN</td>\n",
       "      <td>cm</td>\n",
       "      <td>214.0</td>\n",
       "      <td>261.0</td>\n",
       "      <td>36.0</td>\n",
       "      <td>1628</td>\n",
       "      <td>63.0</td>\n",
       "      <td>\"Brandon Stanton's new book, Humans ... shows ...</td>\n",
       "      <td>NaN</td>\n",
       "      <td>NaN</td>\n",
       "    </tr>\n",
       "    <tr>\n",
       "      <th>3</th>\n",
       "      <td>9781846149481</td>\n",
       "      <td>05 Nov 2020</td>\n",
       "      <td>19.11</td>\n",
       "      <td>2.97</td>\n",
       "      <td>Hardback</td>\n",
       "      <td>artanddesign</td>\n",
       "      <td>/bookshop/product/Gamish-by-Edward-Ross-author...</td>\n",
       "      <td>Gamish</td>\n",
       "      <td>A Graphic History of Gaming</td>\n",
       "      <td>NaN</td>\n",
       "      <td>...</td>\n",
       "      <td>English</td>\n",
       "      <td>208</td>\n",
       "      <td>171.0</td>\n",
       "      <td>235.0</td>\n",
       "      <td>22.0</td>\n",
       "      <td>616</td>\n",
       "      <td>285.0</td>\n",
       "      <td>Pac-Man. Mario. Minecraft. Doom. Ever since he...</td>\n",
       "      <td>&lt;p&gt;&lt;b&gt;'A love letter to gaming in all its form...</td>\n",
       "      <td>&lt;i&gt;Gamish&lt;/i&gt; is a &lt;b&gt;fascinating &lt;/b&gt;read. &lt;b...</td>\n",
       "    </tr>\n",
       "    <tr>\n",
       "      <th>4</th>\n",
       "      <td>9780241472859</td>\n",
       "      <td>24 Sep 2020</td>\n",
       "      <td>4.25</td>\n",
       "      <td>2.36</td>\n",
       "      <td>Paperback</td>\n",
       "      <td>artanddesign</td>\n",
       "      <td>/bookshop/product/The-Narrative-of-Trajans-Col...</td>\n",
       "      <td>The Narrative of Trajan's Column</td>\n",
       "      <td>NaN</td>\n",
       "      <td>NaN</td>\n",
       "      <td>...</td>\n",
       "      <td>English</td>\n",
       "      <td>112</td>\n",
       "      <td>111.0</td>\n",
       "      <td>180.0</td>\n",
       "      <td>11.0</td>\n",
       "      <td>74</td>\n",
       "      <td>2645.0</td>\n",
       "      <td>Taken from his 'Collection of Sand', these ess...</td>\n",
       "      <td>&lt;p&gt;&lt;b&gt;&lt;i&gt;'When the last fire goes out, time to...</td>\n",
       "      <td>NaN</td>\n",
       "    </tr>\n",
       "    <tr>\n",
       "      <th>...</th>\n",
       "      <td>...</td>\n",
       "      <td>...</td>\n",
       "      <td>...</td>\n",
       "      <td>...</td>\n",
       "      <td>...</td>\n",
       "      <td>...</td>\n",
       "      <td>...</td>\n",
       "      <td>...</td>\n",
       "      <td>...</td>\n",
       "      <td>...</td>\n",
       "      <td>...</td>\n",
       "      <td>...</td>\n",
       "      <td>...</td>\n",
       "      <td>...</td>\n",
       "      <td>...</td>\n",
       "      <td>...</td>\n",
       "      <td>...</td>\n",
       "      <td>...</td>\n",
       "      <td>...</td>\n",
       "      <td>...</td>\n",
       "      <td>...</td>\n",
       "    </tr>\n",
       "    <tr>\n",
       "      <th>11568</th>\n",
       "      <td>9781250038821</td>\n",
       "      <td>15 Oct 2013</td>\n",
       "      <td>25.32</td>\n",
       "      <td>NaN</td>\n",
       "      <td>Hardback</td>\n",
       "      <td>travel</td>\n",
       "      <td>/bookshop/product/Humans-of-New-York-by-Brando...</td>\n",
       "      <td>Humans of New York</td>\n",
       "      <td>NaN</td>\n",
       "      <td>NaN</td>\n",
       "      <td>...</td>\n",
       "      <td>English</td>\n",
       "      <td>NaN</td>\n",
       "      <td>236.0</td>\n",
       "      <td>184.0</td>\n",
       "      <td>31.0</td>\n",
       "      <td>976</td>\n",
       "      <td>1792.0</td>\n",
       "      <td>STOP PRESS MARCH 2014</td>\n",
       "      <td>NaN</td>\n",
       "      <td>NaN</td>\n",
       "    </tr>\n",
       "    <tr>\n",
       "      <th>11569</th>\n",
       "      <td>9781910240755</td>\n",
       "      <td>04 Oct 2018</td>\n",
       "      <td>19.83</td>\n",
       "      <td>0.03</td>\n",
       "      <td>Paperback</td>\n",
       "      <td>travel</td>\n",
       "      <td>/bookshop/product/Waymaking-by-Helen-Mort-edit...</td>\n",
       "      <td>Waymaking</td>\n",
       "      <td>An Anthology of Women's Adventure Writing, Poe...</td>\n",
       "      <td>NaN</td>\n",
       "      <td>...</td>\n",
       "      <td>English</td>\n",
       "      <td>256</td>\n",
       "      <td>219.0</td>\n",
       "      <td>184.0</td>\n",
       "      <td>25.0</td>\n",
       "      <td>750</td>\n",
       "      <td>31932.0</td>\n",
       "      <td>Waymaking is an anthology of prose, poetry and...</td>\n",
       "      <td>&lt;p&gt;&lt;strong&gt;Winner: Mountain Literature (Non Fi...</td>\n",
       "      <td>NaN</td>\n",
       "    </tr>\n",
       "    <tr>\n",
       "      <th>11570</th>\n",
       "      <td>9781910702390</td>\n",
       "      <td>02 Aug 2018</td>\n",
       "      <td>25.10</td>\n",
       "      <td>2.51</td>\n",
       "      <td>Hardback</td>\n",
       "      <td>travel</td>\n",
       "      <td>/bookshop/product/Red-Thread-by-Charlotte-Higg...</td>\n",
       "      <td>Red Thread</td>\n",
       "      <td>On Mazes and Labyrinths</td>\n",
       "      <td>NaN</td>\n",
       "      <td>...</td>\n",
       "      <td>English</td>\n",
       "      <td>216</td>\n",
       "      <td>251.0</td>\n",
       "      <td>191.0</td>\n",
       "      <td>24.0</td>\n",
       "      <td>962</td>\n",
       "      <td>33708.0</td>\n",
       "      <td>The tale of how the hero Theseus killed the Mi...</td>\n",
       "      <td>&lt;p&gt;&lt;b&gt;'Charlotte Higgins's &lt;i&gt;Red Thread&lt;/i&gt; i...</td>\n",
       "      <td>&lt;b&gt;Charlotte Higgins&amp;#39;s &lt;i&gt;Red Thread&lt;/i&gt; i...</td>\n",
       "    </tr>\n",
       "    <tr>\n",
       "      <th>11571</th>\n",
       "      <td>9781912177059</td>\n",
       "      <td>03 Oct 2017</td>\n",
       "      <td>11.39</td>\n",
       "      <td>1.85</td>\n",
       "      <td>Paperback</td>\n",
       "      <td>travel</td>\n",
       "      <td>/bookshop/product/Sailing-Around-Britain-by-Ki...</td>\n",
       "      <td>Sailing Around Britain</td>\n",
       "      <td>NaN</td>\n",
       "      <td>Second edition</td>\n",
       "      <td>...</td>\n",
       "      <td>English</td>\n",
       "      <td>240 , 8 unnumbered  of plates</td>\n",
       "      <td>130.0</td>\n",
       "      <td>198.0</td>\n",
       "      <td>19.0</td>\n",
       "      <td>242</td>\n",
       "      <td>NaN</td>\n",
       "      <td>An inspiring personal narrative of a weekend s...</td>\n",
       "      <td>Kim Sturgess was a weekend sailor: he enjoyed ...</td>\n",
       "      <td>\"Sail the glorious and challenging coast of Br...</td>\n",
       "    </tr>\n",
       "    <tr>\n",
       "      <th>11572</th>\n",
       "      <td>9781909911468</td>\n",
       "      <td>15 Dec 2015</td>\n",
       "      <td>31.62</td>\n",
       "      <td>7.02</td>\n",
       "      <td>Hardback</td>\n",
       "      <td>travel</td>\n",
       "      <td>/bookshop/product/The-Solent-Cruising-Companio...</td>\n",
       "      <td>The Solent Cruising Companion</td>\n",
       "      <td>A Yachtsman's Pilot and Cruising Guide to Port...</td>\n",
       "      <td>Third edition</td>\n",
       "      <td>...</td>\n",
       "      <td>English</td>\n",
       "      <td>160</td>\n",
       "      <td>219.0</td>\n",
       "      <td>305.0</td>\n",
       "      <td>17.0</td>\n",
       "      <td>904</td>\n",
       "      <td>NaN</td>\n",
       "      <td>An authoritative cruising companion to the Sol...</td>\n",
       "      <td>The Solent is the spiritual home of sailing an...</td>\n",
       "      <td>\"The layout is clear and content good&amp;hellip; ...</td>\n",
       "    </tr>\n",
       "  </tbody>\n",
       "</table>\n",
       "<p>11573 rows × 27 columns</p>\n",
       "</div>"
      ],
      "text/plain": [
       "                isbn publication_date  euro_price  discount_euro        type  \\\n",
       "0      9781780724379      08 Oct 2020       13.63           2.92   Hardback    \n",
       "1      9780141992150      05 Nov 2020       11.03            NaN  Paperback    \n",
       "2      9781250114297      06 Oct 2020       32.97            NaN   Hardback    \n",
       "3      9781846149481      05 Nov 2020       19.11           2.97   Hardback    \n",
       "4      9780241472859      24 Sep 2020        4.25           2.36  Paperback    \n",
       "...              ...              ...         ...            ...         ...   \n",
       "11568  9781250038821      15 Oct 2013       25.32            NaN   Hardback    \n",
       "11569  9781910240755      04 Oct 2018       19.83           0.03  Paperback    \n",
       "11570  9781910702390      02 Aug 2018       25.10           2.51   Hardback    \n",
       "11571  9781912177059      03 Oct 2017       11.39           1.85  Paperback    \n",
       "11572  9781909911468      15 Dec 2015       31.62           7.02   Hardback    \n",
       "\n",
       "           category                                     link_book_page  \\\n",
       "0      artanddesign  /bookshop/product/Secrets-of-a-Devon-Wood-by-J...   \n",
       "1      artanddesign  /bookshop/product/Poor-by-Caleb-Femi-author/97...   \n",
       "2      artanddesign  /bookshop/product/Humans-by-Brandon-Stanton-au...   \n",
       "3      artanddesign  /bookshop/product/Gamish-by-Edward-Ross-author...   \n",
       "4      artanddesign  /bookshop/product/The-Narrative-of-Trajans-Col...   \n",
       "...             ...                                                ...   \n",
       "11568        travel  /bookshop/product/Humans-of-New-York-by-Brando...   \n",
       "11569        travel  /bookshop/product/Waymaking-by-Helen-Mort-edit...   \n",
       "11570        travel  /bookshop/product/Red-Thread-by-Charlotte-Higg...   \n",
       "11571        travel  /bookshop/product/Sailing-Around-Britain-by-Ki...   \n",
       "11572        travel  /bookshop/product/The-Solent-Cruising-Companio...   \n",
       "\n",
       "                                   name  \\\n",
       "0               Secrets of a Devon Wood   \n",
       "1                                  Poor   \n",
       "2                                Humans   \n",
       "3                                Gamish   \n",
       "4      The Narrative of Trajan's Column   \n",
       "...                                 ...   \n",
       "11568                Humans of New York   \n",
       "11569                         Waymaking   \n",
       "11570                        Red Thread   \n",
       "11571            Sailing Around Britain   \n",
       "11572     The Solent Cruising Companion   \n",
       "\n",
       "                                                subtitle         edition  ...  \\\n",
       "0                                       A Nature Journal             NaN  ...   \n",
       "1                                                    NaN             NaN  ...   \n",
       "2                                                    NaN   First edition  ...   \n",
       "3                            A Graphic History of Gaming             NaN  ...   \n",
       "4                                                    NaN             NaN  ...   \n",
       "...                                                  ...             ...  ...   \n",
       "11568                                                NaN             NaN  ...   \n",
       "11569  An Anthology of Women's Adventure Writing, Poe...             NaN  ...   \n",
       "11570                            On Mazes and Labyrinths             NaN  ...   \n",
       "11571                                                NaN  Second edition  ...   \n",
       "11572  A Yachtsman's Pilot and Cruising Guide to Port...   Third edition  ...   \n",
       "\n",
       "      language                    no_of_pages  height  width spine weight  \\\n",
       "0      English                             96   242.0  218.0  18.0    390   \n",
       "1      English                            140   130.0  197.0  16.0    258   \n",
       "2          NaN                             cm   214.0  261.0  36.0   1628   \n",
       "3      English                            208   171.0  235.0  22.0    616   \n",
       "4      English                            112   111.0  180.0  11.0     74   \n",
       "...        ...                            ...     ...    ...   ...    ...   \n",
       "11568  English                            NaN   236.0  184.0  31.0    976   \n",
       "11569  English                            256   219.0  184.0  25.0    750   \n",
       "11570  English                            216   251.0  191.0  24.0    962   \n",
       "11571  English  240 , 8 unnumbered  of plates   130.0  198.0  19.0    242   \n",
       "11572  English                            160   219.0  305.0  17.0    904   \n",
       "\n",
       "      salesRank                                        short_blurb  \\\n",
       "0         108.0  Walking one day in the woods behind her cottag...   \n",
       "1         167.0  What is it like to grow up in a place where th...   \n",
       "2          63.0  \"Brandon Stanton's new book, Humans ... shows ...   \n",
       "3         285.0  Pac-Man. Mario. Minecraft. Doom. Ever since he...   \n",
       "4        2645.0  Taken from his 'Collection of Sand', these ess...   \n",
       "...         ...                                                ...   \n",
       "11568    1792.0                              STOP PRESS MARCH 2014   \n",
       "11569   31932.0  Waymaking is an anthology of prose, poetry and...   \n",
       "11570   33708.0  The tale of how the hero Theseus killed the Mi...   \n",
       "11571       NaN  An inspiring personal narrative of a weekend s...   \n",
       "11572       NaN  An authoritative cruising companion to the Sol...   \n",
       "\n",
       "                                              long_blurb  \\\n",
       "0      <p><b>\"Things of such magnitude deserve respec...   \n",
       "1      <p><b>A <i>NEW STATESMAN</i> AND <i>FINANCIAL ...   \n",
       "2                                                    NaN   \n",
       "3      <p><b>'A love letter to gaming in all its form...   \n",
       "4      <p><b><i>'When the last fire goes out, time to...   \n",
       "...                                                  ...   \n",
       "11568                                                NaN   \n",
       "11569  <p><strong>Winner: Mountain Literature (Non Fi...   \n",
       "11570  <p><b>'Charlotte Higgins's <i>Red Thread</i> i...   \n",
       "11571  Kim Sturgess was a weekend sailor: he enjoyed ...   \n",
       "11572  The Solent is the spiritual home of sailing an...   \n",
       "\n",
       "                                             blurbReview  \n",
       "0      <b>Exquisite drawings and thoughtful annotatio...  \n",
       "1      <b>It&#39;s rare for a book of poems to repeat...  \n",
       "2                                                    NaN  \n",
       "3      <i>Gamish</i> is a <b>fascinating </b>read. <b...  \n",
       "4                                                    NaN  \n",
       "...                                                  ...  \n",
       "11568                                                NaN  \n",
       "11569                                                NaN  \n",
       "11570  <b>Charlotte Higgins&#39;s <i>Red Thread</i> i...  \n",
       "11571  \"Sail the glorious and challenging coast of Br...  \n",
       "11572  \"The layout is clear and content good&hellip; ...  \n",
       "\n",
       "[11573 rows x 27 columns]"
      ]
     },
     "execution_count": 157,
     "metadata": {},
     "output_type": "execute_result"
    }
   ],
   "source": [
    "bookstore_df"
   ]
  },
  {
   "cell_type": "markdown",
   "id": "acce2c2f",
   "metadata": {},
   "source": [
    "Standardizing the heading"
   ]
  },
  {
   "cell_type": "code",
   "execution_count": 158,
   "id": "69e151ce",
   "metadata": {},
   "outputs": [
    {
     "data": {
      "text/plain": [
       "Index(['isbn', 'publication_date', 'euro_price', 'discount_euro', 'type',\n",
       "       'category', 'link_book_page', 'name', 'subtitle', 'edition', 'author',\n",
       "       'gbp_price', 'discount_gbp', 'isSecondHand', 'publisher',\n",
       "       'published_country', 'imprint', 'language', 'no_of_pages', 'height',\n",
       "       'width', 'spine', 'weight', 'salesRank', 'short_blurb', 'long_blurb',\n",
       "       'blurbReview'],\n",
       "      dtype='object')"
      ]
     },
     "execution_count": 158,
     "metadata": {},
     "output_type": "execute_result"
    }
   ],
   "source": [
    "bookstore_df.columns"
   ]
  },
  {
   "cell_type": "code",
   "execution_count": 159,
   "id": "4697c943",
   "metadata": {},
   "outputs": [],
   "source": [
    "def rename_columns(bookstore_df):\n",
    "    bookstore_df = bookstore_df.rename(columns={\"isSecondHand\":\"second_hand\", \"category\":\"genre\", \"name\":\"title\", \"no_of_pages\":\"number_of_pages\", \"salesRank\":\"sales_rank\", \"blurbReview\":\"blurb_review\"})\n",
    "    return bookstore_df"
   ]
  },
  {
   "cell_type": "code",
   "execution_count": 160,
   "id": "db3ec1fb",
   "metadata": {},
   "outputs": [],
   "source": [
    "bookstore_df = rename_columns(bookstore_df)"
   ]
  },
  {
   "cell_type": "code",
   "execution_count": 161,
   "id": "64c7fa48",
   "metadata": {},
   "outputs": [
    {
     "data": {
      "text/plain": [
       "Index(['isbn', 'publication_date', 'euro_price', 'discount_euro', 'type',\n",
       "       'genre', 'link_book_page', 'title', 'subtitle', 'edition', 'author',\n",
       "       'gbp_price', 'discount_gbp', 'second_hand', 'publisher',\n",
       "       'published_country', 'imprint', 'language', 'number_of_pages', 'height',\n",
       "       'width', 'spine', 'weight', 'sales_rank', 'short_blurb', 'long_blurb',\n",
       "       'blurb_review'],\n",
       "      dtype='object')"
      ]
     },
     "execution_count": 161,
     "metadata": {},
     "output_type": "execute_result"
    }
   ],
   "source": [
    "bookstore_df.columns"
   ]
  },
  {
   "cell_type": "markdown",
   "id": "8da57dcd",
   "metadata": {},
   "source": [
    "#### Exploring the data"
   ]
  },
  {
   "cell_type": "markdown",
   "id": "6f4a4f03",
   "metadata": {},
   "source": [
    "Check the datatype"
   ]
  },
  {
   "cell_type": "code",
   "execution_count": 162,
   "id": "7582197e",
   "metadata": {},
   "outputs": [
    {
     "data": {
      "text/plain": [
       "isbn                   int64\n",
       "publication_date      object\n",
       "euro_price           float64\n",
       "discount_euro        float64\n",
       "type                  object\n",
       "genre                 object\n",
       "link_book_page        object\n",
       "title                 object\n",
       "subtitle              object\n",
       "edition               object\n",
       "author                object\n",
       "gbp_price            float64\n",
       "discount_gbp         float64\n",
       "second_hand             bool\n",
       "publisher             object\n",
       "published_country     object\n",
       "imprint               object\n",
       "language              object\n",
       "number_of_pages       object\n",
       "height               float64\n",
       "width                float64\n",
       "spine                float64\n",
       "weight                 int64\n",
       "sales_rank           float64\n",
       "short_blurb           object\n",
       "long_blurb            object\n",
       "blurb_review          object\n",
       "dtype: object"
      ]
     },
     "execution_count": 162,
     "metadata": {},
     "output_type": "execute_result"
    }
   ],
   "source": [
    "bookstore_df.dtypes"
   ]
  },
  {
   "cell_type": "code",
   "execution_count": 163,
   "id": "1fa464d7",
   "metadata": {},
   "outputs": [],
   "source": [
    "# The column 'number of pages' has a wrong datatype, it should be integer not object"
   ]
  },
  {
   "cell_type": "code",
   "execution_count": 164,
   "id": "79f941f3",
   "metadata": {},
   "outputs": [
    {
     "data": {
      "text/plain": [
       "(11573, 27)"
      ]
     },
     "execution_count": 164,
     "metadata": {},
     "output_type": "execute_result"
    }
   ],
   "source": [
    "#Get the number of rows and columns\n",
    "bookstore_df.shape"
   ]
  },
  {
   "cell_type": "code",
   "execution_count": 165,
   "id": "ea1a49b6",
   "metadata": {},
   "outputs": [
    {
     "name": "stdout",
     "output_type": "stream",
     "text": [
      "            isbn publication_date  euro_price  discount_euro        type  \\\n",
      "0  9781780724379      08 Oct 2020       13.63           2.92   Hardback    \n",
      "1  9780141992150      05 Nov 2020       11.03            NaN  Paperback    \n",
      "2  9781250114297      06 Oct 2020       32.97            NaN   Hardback    \n",
      "3  9781846149481      05 Nov 2020       19.11           2.97   Hardback    \n",
      "4  9780241472859      24 Sep 2020        4.25           2.36  Paperback    \n",
      "\n",
      "          genre                                     link_book_page  \\\n",
      "0  artanddesign  /bookshop/product/Secrets-of-a-Devon-Wood-by-J...   \n",
      "1  artanddesign  /bookshop/product/Poor-by-Caleb-Femi-author/97...   \n",
      "2  artanddesign  /bookshop/product/Humans-by-Brandon-Stanton-au...   \n",
      "3  artanddesign  /bookshop/product/Gamish-by-Edward-Ross-author...   \n",
      "4  artanddesign  /bookshop/product/The-Narrative-of-Trajans-Col...   \n",
      "\n",
      "                              title                     subtitle  \\\n",
      "0           Secrets of a Devon Wood             A Nature Journal   \n",
      "1                              Poor                          NaN   \n",
      "2                            Humans                          NaN   \n",
      "3                            Gamish  A Graphic History of Gaming   \n",
      "4  The Narrative of Trajan's Column                          NaN   \n",
      "\n",
      "         edition  ... language  number_of_pages  height  width spine weight  \\\n",
      "0            NaN  ...  English               96   242.0  218.0  18.0    390   \n",
      "1            NaN  ...  English              140   130.0  197.0  16.0    258   \n",
      "2  First edition  ...      NaN               cm   214.0  261.0  36.0   1628   \n",
      "3            NaN  ...  English              208   171.0  235.0  22.0    616   \n",
      "4            NaN  ...  English              112   111.0  180.0  11.0     74   \n",
      "\n",
      "  sales_rank                                        short_blurb  \\\n",
      "0      108.0  Walking one day in the woods behind her cottag...   \n",
      "1      167.0  What is it like to grow up in a place where th...   \n",
      "2       63.0  \"Brandon Stanton's new book, Humans ... shows ...   \n",
      "3      285.0  Pac-Man. Mario. Minecraft. Doom. Ever since he...   \n",
      "4     2645.0  Taken from his 'Collection of Sand', these ess...   \n",
      "\n",
      "                                          long_blurb  \\\n",
      "0  <p><b>\"Things of such magnitude deserve respec...   \n",
      "1  <p><b>A <i>NEW STATESMAN</i> AND <i>FINANCIAL ...   \n",
      "2                                                NaN   \n",
      "3  <p><b>'A love letter to gaming in all its form...   \n",
      "4  <p><b><i>'When the last fire goes out, time to...   \n",
      "\n",
      "                                        blurb_review  \n",
      "0  <b>Exquisite drawings and thoughtful annotatio...  \n",
      "1  <b>It&#39;s rare for a book of poems to repeat...  \n",
      "2                                                NaN  \n",
      "3  <i>Gamish</i> is a <b>fascinating </b>read. <b...  \n",
      "4                                                NaN  \n",
      "\n",
      "[5 rows x 27 columns]\n"
     ]
    }
   ],
   "source": [
    "print(bookstore_df.head())"
   ]
  },
  {
   "cell_type": "markdown",
   "id": "e63c9126",
   "metadata": {},
   "source": [
    "### Numberical variables"
   ]
  },
  {
   "cell_type": "code",
   "execution_count": 166,
   "id": "088775c6",
   "metadata": {},
   "outputs": [],
   "source": [
    "def create_numerical_df():\n",
    "    numerical = bookstore_df.select_dtypes(include = np.number)\n",
    "    return numerical"
   ]
  },
  {
   "cell_type": "code",
   "execution_count": 167,
   "id": "829f188a",
   "metadata": {},
   "outputs": [],
   "source": [
    "numerical = create_numerical_df()"
   ]
  },
  {
   "cell_type": "code",
   "execution_count": 168,
   "id": "c1aa184e",
   "metadata": {},
   "outputs": [
    {
     "data": {
      "text/html": [
       "<div>\n",
       "<style scoped>\n",
       "    .dataframe tbody tr th:only-of-type {\n",
       "        vertical-align: middle;\n",
       "    }\n",
       "\n",
       "    .dataframe tbody tr th {\n",
       "        vertical-align: top;\n",
       "    }\n",
       "\n",
       "    .dataframe thead th {\n",
       "        text-align: right;\n",
       "    }\n",
       "</style>\n",
       "<table border=\"1\" class=\"dataframe\">\n",
       "  <thead>\n",
       "    <tr style=\"text-align: right;\">\n",
       "      <th></th>\n",
       "      <th>isbn</th>\n",
       "      <th>euro_price</th>\n",
       "      <th>discount_euro</th>\n",
       "      <th>gbp_price</th>\n",
       "      <th>discount_gbp</th>\n",
       "      <th>height</th>\n",
       "      <th>width</th>\n",
       "      <th>spine</th>\n",
       "      <th>weight</th>\n",
       "      <th>sales_rank</th>\n",
       "    </tr>\n",
       "  </thead>\n",
       "  <tbody>\n",
       "    <tr>\n",
       "      <th>0</th>\n",
       "      <td>9781780724379</td>\n",
       "      <td>13.63</td>\n",
       "      <td>2.92</td>\n",
       "      <td>10.40</td>\n",
       "      <td>4.59</td>\n",
       "      <td>242.0</td>\n",
       "      <td>218.0</td>\n",
       "      <td>18.0</td>\n",
       "      <td>390</td>\n",
       "      <td>108.0</td>\n",
       "    </tr>\n",
       "    <tr>\n",
       "      <th>1</th>\n",
       "      <td>9780141992150</td>\n",
       "      <td>11.03</td>\n",
       "      <td>NaN</td>\n",
       "      <td>9.99</td>\n",
       "      <td>0.00</td>\n",
       "      <td>130.0</td>\n",
       "      <td>197.0</td>\n",
       "      <td>16.0</td>\n",
       "      <td>258</td>\n",
       "      <td>167.0</td>\n",
       "    </tr>\n",
       "    <tr>\n",
       "      <th>2</th>\n",
       "      <td>9781250114297</td>\n",
       "      <td>32.97</td>\n",
       "      <td>NaN</td>\n",
       "      <td>22.37</td>\n",
       "      <td>4.62</td>\n",
       "      <td>214.0</td>\n",
       "      <td>261.0</td>\n",
       "      <td>36.0</td>\n",
       "      <td>1628</td>\n",
       "      <td>63.0</td>\n",
       "    </tr>\n",
       "    <tr>\n",
       "      <th>3</th>\n",
       "      <td>9781846149481</td>\n",
       "      <td>19.11</td>\n",
       "      <td>2.97</td>\n",
       "      <td>13.99</td>\n",
       "      <td>6.01</td>\n",
       "      <td>171.0</td>\n",
       "      <td>235.0</td>\n",
       "      <td>22.0</td>\n",
       "      <td>616</td>\n",
       "      <td>285.0</td>\n",
       "    </tr>\n",
       "    <tr>\n",
       "      <th>4</th>\n",
       "      <td>9780241472859</td>\n",
       "      <td>4.25</td>\n",
       "      <td>2.36</td>\n",
       "      <td>3.68</td>\n",
       "      <td>2.31</td>\n",
       "      <td>111.0</td>\n",
       "      <td>180.0</td>\n",
       "      <td>11.0</td>\n",
       "      <td>74</td>\n",
       "      <td>2645.0</td>\n",
       "    </tr>\n",
       "    <tr>\n",
       "      <th>...</th>\n",
       "      <td>...</td>\n",
       "      <td>...</td>\n",
       "      <td>...</td>\n",
       "      <td>...</td>\n",
       "      <td>...</td>\n",
       "      <td>...</td>\n",
       "      <td>...</td>\n",
       "      <td>...</td>\n",
       "      <td>...</td>\n",
       "      <td>...</td>\n",
       "    </tr>\n",
       "    <tr>\n",
       "      <th>11568</th>\n",
       "      <td>9781250038821</td>\n",
       "      <td>25.32</td>\n",
       "      <td>NaN</td>\n",
       "      <td>18.99</td>\n",
       "      <td>3.00</td>\n",
       "      <td>236.0</td>\n",
       "      <td>184.0</td>\n",
       "      <td>31.0</td>\n",
       "      <td>976</td>\n",
       "      <td>1792.0</td>\n",
       "    </tr>\n",
       "    <tr>\n",
       "      <th>11569</th>\n",
       "      <td>9781910240755</td>\n",
       "      <td>19.83</td>\n",
       "      <td>0.03</td>\n",
       "      <td>14.99</td>\n",
       "      <td>3.00</td>\n",
       "      <td>219.0</td>\n",
       "      <td>184.0</td>\n",
       "      <td>25.0</td>\n",
       "      <td>750</td>\n",
       "      <td>31932.0</td>\n",
       "    </tr>\n",
       "    <tr>\n",
       "      <th>11570</th>\n",
       "      <td>9781910702390</td>\n",
       "      <td>25.10</td>\n",
       "      <td>2.51</td>\n",
       "      <td>18.73</td>\n",
       "      <td>6.27</td>\n",
       "      <td>251.0</td>\n",
       "      <td>191.0</td>\n",
       "      <td>24.0</td>\n",
       "      <td>962</td>\n",
       "      <td>33708.0</td>\n",
       "    </tr>\n",
       "    <tr>\n",
       "      <th>11571</th>\n",
       "      <td>9781912177059</td>\n",
       "      <td>11.39</td>\n",
       "      <td>1.85</td>\n",
       "      <td>9.16</td>\n",
       "      <td>2.83</td>\n",
       "      <td>130.0</td>\n",
       "      <td>198.0</td>\n",
       "      <td>19.0</td>\n",
       "      <td>242</td>\n",
       "      <td>NaN</td>\n",
       "    </tr>\n",
       "    <tr>\n",
       "      <th>11572</th>\n",
       "      <td>9781909911468</td>\n",
       "      <td>31.62</td>\n",
       "      <td>7.02</td>\n",
       "      <td>24.31</td>\n",
       "      <td>10.68</td>\n",
       "      <td>219.0</td>\n",
       "      <td>305.0</td>\n",
       "      <td>17.0</td>\n",
       "      <td>904</td>\n",
       "      <td>NaN</td>\n",
       "    </tr>\n",
       "  </tbody>\n",
       "</table>\n",
       "<p>11573 rows × 10 columns</p>\n",
       "</div>"
      ],
      "text/plain": [
       "                isbn  euro_price  discount_euro  gbp_price  discount_gbp  \\\n",
       "0      9781780724379       13.63           2.92      10.40          4.59   \n",
       "1      9780141992150       11.03            NaN       9.99          0.00   \n",
       "2      9781250114297       32.97            NaN      22.37          4.62   \n",
       "3      9781846149481       19.11           2.97      13.99          6.01   \n",
       "4      9780241472859        4.25           2.36       3.68          2.31   \n",
       "...              ...         ...            ...        ...           ...   \n",
       "11568  9781250038821       25.32            NaN      18.99          3.00   \n",
       "11569  9781910240755       19.83           0.03      14.99          3.00   \n",
       "11570  9781910702390       25.10           2.51      18.73          6.27   \n",
       "11571  9781912177059       11.39           1.85       9.16          2.83   \n",
       "11572  9781909911468       31.62           7.02      24.31         10.68   \n",
       "\n",
       "       height  width  spine  weight  sales_rank  \n",
       "0       242.0  218.0   18.0     390       108.0  \n",
       "1       130.0  197.0   16.0     258       167.0  \n",
       "2       214.0  261.0   36.0    1628        63.0  \n",
       "3       171.0  235.0   22.0     616       285.0  \n",
       "4       111.0  180.0   11.0      74      2645.0  \n",
       "...       ...    ...    ...     ...         ...  \n",
       "11568   236.0  184.0   31.0     976      1792.0  \n",
       "11569   219.0  184.0   25.0     750     31932.0  \n",
       "11570   251.0  191.0   24.0     962     33708.0  \n",
       "11571   130.0  198.0   19.0     242         NaN  \n",
       "11572   219.0  305.0   17.0     904         NaN  \n",
       "\n",
       "[11573 rows x 10 columns]"
      ]
     },
     "execution_count": 168,
     "metadata": {},
     "output_type": "execute_result"
    }
   ],
   "source": [
    "numerical"
   ]
  },
  {
   "cell_type": "code",
   "execution_count": 169,
   "id": "3efa4797",
   "metadata": {},
   "outputs": [
    {
     "data": {
      "text/plain": [
       "array([[<AxesSubplot:title={'center':'isbn'}>,\n",
       "        <AxesSubplot:title={'center':'euro_price'}>,\n",
       "        <AxesSubplot:title={'center':'discount_euro'}>],\n",
       "       [<AxesSubplot:title={'center':'gbp_price'}>,\n",
       "        <AxesSubplot:title={'center':'discount_gbp'}>,\n",
       "        <AxesSubplot:title={'center':'height'}>],\n",
       "       [<AxesSubplot:title={'center':'width'}>,\n",
       "        <AxesSubplot:title={'center':'spine'}>,\n",
       "        <AxesSubplot:title={'center':'weight'}>],\n",
       "       [<AxesSubplot:title={'center':'sales_rank'}>, <AxesSubplot:>,\n",
       "        <AxesSubplot:>]], dtype=object)"
      ]
     },
     "execution_count": 169,
     "metadata": {},
     "output_type": "execute_result"
    },
    {
     "data": {
      "image/png": "[encoded data removed]",
      "text/plain": [
       "<Figure size 864x864 with 12 Axes>"
      ]
     },
     "metadata": {
      "needs_background": "light"
     },
     "output_type": "display_data"
    }
   ],
   "source": [
    "numerical.hist(figsize=(12,12))"
   ]
  },
  {
   "cell_type": "markdown",
   "id": "27b65da1",
   "metadata": {},
   "source": [
    "#### Checking the nan values for the numerical variables"
   ]
  },
  {
   "cell_type": "code",
   "execution_count": 170,
   "id": "54351dd3",
   "metadata": {},
   "outputs": [],
   "source": [
    "null_numerical=numerical.columns[numerical.isnull().any()]"
   ]
  },
  {
   "cell_type": "code",
   "execution_count": 171,
   "id": "60821a4b",
   "metadata": {},
   "outputs": [
    {
     "data": {
      "text/plain": [
       "Index(['euro_price', 'discount_euro', 'height', 'width', 'spine',\n",
       "       'sales_rank'],\n",
       "      dtype='object')"
      ]
     },
     "execution_count": 171,
     "metadata": {},
     "output_type": "execute_result"
    }
   ],
   "source": [
    "null_numerical"
   ]
  },
  {
   "cell_type": "code",
   "execution_count": 172,
   "id": "2e2bacee",
   "metadata": {},
   "outputs": [
    {
     "data": {
      "text/plain": [
       "euro_price         23\n",
       "discount_euro    3050\n",
       "height              4\n",
       "width               5\n",
       "spine              82\n",
       "sales_rank       2109\n",
       "dtype: int64"
      ]
     },
     "execution_count": 172,
     "metadata": {},
     "output_type": "execute_result"
    }
   ],
   "source": [
    "numerical[null_numerical].isnull().sum()"
   ]
  },
  {
   "cell_type": "markdown",
   "id": "34354fe6",
   "metadata": {},
   "source": [
    "##### Let's check every column and replace the nan values if possible"
   ]
  },
  {
   "cell_type": "markdown",
   "id": "357fbe3d",
   "metadata": {},
   "source": [
    "1. euro_price"
   ]
  },
  {
   "cell_type": "code",
   "execution_count": 173,
   "id": "b3ad0291",
   "metadata": {},
   "outputs": [
    {
     "data": {
      "text/plain": [
       "0        13.63\n",
       "1        11.03\n",
       "2        32.97\n",
       "3        19.11\n",
       "4         4.25\n",
       "         ...  \n",
       "11568    25.32\n",
       "11569    19.83\n",
       "11570    25.10\n",
       "11571    11.39\n",
       "11572    31.62\n",
       "Name: euro_price, Length: 11573, dtype: float64"
      ]
     },
     "execution_count": 173,
     "metadata": {},
     "output_type": "execute_result"
    }
   ],
   "source": [
    "numerical['euro_price'] "
   ]
  },
  {
   "cell_type": "code",
   "execution_count": 174,
   "id": "feaf259b",
   "metadata": {},
   "outputs": [],
   "source": [
    "# In the case of the missing euro_price values, we can replace them compared to the price in pound. \n",
    "#It just replaced it with the pound value, not the calculation\n",
    "bookstore_df.euro_price = bookstore_df.euro_price.fillna(bookstore_df.gbp_price)"
   ]
  },
  {
   "cell_type": "code",
   "execution_count": 175,
   "id": "ad9aed92",
   "metadata": {},
   "outputs": [
    {
     "data": {
      "text/plain": [
       "[13.63,\n",
       " 11.03,\n",
       " 32.97,\n",
       " 19.11,\n",
       " 4.25,\n",
       " 17.39,\n",
       " 17.46,\n",
       " 19.37,\n",
       " 12.02,\n",
       " 21.39,\n",
       " 20.9,\n",
       " 9.91,\n",
       " 13.78,\n",
       " 6.21,\n",
       " 32.51,\n",
       " 16.55,\n",
       " 41.68,\n",
       " 45.84,\n",
       " 44.15,\n",
       " 29.43,\n",
       " 26.03,\n",
       " 30.64,\n",
       " 16.32,\n",
       " 23.99,\n",
       " 28.97,\n",
       " 9.87,\n",
       " 34.41,\n",
       " 35.6,\n",
       " 43.27,\n",
       " 7.6,\n",
       " 33.07,\n",
       " 24.35,\n",
       " 18.29,\n",
       " 10.59,\n",
       " 25.31,\n",
       " 19.87,\n",
       " 7.23,\n",
       " 26.7,\n",
       " 19.24,\n",
       " 23.05,\n",
       " 27.53,\n",
       " 28.47,\n",
       " 18.16,\n",
       " 58.36,\n",
       " 9.72,\n",
       " 24.78,\n",
       " 30.88,\n",
       " 8.94,\n",
       " 10.71,\n",
       " 9.88,\n",
       " 23.39,\n",
       " 9.9,\n",
       " 9.66,\n",
       " 22.68,\n",
       " 19.17,\n",
       " 8.34,\n",
       " 10.15,\n",
       " 16.66,\n",
       " 32.49,\n",
       " 17.88,\n",
       " 16.39,\n",
       " 17.48,\n",
       " 24.27,\n",
       " 8.63,\n",
       " 30.44,\n",
       " 25.03,\n",
       " 50.93,\n",
       " 45.48,\n",
       " 19.15,\n",
       " 7.61,\n",
       " 7.86,\n",
       " 24.5,\n",
       " 34.42,\n",
       " 19.61,\n",
       " 29.3,\n",
       " 54.31,\n",
       " 49.99,\n",
       " 8.37,\n",
       " 32.76,\n",
       " 171.4,\n",
       " 37.72,\n",
       " 28.13,\n",
       " 45.34,\n",
       " 14.1,\n",
       " 38.94,\n",
       " 29.68,\n",
       " 22.33,\n",
       " 24.71,\n",
       " 36.33,\n",
       " 11.62,\n",
       " 31.55,\n",
       " 22.5,\n",
       " 48.31,\n",
       " 27.3,\n",
       " 28.46,\n",
       " 15.46,\n",
       " 23.92,\n",
       " 51.79,\n",
       " 31.64,\n",
       " 10.05,\n",
       " 23.8,\n",
       " 25.06,\n",
       " 16.56,\n",
       " 44.55,\n",
       " 74.71,\n",
       " 60.66,\n",
       " 53.22,\n",
       " 15.99,\n",
       " 10.7,\n",
       " 34.36,\n",
       " 31.81,\n",
       " 16.65,\n",
       " 25.5,\n",
       " 46.51,\n",
       " 36.37,\n",
       " 14.46,\n",
       " 44.75,\n",
       " 28.36,\n",
       " 22.79,\n",
       " 9.83,\n",
       " 14.92,\n",
       " 27.44,\n",
       " 17.74,\n",
       " 13.51,\n",
       " 13.98,\n",
       " 50.4,\n",
       " 3.16,\n",
       " 15.36,\n",
       " 23.95,\n",
       " 10.32,\n",
       " 25.55,\n",
       " 27.26,\n",
       " 31.72,\n",
       " 38.23,\n",
       " 9.43,\n",
       " 17.92,\n",
       " 7.72,\n",
       " 32.45,\n",
       " 16.78,\n",
       " 14.31,\n",
       " 18.84,\n",
       " 16.93,\n",
       " 25.19,\n",
       " 35.48,\n",
       " 38.78,\n",
       " 25.09,\n",
       " 22.52,\n",
       " 12.12,\n",
       " 32.77,\n",
       " 14.62,\n",
       " 9.11,\n",
       " 7.47,\n",
       " 7.27,\n",
       " 7.37,\n",
       " 10.0,\n",
       " 22.29,\n",
       " 10.62,\n",
       " 19.35,\n",
       " 18.69,\n",
       " 26.69,\n",
       " 25.2,\n",
       " 25.42,\n",
       " 14.88,\n",
       " 28.12,\n",
       " 36.99,\n",
       " 24.76,\n",
       " 41.95,\n",
       " 32.99,\n",
       " 22.59,\n",
       " 24.49,\n",
       " 61.2,\n",
       " 24.4,\n",
       " 24.42,\n",
       " 27.61,\n",
       " 9.65,\n",
       " 8.77,\n",
       " 22.4,\n",
       " 18.03,\n",
       " 25.64,\n",
       " 41.03,\n",
       " 13.21,\n",
       " 18.5,\n",
       " 27.47,\n",
       " 16.87,\n",
       " 20.02,\n",
       " 30.51,\n",
       " 13.44,\n",
       " 17.53,\n",
       " 17.17,\n",
       " 54.29,\n",
       " 46.83,\n",
       " 22.84,\n",
       " 20.64,\n",
       " 9.81,\n",
       " 12.68,\n",
       " 34.01,\n",
       " 24.87,\n",
       " 35.53,\n",
       " 18.76,\n",
       " 15.39,\n",
       " 41.62,\n",
       " 26.24,\n",
       " 22.67,\n",
       " 16.73,\n",
       " 44.82,\n",
       " 37.34,\n",
       " 38.08,\n",
       " 17.78,\n",
       " 15.08,\n",
       " 43.28,\n",
       " 26.64,\n",
       " 29.83,\n",
       " 65.33,\n",
       " 36.24,\n",
       " 21.96,\n",
       " 30.38,\n",
       " 27.12,\n",
       " 51.82,\n",
       " 26.01,\n",
       " 51.58,\n",
       " 26.12,\n",
       " 7.76,\n",
       " 37.24,\n",
       " 48.85,\n",
       " 33.75,\n",
       " 10.77,\n",
       " 19.77,\n",
       " 22.12,\n",
       " 32.02,\n",
       " 14.4,\n",
       " 15.98,\n",
       " 21.85,\n",
       " 20.22,\n",
       " 32.6,\n",
       " 63.96,\n",
       " 28.32,\n",
       " 44.07,\n",
       " 26.78,\n",
       " 34.96,\n",
       " 23.69,\n",
       " 10.14,\n",
       " 45.73,\n",
       " 40.29,\n",
       " 41.07,\n",
       " 39.92,\n",
       " 41.06,\n",
       " 54.27,\n",
       " 40.98,\n",
       " 5.43,\n",
       " 15.78,\n",
       " 14.13,\n",
       " 17.11,\n",
       " 32.9,\n",
       " 37.0,\n",
       " 30.66,\n",
       " 45.71,\n",
       " 16.21,\n",
       " 32.27,\n",
       " 19.55,\n",
       " 15.79,\n",
       " 21.81,\n",
       " 20.53,\n",
       " 22.19,\n",
       " 42.62,\n",
       " 15.43,\n",
       " 15.33,\n",
       " 43.82,\n",
       " 15.35,\n",
       " 15.26,\n",
       " 30.33,\n",
       " 13.88,\n",
       " 11.01,\n",
       " 11.94,\n",
       " 19.14,\n",
       " 47.46,\n",
       " 13.6,\n",
       " 26.09,\n",
       " 14.57,\n",
       " 37.8,\n",
       " 20.83,\n",
       " 2.48,\n",
       " 15.19,\n",
       " 23.89,\n",
       " 27.33,\n",
       " 12.01,\n",
       " 21.52,\n",
       " 9.35,\n",
       " 9.39,\n",
       " 45.23,\n",
       " 18.99,\n",
       " 12.65,\n",
       " 25.4,\n",
       " 9.67,\n",
       " 14.63,\n",
       " 11.04,\n",
       " 36.8,\n",
       " 14.47,\n",
       " 14.29,\n",
       " 22.05,\n",
       " 46.25,\n",
       " 30.73,\n",
       " 17.27,\n",
       " 31.66,\n",
       " 11.64,\n",
       " 15.2,\n",
       " 19.75,\n",
       " 29.61,\n",
       " 12.92,\n",
       " 23.91,\n",
       " 16.85,\n",
       " 27.09,\n",
       " 67.76,\n",
       " 41.39,\n",
       " 28.67,\n",
       " 39.64,\n",
       " 41.72,\n",
       " 18.23,\n",
       " 53.82,\n",
       " 16.23,\n",
       " 23.6,\n",
       " 11.92,\n",
       " 11.23,\n",
       " 20.75,\n",
       " 18.78,\n",
       " 7.53,\n",
       " 27.78,\n",
       " 13.85,\n",
       " 12.74,\n",
       " 46.59,\n",
       " 14.26,\n",
       " 9.52,\n",
       " 18.8,\n",
       " 31.47,\n",
       " 28.65,\n",
       " 7.46,\n",
       " 7.34,\n",
       " 17.59,\n",
       " 25.13,\n",
       " 9.55,\n",
       " 13.27,\n",
       " 10.13,\n",
       " 11.89,\n",
       " 8.42,\n",
       " 12.8,\n",
       " 17.28,\n",
       " 36.84,\n",
       " 17.19,\n",
       " 7.19,\n",
       " 77.73,\n",
       " 25.01,\n",
       " 29.96,\n",
       " 31.78,\n",
       " 19.71,\n",
       " 15.42,\n",
       " 13.84,\n",
       " 11.25,\n",
       " 29.42,\n",
       " 26.08,\n",
       " 19.26,\n",
       " 24.16,\n",
       " 16.67,\n",
       " 49.66,\n",
       " 29.21,\n",
       " 8.35,\n",
       " 66.12,\n",
       " 11.75,\n",
       " 31.58,\n",
       " 33.13,\n",
       " 12.53,\n",
       " 22.74,\n",
       " 17.35,\n",
       " 25.58,\n",
       " 30.13,\n",
       " 56.77,\n",
       " 69.63,\n",
       " 47.58,\n",
       " 30.09,\n",
       " 33.0,\n",
       " 45.25,\n",
       " 38.12,\n",
       " 28.88,\n",
       " 53.9,\n",
       " 26.25,\n",
       " 113.87,\n",
       " 69.4,\n",
       " 29.6,\n",
       " 21.19,\n",
       " 152.72,\n",
       " 26.5,\n",
       " 10.76,\n",
       " 20.8,\n",
       " 16.75,\n",
       " 52.91,\n",
       " 21.95,\n",
       " 21.06,\n",
       " 21.23,\n",
       " 15.94,\n",
       " 10.83,\n",
       " 10.24,\n",
       " 9.44,\n",
       " 11.78,\n",
       " 11.82,\n",
       " 38.93,\n",
       " 19.2,\n",
       " 18.27,\n",
       " 31.04,\n",
       " 35.72,\n",
       " 39.08,\n",
       " 24.14,\n",
       " 18.15,\n",
       " 15.34,\n",
       " 14.11,\n",
       " 37.44,\n",
       " 13.79,\n",
       " 31.11,\n",
       " 16.97,\n",
       " 40.8,\n",
       " 32.06,\n",
       " 13.89,\n",
       " 26.35,\n",
       " 49.61,\n",
       " 58.21,\n",
       " 10.81,\n",
       " 51.2,\n",
       " 54.45,\n",
       " 54.2,\n",
       " 38.75,\n",
       " 19.31,\n",
       " 11.6,\n",
       " 23.67,\n",
       " 36.39,\n",
       " 10.75,\n",
       " 20.71,\n",
       " 32.92,\n",
       " 15.53,\n",
       " 44.71,\n",
       " 14.0,\n",
       " 12.14,\n",
       " 8.67,\n",
       " 25.32,\n",
       " 8.22,\n",
       " 11.1,\n",
       " 10.48,\n",
       " 16.94,\n",
       " 63.86,\n",
       " 61.3,\n",
       " 13.04,\n",
       " 18.37,\n",
       " 21.09,\n",
       " 14.03,\n",
       " 29.94,\n",
       " 29.34,\n",
       " 50.55,\n",
       " 28.14,\n",
       " 38.05,\n",
       " 15.87,\n",
       " 59.01,\n",
       " 44.12,\n",
       " 25.33,\n",
       " 42.1,\n",
       " 42.71,\n",
       " 17.0,\n",
       " 11.91,\n",
       " 43.26,\n",
       " 6.15,\n",
       " 37.6,\n",
       " 18.98,\n",
       " 24.51,\n",
       " 8.56,\n",
       " 38.14,\n",
       " 14.91,\n",
       " 20.34,\n",
       " 9.46,\n",
       " 9.74,\n",
       " 39.85,\n",
       " 18.51,\n",
       " 20.65,\n",
       " 24.0,\n",
       " 20.63,\n",
       " 13.86,\n",
       " 6.87,\n",
       " 9.19,\n",
       " 12.99,\n",
       " 9.3,\n",
       " 17.99,\n",
       " 18.52,\n",
       " 11.4,\n",
       " 20.1,\n",
       " 20.48,\n",
       " 10.51,\n",
       " 7.66,\n",
       " 15.17,\n",
       " 19.99,\n",
       " 8.82,\n",
       " 17.81,\n",
       " 10.11,\n",
       " 30.49,\n",
       " 19.16,\n",
       " 12.28,\n",
       " 23.82,\n",
       " 22.06,\n",
       " 28.71,\n",
       " 18.33,\n",
       " 7.1,\n",
       " 23.74,\n",
       " 8.97,\n",
       " 7.82,\n",
       " 17.67,\n",
       " 9.14,\n",
       " 24.57,\n",
       " 7.06,\n",
       " 18.05,\n",
       " 18.94,\n",
       " 17.56,\n",
       " 30.32,\n",
       " 10.16,\n",
       " 8.05,\n",
       " 13.65,\n",
       " 9.04,\n",
       " 18.11,\n",
       " 21.8,\n",
       " 26.48,\n",
       " 10.36,\n",
       " 18.59,\n",
       " 10.18,\n",
       " 16.9,\n",
       " 9.37,\n",
       " 13.19,\n",
       " 15.44,\n",
       " 23.79,\n",
       " 22.03,\n",
       " 8.92,\n",
       " 8.0,\n",
       " 10.22,\n",
       " 15.56,\n",
       " 9.12,\n",
       " 4.43,\n",
       " 20.97,\n",
       " 6.96,\n",
       " 18.86,\n",
       " 10.33,\n",
       " 9.48,\n",
       " 19.69,\n",
       " 16.4,\n",
       " 19.04,\n",
       " 15.52,\n",
       " 37.77,\n",
       " 10.07,\n",
       " 15.58,\n",
       " 8.18,\n",
       " 19.79,\n",
       " 9.69,\n",
       " 16.34,\n",
       " 10.99,\n",
       " 19.18,\n",
       " 23.14,\n",
       " 14.33,\n",
       " 19.1,\n",
       " 19.59,\n",
       " 10.97,\n",
       " 19.74,\n",
       " 9.8,\n",
       " 10.45,\n",
       " 19.32,\n",
       " 33.16,\n",
       " 16.84,\n",
       " 16.74,\n",
       " 18.77,\n",
       " 19.81,\n",
       " 12.25,\n",
       " 15.97,\n",
       " 18.0,\n",
       " 16.28,\n",
       " 10.26,\n",
       " 8.52,\n",
       " 7.31,\n",
       " 9.89,\n",
       " 9.03,\n",
       " 9.93,\n",
       " 10.89,\n",
       " 9.98,\n",
       " 13.76,\n",
       " 15.6,\n",
       " 17.49,\n",
       " 18.28,\n",
       " 11.31,\n",
       " 17.65,\n",
       " 32.54,\n",
       " 10.4,\n",
       " 21.58,\n",
       " 22.86,\n",
       " 15.11,\n",
       " 10.49,\n",
       " 8.88,\n",
       " 11.86,\n",
       " 17.63,\n",
       " 16.12,\n",
       " 10.66,\n",
       " 15.3,\n",
       " 16.68,\n",
       " 20.09,\n",
       " 22.24,\n",
       " 15.06,\n",
       " 9.6,\n",
       " 10.2,\n",
       " 25.02,\n",
       " 18.01,\n",
       " 21.03,\n",
       " 11.71,\n",
       " 18.47,\n",
       " 9.4,\n",
       " 14.32,\n",
       " 10.01,\n",
       " 9.17,\n",
       " 9.02,\n",
       " 9.1,\n",
       " 23.62,\n",
       " 11.49,\n",
       " 12.19,\n",
       " 10.93,\n",
       " 25.77,\n",
       " 9.08,\n",
       " 19.92,\n",
       " 10.63,\n",
       " 13.14,\n",
       " 19.43,\n",
       " 19.86,\n",
       " 9.73,\n",
       " 17.43,\n",
       " 12.59,\n",
       " 19.66,\n",
       " 9.32,\n",
       " 8.78,\n",
       " 8.24,\n",
       " 19.7,\n",
       " 12.39,\n",
       " 20.39,\n",
       " 28.95,\n",
       " 22.88,\n",
       " 14.83,\n",
       " 17.41,\n",
       " 33.84,\n",
       " 16.03,\n",
       " 13.16,\n",
       " 13.8,\n",
       " 25.94,\n",
       " 9.61,\n",
       " 26.1,\n",
       " 2.51,\n",
       " 17.29,\n",
       " 19.29,\n",
       " 10.23,\n",
       " 15.24,\n",
       " 14.34,\n",
       " 10.08,\n",
       " 13.57,\n",
       " 9.21,\n",
       " 20.56,\n",
       " 10.25,\n",
       " 10.06,\n",
       " 16.58,\n",
       " 9.22,\n",
       " nan,\n",
       " 38.71,\n",
       " 9.34,\n",
       " 10.54,\n",
       " 13.33,\n",
       " 9.56,\n",
       " 12.17,\n",
       " 11.2,\n",
       " 14.66,\n",
       " 10.3,\n",
       " 9.47,\n",
       " 19.47,\n",
       " 18.82,\n",
       " 19.82,\n",
       " 16.7,\n",
       " 10.94,\n",
       " 10.88,\n",
       " 9.0,\n",
       " 12.16,\n",
       " 10.69,\n",
       " 16.42,\n",
       " 16.86,\n",
       " 9.57,\n",
       " 10.78,\n",
       " 22.02,\n",
       " 12.33,\n",
       " 13.31,\n",
       " 14.75,\n",
       " 8.57,\n",
       " 14.79,\n",
       " 18.92,\n",
       " 10.1,\n",
       " 18.39,\n",
       " 8.9,\n",
       " 13.22,\n",
       " 14.99,\n",
       " 9.79,\n",
       " 11.58,\n",
       " 9.18,\n",
       " 8.23,\n",
       " 15.14,\n",
       " 10.46,\n",
       " 20.07,\n",
       " 18.26,\n",
       " 9.16,\n",
       " 11.83,\n",
       " 9.7,\n",
       " 19.52,\n",
       " 9.58,\n",
       " 12.77,\n",
       " 3.43,\n",
       " 17.06,\n",
       " 27.43,\n",
       " 16.22,\n",
       " 12.3,\n",
       " 9.63,\n",
       " 22.14,\n",
       " 30.27,\n",
       " 9.62,\n",
       " 19.07,\n",
       " 11.55,\n",
       " 18.62,\n",
       " 10.98,\n",
       " 27.95,\n",
       " 28.5,\n",
       " 14.44,\n",
       " 17.8,\n",
       " 9.71,\n",
       " 9.28,\n",
       " 45.78,\n",
       " 16.61,\n",
       " 13.75,\n",
       " 38.1,\n",
       " 8.72,\n",
       " 9.53,\n",
       " 18.2,\n",
       " 10.95,\n",
       " 15.64,\n",
       " 8.16,\n",
       " 12.82,\n",
       " 18.18,\n",
       " 24.13,\n",
       " 10.85,\n",
       " 17.94,\n",
       " 12.43,\n",
       " 22.15,\n",
       " 16.35,\n",
       " 7.67,\n",
       " 8.93,\n",
       " 11.11,\n",
       " 13.96,\n",
       " 22.46,\n",
       " 19.83,\n",
       " 18.6,\n",
       " 22.08,\n",
       " 14.7,\n",
       " 25.22,\n",
       " 20.21,\n",
       " 13.25,\n",
       " 23.45,\n",
       " 24.7,\n",
       " 20.74,\n",
       " 18.91,\n",
       " 21.56,\n",
       " 13.24,\n",
       " 10.9,\n",
       " 34.1,\n",
       " 29.63,\n",
       " 9.84,\n",
       " 8.91,\n",
       " 29.67,\n",
       " 15.8,\n",
       " 21.79,\n",
       " 12.54,\n",
       " 20.47,\n",
       " 5.48,\n",
       " 23.4,\n",
       " 13.48,\n",
       " 8.84,\n",
       " 20.54,\n",
       " 15.55,\n",
       " 13.38,\n",
       " 12.5,\n",
       " 13.56,\n",
       " 10.6,\n",
       " 7.85,\n",
       " 53.56,\n",
       " 12.97,\n",
       " 6.8,\n",
       " 8.49,\n",
       " 18.06,\n",
       " 21.17,\n",
       " 4.76,\n",
       " 24.8,\n",
       " 41.56,\n",
       " 12.03,\n",
       " 7.32,\n",
       " 28.66,\n",
       " 15.47,\n",
       " 15.45,\n",
       " 30.16,\n",
       " 11.18,\n",
       " 18.07,\n",
       " 18.44,\n",
       " 15.81,\n",
       " 11.13,\n",
       " 13.66,\n",
       " 13.7,\n",
       " 13.71,\n",
       " 49.4,\n",
       " 19.05,\n",
       " 19.6,\n",
       " 17.76,\n",
       " 8.33,\n",
       " 47.93,\n",
       " 37.63,\n",
       " 50.94,\n",
       " 59.37,\n",
       " 33.68,\n",
       " 38.77,\n",
       " 14.06,\n",
       " 33.79,\n",
       " 33.3,\n",
       " 43.23,\n",
       " 55.8,\n",
       " 11.54,\n",
       " 11.43,\n",
       " 6.47,\n",
       " 15.89,\n",
       " 22.81,\n",
       " 22.93,\n",
       " 8.95,\n",
       " 29.11,\n",
       " 11.72,\n",
       " 37.65,\n",
       " 53.77,\n",
       " 11.05,\n",
       " 27.14,\n",
       " 39.71,\n",
       " 13.03,\n",
       " 15.21,\n",
       " 17.01,\n",
       " 13.59,\n",
       " 12.6,\n",
       " 15.95,\n",
       " 21.14,\n",
       " 13.92,\n",
       " 9.24,\n",
       " 9.95,\n",
       " 18.88,\n",
       " 22.92,\n",
       " 7.63,\n",
       " 12.71,\n",
       " 29.09,\n",
       " 14.36,\n",
       " 24.56,\n",
       " 14.37,\n",
       " 22.37,\n",
       " 20.24,\n",
       " 12.2,\n",
       " 14.02,\n",
       " 17.98,\n",
       " 28.57,\n",
       " 46.77,\n",
       " 46.36,\n",
       " 33.04,\n",
       " 29.74,\n",
       " 69.74,\n",
       " 21.25,\n",
       " 39.58,\n",
       " 81.26,\n",
       " 18.65,\n",
       " 22.34,\n",
       " 22.28,\n",
       " 39.32,\n",
       " 16.52,\n",
       " 14.35,\n",
       " 9.78,\n",
       " 24.37,\n",
       " 31.21,\n",
       " 10.37,\n",
       " 20.87,\n",
       " 12.08,\n",
       " 53.13,\n",
       " 59.92,\n",
       " 35.38,\n",
       " 34.63,\n",
       " 37.36,\n",
       " 17.45,\n",
       " 8.66,\n",
       " 7.97,\n",
       " 17.37,\n",
       " 13.54,\n",
       " 37.57,\n",
       " 63.88,\n",
       " 35.26,\n",
       " 61.29,\n",
       " 56.91,\n",
       " 17.5,\n",
       " 15.32,\n",
       " 12.0,\n",
       " 87.32,\n",
       " 43.12,\n",
       " 53.44,\n",
       " 61.73,\n",
       " 42.33,\n",
       " 15.28,\n",
       " 13.4,\n",
       " 16.96,\n",
       " 12.21,\n",
       " 19.06,\n",
       " 13.32,\n",
       " 14.39,\n",
       " 28.18,\n",
       " 22.22,\n",
       " 43.01,\n",
       " 20.4,\n",
       " 10.61,\n",
       " 43.85,\n",
       " 11.36,\n",
       " 17.96,\n",
       " 67.2,\n",
       " 14.41,\n",
       " 42.14,\n",
       " 7.02,\n",
       " 20.14,\n",
       " 20.44,\n",
       " 7.58,\n",
       " 10.17,\n",
       " 54.43,\n",
       " 50.8,\n",
       " 25.43,\n",
       " 20.7,\n",
       " 13.82,\n",
       " 43.45,\n",
       " 24.17,\n",
       " 23.35,\n",
       " 12.57,\n",
       " 86.15,\n",
       " 63.18,\n",
       " 42.08,\n",
       " 44.44,\n",
       " 37.67,\n",
       " 40.91,\n",
       " 16.77,\n",
       " 39.36,\n",
       " 49.44,\n",
       " 43.56,\n",
       " 41.24,\n",
       " 42.96,\n",
       " 36.22,\n",
       " 55.65,\n",
       " 15.71,\n",
       " 48.95,\n",
       " 7.35,\n",
       " 19.21,\n",
       " 106.45,\n",
       " 39.57,\n",
       " 67.08,\n",
       " 44.92,\n",
       " 15.62,\n",
       " 43.51,\n",
       " 7.36,\n",
       " 17.09,\n",
       " 12.13,\n",
       " 39.45,\n",
       " 7.4,\n",
       " 22.96,\n",
       " 23.66,\n",
       " 7.45,\n",
       " 7.98,\n",
       " 23.18,\n",
       " 15.61,\n",
       " 13.0,\n",
       " 20.89,\n",
       " 40.64,\n",
       " 15.73,\n",
       " 12.31,\n",
       " 39.43,\n",
       " 43.04,\n",
       " 11.38,\n",
       " 98.62,\n",
       " 24.84,\n",
       " 20.91,\n",
       " 24.6,\n",
       " 14.51,\n",
       " 19.44,\n",
       " 19.85,\n",
       " 14.77,\n",
       " 9.99,\n",
       " 10.67,\n",
       " 42.54,\n",
       " 22.07,\n",
       " 39.38,\n",
       " 12.78,\n",
       " 35.79,\n",
       " 13.34,\n",
       " 41.85,\n",
       " ...]"
      ]
     },
     "execution_count": 175,
     "metadata": {},
     "output_type": "execute_result"
    }
   ],
   "source": [
    "numerical['euro_price'].unique().tolist()"
   ]
  },
  {
   "cell_type": "code",
   "execution_count": 176,
   "id": "bfc61ed4",
   "metadata": {},
   "outputs": [
    {
     "data": {
      "text/plain": [
       "23"
      ]
     },
     "execution_count": 176,
     "metadata": {},
     "output_type": "execute_result"
    }
   ],
   "source": [
    "numerical['euro_price'].isnull().sum()"
   ]
  },
  {
   "cell_type": "code",
   "execution_count": 177,
   "id": "c07afa01",
   "metadata": {},
   "outputs": [
    {
     "data": {
      "text/plain": [
       "0"
      ]
     },
     "execution_count": 177,
     "metadata": {},
     "output_type": "execute_result"
    }
   ],
   "source": [
    "bookstore_df['euro_price'].isnull().sum()"
   ]
  },
  {
   "cell_type": "code",
   "execution_count": 178,
   "id": "4960f736",
   "metadata": {},
   "outputs": [
    {
     "data": {
      "text/plain": [
       "<AxesSubplot:>"
      ]
     },
     "execution_count": 178,
     "metadata": {},
     "output_type": "execute_result"
    },
    {
     "data": {
      "image/png": "[encoded data removed]",
      "text/plain": [
       "<Figure size 432x288 with 1 Axes>"
      ]
     },
     "metadata": {
      "needs_background": "light"
     },
     "output_type": "display_data"
    }
   ],
   "source": [
    "numerical.boxplot(column = 'euro_price', return_type = 'axes')"
   ]
  },
  {
   "cell_type": "markdown",
   "id": "0247e7b9",
   "metadata": {},
   "source": [
    "2. discount_euro"
   ]
  },
  {
   "cell_type": "code",
   "execution_count": 179,
   "id": "585ea01b",
   "metadata": {},
   "outputs": [
    {
     "data": {
      "text/plain": [
       "0        2.92\n",
       "1         NaN\n",
       "2         NaN\n",
       "3        2.97\n",
       "4        2.36\n",
       "         ... \n",
       "11568     NaN\n",
       "11569    0.03\n",
       "11570    2.51\n",
       "11571    1.85\n",
       "11572    7.02\n",
       "Name: discount_euro, Length: 11573, dtype: float64"
      ]
     },
     "execution_count": 179,
     "metadata": {},
     "output_type": "execute_result"
    }
   ],
   "source": [
    "#Does the NaN values of the discount_euro means there is no discount or are they missing?\n",
    "numerical['discount_euro']"
   ]
  },
  {
   "cell_type": "code",
   "execution_count": 180,
   "id": "dcc50766",
   "metadata": {},
   "outputs": [
    {
     "data": {
      "text/plain": [
       "0"
      ]
     },
     "execution_count": 180,
     "metadata": {},
     "output_type": "execute_result"
    }
   ],
   "source": [
    "#Check if the NaN represents the 0.0 value by looking for 0.0\n",
    "zero_discount = numerical['discount_euro'] == 0\n",
    "zero_discount.sum()"
   ]
  },
  {
   "cell_type": "markdown",
   "id": "196a8ce7",
   "metadata": {},
   "source": [
    "We have 0 Zeros, so we can assume there is no discount.\n",
    "In this case we can replace the NaN with 0.0 later."
   ]
  },
  {
   "cell_type": "code",
   "execution_count": 181,
   "id": "33410855",
   "metadata": {},
   "outputs": [
    {
     "data": {
      "text/plain": [
       "0         4.59\n",
       "1         0.00\n",
       "2         4.62\n",
       "3         6.01\n",
       "4         2.31\n",
       "         ...  \n",
       "11568     3.00\n",
       "11569     3.00\n",
       "11570     6.27\n",
       "11571     2.83\n",
       "11572    10.68\n",
       "Name: discount_gbp, Length: 11573, dtype: float64"
      ]
     },
     "execution_count": 181,
     "metadata": {},
     "output_type": "execute_result"
    }
   ],
   "source": [
    "#Let's compare it with the discount_gbp to be sure, here we see 0.0 when there is no discount\n",
    "numerical['discount_gbp']"
   ]
  },
  {
   "cell_type": "markdown",
   "id": "38dfd5fa",
   "metadata": {},
   "source": [
    "Replace nan values in the discount_euro with 0.0"
   ]
  },
  {
   "cell_type": "code",
   "execution_count": 182,
   "id": "dd30bf9e",
   "metadata": {},
   "outputs": [],
   "source": [
    "bookstore_df['discount_euro'].fillna(0, inplace = True)"
   ]
  },
  {
   "cell_type": "code",
   "execution_count": 183,
   "id": "88fd5c58",
   "metadata": {},
   "outputs": [
    {
     "data": {
      "text/plain": [
       "3050"
      ]
     },
     "execution_count": 183,
     "metadata": {},
     "output_type": "execute_result"
    }
   ],
   "source": [
    "#Check if there still NaN values\n",
    "numerical['discount_euro'].isnull().sum()"
   ]
  },
  {
   "cell_type": "code",
   "execution_count": 184,
   "id": "5b8c0666",
   "metadata": {},
   "outputs": [
    {
     "data": {
      "text/plain": [
       "0"
      ]
     },
     "execution_count": 184,
     "metadata": {},
     "output_type": "execute_result"
    }
   ],
   "source": [
    "bookstore_df['discount_euro'].isnull().sum()"
   ]
  },
  {
   "cell_type": "code",
   "execution_count": 185,
   "id": "c916e07d",
   "metadata": {},
   "outputs": [
    {
     "data": {
      "text/plain": [
       "0        2.92\n",
       "1         NaN\n",
       "2         NaN\n",
       "3        2.97\n",
       "4        2.36\n",
       "         ... \n",
       "11568     NaN\n",
       "11569    0.03\n",
       "11570    2.51\n",
       "11571    1.85\n",
       "11572    7.02\n",
       "Name: discount_euro, Length: 11573, dtype: float64"
      ]
     },
     "execution_count": 185,
     "metadata": {},
     "output_type": "execute_result"
    }
   ],
   "source": [
    "numerical['discount_euro']"
   ]
  },
  {
   "cell_type": "markdown",
   "id": "5ad1866d",
   "metadata": {},
   "source": [
    "3. height, width and spine"
   ]
  },
  {
   "cell_type": "code",
   "execution_count": 186,
   "id": "dbe31349",
   "metadata": {},
   "outputs": [],
   "source": [
    "# We can replace the missing value with mean, median or mode, if it makes sense"
   ]
  },
  {
   "cell_type": "code",
   "execution_count": 187,
   "id": "7c6bfe00",
   "metadata": {},
   "outputs": [
    {
     "data": {
      "text/plain": [
       "188.83810182383957"
      ]
     },
     "execution_count": 187,
     "metadata": {},
     "output_type": "execute_result"
    }
   ],
   "source": [
    "numerical['height'].mean()"
   ]
  },
  {
   "cell_type": "code",
   "execution_count": 188,
   "id": "1d2d1160",
   "metadata": {},
   "outputs": [],
   "source": [
    "bookstore_df['height'].fillna(189, inplace = True)"
   ]
  },
  {
   "cell_type": "code",
   "execution_count": 189,
   "id": "e553a3f9",
   "metadata": {},
   "outputs": [
    {
     "data": {
      "text/plain": [
       "0"
      ]
     },
     "execution_count": 189,
     "metadata": {},
     "output_type": "execute_result"
    }
   ],
   "source": [
    "bookstore_df['height'].isnull().sum()\n"
   ]
  },
  {
   "cell_type": "code",
   "execution_count": 190,
   "id": "ed1ffeaf",
   "metadata": {},
   "outputs": [
    {
     "data": {
      "text/plain": [
       "200.6262102351314"
      ]
     },
     "execution_count": 190,
     "metadata": {},
     "output_type": "execute_result"
    }
   ],
   "source": [
    "bookstore_df['width'].mean()"
   ]
  },
  {
   "cell_type": "code",
   "execution_count": 191,
   "id": "05e7b75f",
   "metadata": {},
   "outputs": [
    {
     "data": {
      "text/plain": [
       "5"
      ]
     },
     "execution_count": 191,
     "metadata": {},
     "output_type": "execute_result"
    }
   ],
   "source": [
    "bookstore_df['width'].isnull().sum()"
   ]
  },
  {
   "cell_type": "code",
   "execution_count": 192,
   "id": "5c1671e6",
   "metadata": {},
   "outputs": [],
   "source": [
    "bookstore_df['width'].fillna(200, inplace = True)"
   ]
  },
  {
   "cell_type": "code",
   "execution_count": 193,
   "id": "a5cf11e5",
   "metadata": {},
   "outputs": [
    {
     "data": {
      "text/plain": [
       "0"
      ]
     },
     "execution_count": 193,
     "metadata": {},
     "output_type": "execute_result"
    }
   ],
   "source": [
    "bookstore_df['width'].isnull().sum()"
   ]
  },
  {
   "cell_type": "code",
   "execution_count": 194,
   "id": "7a5ed49d",
   "metadata": {},
   "outputs": [
    {
     "data": {
      "text/plain": [
       "580.0"
      ]
     },
     "execution_count": 194,
     "metadata": {},
     "output_type": "execute_result"
    }
   ],
   "source": [
    "# Looks like an outlier, \n",
    "numerical['spine'].max()"
   ]
  },
  {
   "cell_type": "code",
   "execution_count": 195,
   "id": "101f990c",
   "metadata": {},
   "outputs": [
    {
     "data": {
      "text/plain": [
       "<AxesSubplot:>"
      ]
     },
     "execution_count": 195,
     "metadata": {},
     "output_type": "execute_result"
    },
    {
     "data": {
      "image/png": "[encoded data removed]",
      "text/plain": [
       "<Figure size 432x288 with 1 Axes>"
      ]
     },
     "metadata": {
      "needs_background": "light"
     },
     "output_type": "display_data"
    }
   ],
   "source": [
    "numerical.boxplot(column = 'spine', return_type = 'axes')"
   ]
  },
  {
   "cell_type": "code",
   "execution_count": 196,
   "id": "e30e3e26",
   "metadata": {},
   "outputs": [
    {
     "data": {
      "text/plain": [
       "1.0"
      ]
     },
     "execution_count": 196,
     "metadata": {},
     "output_type": "execute_result"
    }
   ],
   "source": [
    "numerical['spine'].min()"
   ]
  },
  {
   "cell_type": "code",
   "execution_count": 197,
   "id": "868ac04a",
   "metadata": {},
   "outputs": [
    {
     "data": {
      "text/plain": [
       "23.43460099208076"
      ]
     },
     "execution_count": 197,
     "metadata": {},
     "output_type": "execute_result"
    }
   ],
   "source": [
    "numerical['spine'].mean()"
   ]
  },
  {
   "cell_type": "code",
   "execution_count": 198,
   "id": "4b5ab277",
   "metadata": {},
   "outputs": [],
   "source": [
    "# Replacing the missing value with the mean\n",
    "bookstore_df['spine'].fillna(23, inplace = True)"
   ]
  },
  {
   "cell_type": "code",
   "execution_count": 199,
   "id": "affc006c",
   "metadata": {},
   "outputs": [
    {
     "data": {
      "text/plain": [
       "0"
      ]
     },
     "execution_count": 199,
     "metadata": {},
     "output_type": "execute_result"
    }
   ],
   "source": [
    "bookstore_df['spine'].isnull().sum()"
   ]
  },
  {
   "cell_type": "markdown",
   "id": "ceecbbd4",
   "metadata": {},
   "source": [
    "4. sales rank"
   ]
  },
  {
   "cell_type": "code",
   "execution_count": 200,
   "id": "ef95fc1a",
   "metadata": {},
   "outputs": [
    {
     "data": {
      "text/plain": [
       "0          108.0\n",
       "1          167.0\n",
       "2           63.0\n",
       "3          285.0\n",
       "4         2645.0\n",
       "          ...   \n",
       "11568     1792.0\n",
       "11569    31932.0\n",
       "11570    33708.0\n",
       "11571        NaN\n",
       "11572        NaN\n",
       "Name: sales_rank, Length: 11573, dtype: float64"
      ]
     },
     "execution_count": 200,
     "metadata": {},
     "output_type": "execute_result"
    }
   ],
   "source": [
    "numerical['sales_rank']"
   ]
  },
  {
   "cell_type": "code",
   "execution_count": 201,
   "id": "f5da60d7",
   "metadata": {
    "scrolled": true
   },
   "outputs": [
    {
     "data": {
      "text/plain": [
       "array([[<AxesSubplot:title={'center':'sales_rank'}>]], dtype=object)"
      ]
     },
     "execution_count": 201,
     "metadata": {},
     "output_type": "execute_result"
    },
    {
     "data": {
      "image/png": "[encoded data removed]",
      "text/plain": [
       "<Figure size 432x288 with 1 Axes>"
      ]
     },
     "metadata": {
      "needs_background": "light"
     },
     "output_type": "display_data"
    }
   ],
   "source": [
    "numerical.hist(column='sales_rank')"
   ]
  },
  {
   "cell_type": "code",
   "execution_count": 202,
   "id": "4b78e7b8",
   "metadata": {},
   "outputs": [
    {
     "data": {
      "text/plain": [
       "2109"
      ]
     },
     "execution_count": 202,
     "metadata": {},
     "output_type": "execute_result"
    }
   ],
   "source": [
    "numerical['sales_rank'].isnull().sum()"
   ]
  },
  {
   "cell_type": "code",
   "execution_count": 203,
   "id": "f88d9f72",
   "metadata": {},
   "outputs": [
    {
     "data": {
      "text/plain": [
       "16208.01849112426"
      ]
     },
     "execution_count": 203,
     "metadata": {},
     "output_type": "execute_result"
    }
   ],
   "source": [
    "numerical['sales_rank'].mean()"
   ]
  },
  {
   "cell_type": "code",
   "execution_count": 204,
   "id": "75cd42c0",
   "metadata": {},
   "outputs": [
    {
     "data": {
      "text/plain": [
       "12522.0"
      ]
     },
     "execution_count": 204,
     "metadata": {},
     "output_type": "execute_result"
    }
   ],
   "source": [
    "numerical['sales_rank'].median()"
   ]
  },
  {
   "cell_type": "code",
   "execution_count": 205,
   "id": "77309068",
   "metadata": {},
   "outputs": [
    {
     "data": {
      "text/plain": [
       "0    26271.0\n",
       "1    26917.0\n",
       "2    29792.0\n",
       "dtype: float64"
      ]
     },
     "execution_count": 205,
     "metadata": {},
     "output_type": "execute_result"
    }
   ],
   "source": [
    "numerical['sales_rank'].mode()"
   ]
  },
  {
   "cell_type": "code",
   "execution_count": 206,
   "id": "c12268f1",
   "metadata": {},
   "outputs": [
    {
     "data": {
      "text/html": [
       "<div>\n",
       "<style scoped>\n",
       "    .dataframe tbody tr th:only-of-type {\n",
       "        vertical-align: middle;\n",
       "    }\n",
       "\n",
       "    .dataframe tbody tr th {\n",
       "        vertical-align: top;\n",
       "    }\n",
       "\n",
       "    .dataframe thead th {\n",
       "        text-align: right;\n",
       "    }\n",
       "</style>\n",
       "<table border=\"1\" class=\"dataframe\">\n",
       "  <thead>\n",
       "    <tr style=\"text-align: right;\">\n",
       "      <th></th>\n",
       "      <th>publication_date</th>\n",
       "      <th>author</th>\n",
       "      <th>title</th>\n",
       "      <th>sales_rank</th>\n",
       "    </tr>\n",
       "  </thead>\n",
       "  <tbody>\n",
       "    <tr>\n",
       "      <th>0</th>\n",
       "      <td>08 Oct 2020</td>\n",
       "      <td>Jo Brown (author)</td>\n",
       "      <td>Secrets of a Devon Wood</td>\n",
       "      <td>108.0</td>\n",
       "    </tr>\n",
       "    <tr>\n",
       "      <th>1</th>\n",
       "      <td>05 Nov 2020</td>\n",
       "      <td>Caleb Femi (author)</td>\n",
       "      <td>Poor</td>\n",
       "      <td>167.0</td>\n",
       "    </tr>\n",
       "    <tr>\n",
       "      <th>2</th>\n",
       "      <td>06 Oct 2020</td>\n",
       "      <td>Brandon Stanton (author)</td>\n",
       "      <td>Humans</td>\n",
       "      <td>63.0</td>\n",
       "    </tr>\n",
       "    <tr>\n",
       "      <th>3</th>\n",
       "      <td>05 Nov 2020</td>\n",
       "      <td>Edward Ross (author)</td>\n",
       "      <td>Gamish</td>\n",
       "      <td>285.0</td>\n",
       "    </tr>\n",
       "    <tr>\n",
       "      <th>4</th>\n",
       "      <td>24 Sep 2020</td>\n",
       "      <td>Italo Calvino (author)</td>\n",
       "      <td>The Narrative of Trajan's Column</td>\n",
       "      <td>2645.0</td>\n",
       "    </tr>\n",
       "    <tr>\n",
       "      <th>...</th>\n",
       "      <td>...</td>\n",
       "      <td>...</td>\n",
       "      <td>...</td>\n",
       "      <td>...</td>\n",
       "    </tr>\n",
       "    <tr>\n",
       "      <th>11568</th>\n",
       "      <td>15 Oct 2013</td>\n",
       "      <td>Brandon Stanton (photographer)</td>\n",
       "      <td>Humans of New York</td>\n",
       "      <td>1792.0</td>\n",
       "    </tr>\n",
       "    <tr>\n",
       "      <th>11569</th>\n",
       "      <td>04 Oct 2018</td>\n",
       "      <td>Helen Mort (editor), Claire Carter (editor), H...</td>\n",
       "      <td>Waymaking</td>\n",
       "      <td>31932.0</td>\n",
       "    </tr>\n",
       "    <tr>\n",
       "      <th>11570</th>\n",
       "      <td>02 Aug 2018</td>\n",
       "      <td>Charlotte Higgins (author)</td>\n",
       "      <td>Red Thread</td>\n",
       "      <td>33708.0</td>\n",
       "    </tr>\n",
       "    <tr>\n",
       "      <th>11571</th>\n",
       "      <td>03 Oct 2017</td>\n",
       "      <td>Kim C. Sturgess (author)</td>\n",
       "      <td>Sailing Around Britain</td>\n",
       "      <td>NaN</td>\n",
       "    </tr>\n",
       "    <tr>\n",
       "      <th>11572</th>\n",
       "      <td>15 Dec 2015</td>\n",
       "      <td>Derek Aslett (author)</td>\n",
       "      <td>The Solent Cruising Companion</td>\n",
       "      <td>NaN</td>\n",
       "    </tr>\n",
       "  </tbody>\n",
       "</table>\n",
       "<p>11573 rows × 4 columns</p>\n",
       "</div>"
      ],
      "text/plain": [
       "      publication_date                                             author  \\\n",
       "0          08 Oct 2020                                  Jo Brown (author)   \n",
       "1          05 Nov 2020                                Caleb Femi (author)   \n",
       "2          06 Oct 2020                           Brandon Stanton (author)   \n",
       "3          05 Nov 2020                               Edward Ross (author)   \n",
       "4          24 Sep 2020                             Italo Calvino (author)   \n",
       "...                ...                                                ...   \n",
       "11568      15 Oct 2013                     Brandon Stanton (photographer)   \n",
       "11569      04 Oct 2018  Helen Mort (editor), Claire Carter (editor), H...   \n",
       "11570      02 Aug 2018                         Charlotte Higgins (author)   \n",
       "11571      03 Oct 2017                           Kim C. Sturgess (author)   \n",
       "11572      15 Dec 2015                              Derek Aslett (author)   \n",
       "\n",
       "                                  title  sales_rank  \n",
       "0               Secrets of a Devon Wood       108.0  \n",
       "1                                  Poor       167.0  \n",
       "2                                Humans        63.0  \n",
       "3                                Gamish       285.0  \n",
       "4      The Narrative of Trajan's Column      2645.0  \n",
       "...                                 ...         ...  \n",
       "11568                Humans of New York      1792.0  \n",
       "11569                         Waymaking     31932.0  \n",
       "11570                        Red Thread     33708.0  \n",
       "11571            Sailing Around Britain         NaN  \n",
       "11572     The Solent Cruising Companion         NaN  \n",
       "\n",
       "[11573 rows x 4 columns]"
      ]
     },
     "execution_count": 206,
     "metadata": {},
     "output_type": "execute_result"
    }
   ],
   "source": [
    "bookstore_df[['publication_date','author', 'title', 'sales_rank']]"
   ]
  },
  {
   "cell_type": "code",
   "execution_count": 207,
   "id": "6c983de7",
   "metadata": {},
   "outputs": [
    {
     "data": {
      "text/plain": [
       "104749.0"
      ]
     },
     "execution_count": 207,
     "metadata": {},
     "output_type": "execute_result"
    }
   ],
   "source": [
    "numerical['sales_rank'].max()"
   ]
  },
  {
   "cell_type": "code",
   "execution_count": 208,
   "id": "71e3492f",
   "metadata": {},
   "outputs": [],
   "source": [
    "bookstore_df['sales_rank'].fillna(0, inplace = True)"
   ]
  },
  {
   "cell_type": "code",
   "execution_count": 209,
   "id": "63971d04",
   "metadata": {},
   "outputs": [
    {
     "data": {
      "text/plain": [
       "0"
      ]
     },
     "execution_count": 209,
     "metadata": {},
     "output_type": "execute_result"
    }
   ],
   "source": [
    "bookstore_df['sales_rank'].isnull().sum()"
   ]
  },
  {
   "cell_type": "code",
   "execution_count": 210,
   "id": "86beb73a",
   "metadata": {},
   "outputs": [
    {
     "data": {
      "text/plain": [
       "array([[<AxesSubplot:title={'center':'sales_rank'}>]], dtype=object)"
      ]
     },
     "execution_count": 210,
     "metadata": {},
     "output_type": "execute_result"
    },
    {
     "data": {
      "image/png": "[encoded data removed]",
      "text/plain": [
       "<Figure size 432x288 with 1 Axes>"
      ]
     },
     "metadata": {
      "needs_background": "light"
     },
     "output_type": "display_data"
    }
   ],
   "source": [
    "numerical.hist(column='sales_rank')"
   ]
  },
  {
   "cell_type": "code",
   "execution_count": 211,
   "id": "7ff0e1ba",
   "metadata": {},
   "outputs": [
    {
     "data": {
      "text/plain": [
       "16208.01849112426"
      ]
     },
     "execution_count": 211,
     "metadata": {},
     "output_type": "execute_result"
    }
   ],
   "source": [
    "numerical['sales_rank'].mean()"
   ]
  },
  {
   "cell_type": "code",
   "execution_count": 212,
   "id": "897cd33a",
   "metadata": {},
   "outputs": [
    {
     "data": {
      "text/plain": [
       "Index(['euro_price', 'discount_euro', 'height', 'width', 'spine',\n",
       "       'sales_rank'],\n",
       "      dtype='object')"
      ]
     },
     "execution_count": 212,
     "metadata": {},
     "output_type": "execute_result"
    }
   ],
   "source": [
    "numerical.columns[numerical.isnull().any()]"
   ]
  },
  {
   "cell_type": "markdown",
   "id": "5cec00db",
   "metadata": {},
   "source": [
    "### Categorical variables"
   ]
  },
  {
   "cell_type": "code",
   "execution_count": 213,
   "id": "bce7910f",
   "metadata": {},
   "outputs": [],
   "source": [
    "def create_categorical_df():\n",
    "    categoricals = bookstore_df.select_dtypes('object')\n",
    "    return categoricals"
   ]
  },
  {
   "cell_type": "code",
   "execution_count": 214,
   "id": "0f656b07",
   "metadata": {},
   "outputs": [],
   "source": [
    "categoricals = create_categorical_df()"
   ]
  },
  {
   "cell_type": "code",
   "execution_count": 215,
   "id": "c614d066",
   "metadata": {},
   "outputs": [
    {
     "data": {
      "text/html": [
       "<div>\n",
       "<style scoped>\n",
       "    .dataframe tbody tr th:only-of-type {\n",
       "        vertical-align: middle;\n",
       "    }\n",
       "\n",
       "    .dataframe tbody tr th {\n",
       "        vertical-align: top;\n",
       "    }\n",
       "\n",
       "    .dataframe thead th {\n",
       "        text-align: right;\n",
       "    }\n",
       "</style>\n",
       "<table border=\"1\" class=\"dataframe\">\n",
       "  <thead>\n",
       "    <tr style=\"text-align: right;\">\n",
       "      <th></th>\n",
       "      <th>publication_date</th>\n",
       "      <th>type</th>\n",
       "      <th>genre</th>\n",
       "      <th>link_book_page</th>\n",
       "      <th>title</th>\n",
       "      <th>subtitle</th>\n",
       "      <th>edition</th>\n",
       "      <th>author</th>\n",
       "      <th>publisher</th>\n",
       "      <th>published_country</th>\n",
       "      <th>imprint</th>\n",
       "      <th>language</th>\n",
       "      <th>number_of_pages</th>\n",
       "      <th>short_blurb</th>\n",
       "      <th>long_blurb</th>\n",
       "      <th>blurb_review</th>\n",
       "    </tr>\n",
       "  </thead>\n",
       "  <tbody>\n",
       "    <tr>\n",
       "      <th>0</th>\n",
       "      <td>08 Oct 2020</td>\n",
       "      <td>Hardback</td>\n",
       "      <td>artanddesign</td>\n",
       "      <td>/bookshop/product/Secrets-of-a-Devon-Wood-by-J...</td>\n",
       "      <td>Secrets of a Devon Wood</td>\n",
       "      <td>A Nature Journal</td>\n",
       "      <td>NaN</td>\n",
       "      <td>Jo Brown (author)</td>\n",
       "      <td>Short Books</td>\n",
       "      <td>England</td>\n",
       "      <td>Short Books</td>\n",
       "      <td>English</td>\n",
       "      <td>96</td>\n",
       "      <td>Walking one day in the woods behind her cottag...</td>\n",
       "      <td>&lt;p&gt;&lt;b&gt;\"Things of such magnitude deserve respec...</td>\n",
       "      <td>&lt;b&gt;Exquisite drawings and thoughtful annotatio...</td>\n",
       "    </tr>\n",
       "    <tr>\n",
       "      <th>1</th>\n",
       "      <td>05 Nov 2020</td>\n",
       "      <td>Paperback</td>\n",
       "      <td>artanddesign</td>\n",
       "      <td>/bookshop/product/Poor-by-Caleb-Femi-author/97...</td>\n",
       "      <td>Poor</td>\n",
       "      <td>NaN</td>\n",
       "      <td>NaN</td>\n",
       "      <td>Caleb Femi (author)</td>\n",
       "      <td>Penguin Books Ltd</td>\n",
       "      <td>United Kingdom</td>\n",
       "      <td>Penguin Books</td>\n",
       "      <td>English</td>\n",
       "      <td>140</td>\n",
       "      <td>What is it like to grow up in a place where th...</td>\n",
       "      <td>&lt;p&gt;&lt;b&gt;A &lt;i&gt;NEW STATESMAN&lt;/i&gt; AND &lt;i&gt;FINANCIAL ...</td>\n",
       "      <td>&lt;b&gt;It&amp;#39;s rare for a book of poems to repeat...</td>\n",
       "    </tr>\n",
       "    <tr>\n",
       "      <th>2</th>\n",
       "      <td>06 Oct 2020</td>\n",
       "      <td>Hardback</td>\n",
       "      <td>artanddesign</td>\n",
       "      <td>/bookshop/product/Humans-by-Brandon-Stanton-au...</td>\n",
       "      <td>Humans</td>\n",
       "      <td>NaN</td>\n",
       "      <td>First edition</td>\n",
       "      <td>Brandon Stanton (author)</td>\n",
       "      <td>St. Martin's Press</td>\n",
       "      <td>New York (State)</td>\n",
       "      <td>St. Martin's Press</td>\n",
       "      <td>NaN</td>\n",
       "      <td>cm</td>\n",
       "      <td>\"Brandon Stanton's new book, Humans ... shows ...</td>\n",
       "      <td>NaN</td>\n",
       "      <td>NaN</td>\n",
       "    </tr>\n",
       "    <tr>\n",
       "      <th>3</th>\n",
       "      <td>05 Nov 2020</td>\n",
       "      <td>Hardback</td>\n",
       "      <td>artanddesign</td>\n",
       "      <td>/bookshop/product/Gamish-by-Edward-Ross-author...</td>\n",
       "      <td>Gamish</td>\n",
       "      <td>A Graphic History of Gaming</td>\n",
       "      <td>NaN</td>\n",
       "      <td>Edward Ross (author)</td>\n",
       "      <td>Penguin Books Ltd</td>\n",
       "      <td>England</td>\n",
       "      <td>Particular Books</td>\n",
       "      <td>English</td>\n",
       "      <td>208</td>\n",
       "      <td>Pac-Man. Mario. Minecraft. Doom. Ever since he...</td>\n",
       "      <td>&lt;p&gt;&lt;b&gt;'A love letter to gaming in all its form...</td>\n",
       "      <td>&lt;i&gt;Gamish&lt;/i&gt; is a &lt;b&gt;fascinating &lt;/b&gt;read. &lt;b...</td>\n",
       "    </tr>\n",
       "    <tr>\n",
       "      <th>4</th>\n",
       "      <td>24 Sep 2020</td>\n",
       "      <td>Paperback</td>\n",
       "      <td>artanddesign</td>\n",
       "      <td>/bookshop/product/The-Narrative-of-Trajans-Col...</td>\n",
       "      <td>The Narrative of Trajan's Column</td>\n",
       "      <td>NaN</td>\n",
       "      <td>NaN</td>\n",
       "      <td>Italo Calvino (author)</td>\n",
       "      <td>Penguin Books Ltd</td>\n",
       "      <td>England</td>\n",
       "      <td>Penguin Classics</td>\n",
       "      <td>English</td>\n",
       "      <td>112</td>\n",
       "      <td>Taken from his 'Collection of Sand', these ess...</td>\n",
       "      <td>&lt;p&gt;&lt;b&gt;&lt;i&gt;'When the last fire goes out, time to...</td>\n",
       "      <td>NaN</td>\n",
       "    </tr>\n",
       "    <tr>\n",
       "      <th>...</th>\n",
       "      <td>...</td>\n",
       "      <td>...</td>\n",
       "      <td>...</td>\n",
       "      <td>...</td>\n",
       "      <td>...</td>\n",
       "      <td>...</td>\n",
       "      <td>...</td>\n",
       "      <td>...</td>\n",
       "      <td>...</td>\n",
       "      <td>...</td>\n",
       "      <td>...</td>\n",
       "      <td>...</td>\n",
       "      <td>...</td>\n",
       "      <td>...</td>\n",
       "      <td>...</td>\n",
       "      <td>...</td>\n",
       "    </tr>\n",
       "    <tr>\n",
       "      <th>11568</th>\n",
       "      <td>15 Oct 2013</td>\n",
       "      <td>Hardback</td>\n",
       "      <td>travel</td>\n",
       "      <td>/bookshop/product/Humans-of-New-York-by-Brando...</td>\n",
       "      <td>Humans of New York</td>\n",
       "      <td>NaN</td>\n",
       "      <td>NaN</td>\n",
       "      <td>Brandon Stanton (photographer)</td>\n",
       "      <td>St. Martin's Press</td>\n",
       "      <td>New York (State)</td>\n",
       "      <td>St. Martin's Press</td>\n",
       "      <td>English</td>\n",
       "      <td>NaN</td>\n",
       "      <td>STOP PRESS MARCH 2014</td>\n",
       "      <td>NaN</td>\n",
       "      <td>NaN</td>\n",
       "    </tr>\n",
       "    <tr>\n",
       "      <th>11569</th>\n",
       "      <td>04 Oct 2018</td>\n",
       "      <td>Paperback</td>\n",
       "      <td>travel</td>\n",
       "      <td>/bookshop/product/Waymaking-by-Helen-Mort-edit...</td>\n",
       "      <td>Waymaking</td>\n",
       "      <td>An Anthology of Women's Adventure Writing, Poe...</td>\n",
       "      <td>NaN</td>\n",
       "      <td>Helen Mort (editor), Claire Carter (editor), H...</td>\n",
       "      <td>Vertebrate Publishing</td>\n",
       "      <td>England</td>\n",
       "      <td>Vertebrate Publishing</td>\n",
       "      <td>English</td>\n",
       "      <td>256</td>\n",
       "      <td>Waymaking is an anthology of prose, poetry and...</td>\n",
       "      <td>&lt;p&gt;&lt;strong&gt;Winner: Mountain Literature (Non Fi...</td>\n",
       "      <td>NaN</td>\n",
       "    </tr>\n",
       "    <tr>\n",
       "      <th>11570</th>\n",
       "      <td>02 Aug 2018</td>\n",
       "      <td>Hardback</td>\n",
       "      <td>travel</td>\n",
       "      <td>/bookshop/product/Red-Thread-by-Charlotte-Higg...</td>\n",
       "      <td>Red Thread</td>\n",
       "      <td>On Mazes and Labyrinths</td>\n",
       "      <td>NaN</td>\n",
       "      <td>Charlotte Higgins (author)</td>\n",
       "      <td>Random House</td>\n",
       "      <td>England</td>\n",
       "      <td>Jonathan Cape</td>\n",
       "      <td>English</td>\n",
       "      <td>216</td>\n",
       "      <td>The tale of how the hero Theseus killed the Mi...</td>\n",
       "      <td>&lt;p&gt;&lt;b&gt;'Charlotte Higgins's &lt;i&gt;Red Thread&lt;/i&gt; i...</td>\n",
       "      <td>&lt;b&gt;Charlotte Higgins&amp;#39;s &lt;i&gt;Red Thread&lt;/i&gt; i...</td>\n",
       "    </tr>\n",
       "    <tr>\n",
       "      <th>11571</th>\n",
       "      <td>03 Oct 2017</td>\n",
       "      <td>Paperback</td>\n",
       "      <td>travel</td>\n",
       "      <td>/bookshop/product/Sailing-Around-Britain-by-Ki...</td>\n",
       "      <td>Sailing Around Britain</td>\n",
       "      <td>NaN</td>\n",
       "      <td>Second edition</td>\n",
       "      <td>Kim C. Sturgess (author)</td>\n",
       "      <td>Fernhurst Books Limited</td>\n",
       "      <td>England</td>\n",
       "      <td>Fernhurst Books</td>\n",
       "      <td>English</td>\n",
       "      <td>240 , 8 unnumbered  of plates</td>\n",
       "      <td>An inspiring personal narrative of a weekend s...</td>\n",
       "      <td>Kim Sturgess was a weekend sailor: he enjoyed ...</td>\n",
       "      <td>\"Sail the glorious and challenging coast of Br...</td>\n",
       "    </tr>\n",
       "    <tr>\n",
       "      <th>11572</th>\n",
       "      <td>15 Dec 2015</td>\n",
       "      <td>Hardback</td>\n",
       "      <td>travel</td>\n",
       "      <td>/bookshop/product/The-Solent-Cruising-Companio...</td>\n",
       "      <td>The Solent Cruising Companion</td>\n",
       "      <td>A Yachtsman's Pilot and Cruising Guide to Port...</td>\n",
       "      <td>Third edition</td>\n",
       "      <td>Derek Aslett (author)</td>\n",
       "      <td>Fernhurst Books Limited</td>\n",
       "      <td>England</td>\n",
       "      <td>Fernhurst Books</td>\n",
       "      <td>English</td>\n",
       "      <td>160</td>\n",
       "      <td>An authoritative cruising companion to the Sol...</td>\n",
       "      <td>The Solent is the spiritual home of sailing an...</td>\n",
       "      <td>\"The layout is clear and content good&amp;hellip; ...</td>\n",
       "    </tr>\n",
       "  </tbody>\n",
       "</table>\n",
       "<p>11573 rows × 16 columns</p>\n",
       "</div>"
      ],
      "text/plain": [
       "      publication_date        type         genre  \\\n",
       "0          08 Oct 2020   Hardback   artanddesign   \n",
       "1          05 Nov 2020  Paperback   artanddesign   \n",
       "2          06 Oct 2020   Hardback   artanddesign   \n",
       "3          05 Nov 2020   Hardback   artanddesign   \n",
       "4          24 Sep 2020  Paperback   artanddesign   \n",
       "...                ...         ...           ...   \n",
       "11568      15 Oct 2013   Hardback         travel   \n",
       "11569      04 Oct 2018  Paperback         travel   \n",
       "11570      02 Aug 2018   Hardback         travel   \n",
       "11571      03 Oct 2017  Paperback         travel   \n",
       "11572      15 Dec 2015   Hardback         travel   \n",
       "\n",
       "                                          link_book_page  \\\n",
       "0      /bookshop/product/Secrets-of-a-Devon-Wood-by-J...   \n",
       "1      /bookshop/product/Poor-by-Caleb-Femi-author/97...   \n",
       "2      /bookshop/product/Humans-by-Brandon-Stanton-au...   \n",
       "3      /bookshop/product/Gamish-by-Edward-Ross-author...   \n",
       "4      /bookshop/product/The-Narrative-of-Trajans-Col...   \n",
       "...                                                  ...   \n",
       "11568  /bookshop/product/Humans-of-New-York-by-Brando...   \n",
       "11569  /bookshop/product/Waymaking-by-Helen-Mort-edit...   \n",
       "11570  /bookshop/product/Red-Thread-by-Charlotte-Higg...   \n",
       "11571  /bookshop/product/Sailing-Around-Britain-by-Ki...   \n",
       "11572  /bookshop/product/The-Solent-Cruising-Companio...   \n",
       "\n",
       "                                  title  \\\n",
       "0               Secrets of a Devon Wood   \n",
       "1                                  Poor   \n",
       "2                                Humans   \n",
       "3                                Gamish   \n",
       "4      The Narrative of Trajan's Column   \n",
       "...                                 ...   \n",
       "11568                Humans of New York   \n",
       "11569                         Waymaking   \n",
       "11570                        Red Thread   \n",
       "11571            Sailing Around Britain   \n",
       "11572     The Solent Cruising Companion   \n",
       "\n",
       "                                                subtitle         edition  \\\n",
       "0                                       A Nature Journal             NaN   \n",
       "1                                                    NaN             NaN   \n",
       "2                                                    NaN   First edition   \n",
       "3                            A Graphic History of Gaming             NaN   \n",
       "4                                                    NaN             NaN   \n",
       "...                                                  ...             ...   \n",
       "11568                                                NaN             NaN   \n",
       "11569  An Anthology of Women's Adventure Writing, Poe...             NaN   \n",
       "11570                            On Mazes and Labyrinths             NaN   \n",
       "11571                                                NaN  Second edition   \n",
       "11572  A Yachtsman's Pilot and Cruising Guide to Port...   Third edition   \n",
       "\n",
       "                                                  author  \\\n",
       "0                                      Jo Brown (author)   \n",
       "1                                    Caleb Femi (author)   \n",
       "2                               Brandon Stanton (author)   \n",
       "3                                   Edward Ross (author)   \n",
       "4                                 Italo Calvino (author)   \n",
       "...                                                  ...   \n",
       "11568                     Brandon Stanton (photographer)   \n",
       "11569  Helen Mort (editor), Claire Carter (editor), H...   \n",
       "11570                         Charlotte Higgins (author)   \n",
       "11571                           Kim C. Sturgess (author)   \n",
       "11572                              Derek Aslett (author)   \n",
       "\n",
       "                     publisher published_country                imprint  \\\n",
       "0                  Short Books           England            Short Books   \n",
       "1            Penguin Books Ltd    United Kingdom          Penguin Books   \n",
       "2           St. Martin's Press  New York (State)     St. Martin's Press   \n",
       "3            Penguin Books Ltd           England       Particular Books   \n",
       "4            Penguin Books Ltd           England       Penguin Classics   \n",
       "...                        ...               ...                    ...   \n",
       "11568       St. Martin's Press  New York (State)     St. Martin's Press   \n",
       "11569    Vertebrate Publishing           England  Vertebrate Publishing   \n",
       "11570             Random House           England          Jonathan Cape   \n",
       "11571  Fernhurst Books Limited           England        Fernhurst Books   \n",
       "11572  Fernhurst Books Limited           England        Fernhurst Books   \n",
       "\n",
       "      language                number_of_pages  \\\n",
       "0      English                             96   \n",
       "1      English                            140   \n",
       "2          NaN                             cm   \n",
       "3      English                            208   \n",
       "4      English                            112   \n",
       "...        ...                            ...   \n",
       "11568  English                            NaN   \n",
       "11569  English                            256   \n",
       "11570  English                            216   \n",
       "11571  English  240 , 8 unnumbered  of plates   \n",
       "11572  English                            160   \n",
       "\n",
       "                                             short_blurb  \\\n",
       "0      Walking one day in the woods behind her cottag...   \n",
       "1      What is it like to grow up in a place where th...   \n",
       "2      \"Brandon Stanton's new book, Humans ... shows ...   \n",
       "3      Pac-Man. Mario. Minecraft. Doom. Ever since he...   \n",
       "4      Taken from his 'Collection of Sand', these ess...   \n",
       "...                                                  ...   \n",
       "11568                              STOP PRESS MARCH 2014   \n",
       "11569  Waymaking is an anthology of prose, poetry and...   \n",
       "11570  The tale of how the hero Theseus killed the Mi...   \n",
       "11571  An inspiring personal narrative of a weekend s...   \n",
       "11572  An authoritative cruising companion to the Sol...   \n",
       "\n",
       "                                              long_blurb  \\\n",
       "0      <p><b>\"Things of such magnitude deserve respec...   \n",
       "1      <p><b>A <i>NEW STATESMAN</i> AND <i>FINANCIAL ...   \n",
       "2                                                    NaN   \n",
       "3      <p><b>'A love letter to gaming in all its form...   \n",
       "4      <p><b><i>'When the last fire goes out, time to...   \n",
       "...                                                  ...   \n",
       "11568                                                NaN   \n",
       "11569  <p><strong>Winner: Mountain Literature (Non Fi...   \n",
       "11570  <p><b>'Charlotte Higgins's <i>Red Thread</i> i...   \n",
       "11571  Kim Sturgess was a weekend sailor: he enjoyed ...   \n",
       "11572  The Solent is the spiritual home of sailing an...   \n",
       "\n",
       "                                            blurb_review  \n",
       "0      <b>Exquisite drawings and thoughtful annotatio...  \n",
       "1      <b>It&#39;s rare for a book of poems to repeat...  \n",
       "2                                                    NaN  \n",
       "3      <i>Gamish</i> is a <b>fascinating </b>read. <b...  \n",
       "4                                                    NaN  \n",
       "...                                                  ...  \n",
       "11568                                                NaN  \n",
       "11569                                                NaN  \n",
       "11570  <b>Charlotte Higgins&#39;s <i>Red Thread</i> i...  \n",
       "11571  \"Sail the glorious and challenging coast of Br...  \n",
       "11572  \"The layout is clear and content good&hellip; ...  \n",
       "\n",
       "[11573 rows x 16 columns]"
      ]
     },
     "execution_count": 215,
     "metadata": {},
     "output_type": "execute_result"
    }
   ],
   "source": [
    "categoricals"
   ]
  },
  {
   "cell_type": "markdown",
   "id": "04b58ce9",
   "metadata": {},
   "source": [
    "#### Checking the nan values for the categorical variables"
   ]
  },
  {
   "cell_type": "code",
   "execution_count": 216,
   "id": "2dabf23a",
   "metadata": {},
   "outputs": [],
   "source": [
    "null_cat=categoricals.columns[categoricals.isnull().any()]"
   ]
  },
  {
   "cell_type": "code",
   "execution_count": 217,
   "id": "bbfbbd86",
   "metadata": {},
   "outputs": [
    {
     "data": {
      "text/plain": [
       "Index(['publication_date', 'type', 'subtitle', 'edition', 'author',\n",
       "       'publisher', 'published_country', 'imprint', 'language',\n",
       "       'number_of_pages', 'short_blurb', 'long_blurb', 'blurb_review'],\n",
       "      dtype='object')"
      ]
     },
     "execution_count": 217,
     "metadata": {},
     "output_type": "execute_result"
    }
   ],
   "source": [
    "null_cat"
   ]
  },
  {
   "cell_type": "code",
   "execution_count": 218,
   "id": "5be9aca9",
   "metadata": {
    "scrolled": true
   },
   "outputs": [
    {
     "data": {
      "text/plain": [
       "publication_date        3\n",
       "type                    2\n",
       "subtitle             6064\n",
       "edition              7204\n",
       "author                 51\n",
       "publisher               5\n",
       "published_country     300\n",
       "imprint                 4\n",
       "language              686\n",
       "number_of_pages       485\n",
       "short_blurb           374\n",
       "long_blurb            584\n",
       "blurb_review         6395\n",
       "dtype: int64"
      ]
     },
     "execution_count": 218,
     "metadata": {},
     "output_type": "execute_result"
    }
   ],
   "source": [
    "categoricals[null_cat].isnull().sum()"
   ]
  },
  {
   "cell_type": "markdown",
   "id": "2cf77741",
   "metadata": {},
   "source": [
    "1. publication_date"
   ]
  },
  {
   "cell_type": "code",
   "execution_count": 219,
   "id": "ea518f99",
   "metadata": {},
   "outputs": [
    {
     "data": {
      "text/plain": [
       "0    01 Oct 2020\n",
       "dtype: object"
      ]
     },
     "execution_count": 219,
     "metadata": {},
     "output_type": "execute_result"
    }
   ],
   "source": [
    "# We have to replace the missing values with the most frequent value - mode\n",
    "bookstore_df['publication_date'].mode()"
   ]
  },
  {
   "cell_type": "code",
   "execution_count": 220,
   "id": "29be6c23",
   "metadata": {},
   "outputs": [],
   "source": [
    "# Replacing the missing value with the mode\n",
    "#bookstore_df['publication_date] = \n",
    "bookstore_df['publication_date'].fillna('01 Oct 2020', inplace=True)"
   ]
  },
  {
   "cell_type": "code",
   "execution_count": 221,
   "id": "03913450",
   "metadata": {},
   "outputs": [
    {
     "data": {
      "text/plain": [
       "0"
      ]
     },
     "execution_count": 221,
     "metadata": {},
     "output_type": "execute_result"
    }
   ],
   "source": [
    "bookstore_df['publication_date'].isnull().sum()"
   ]
  },
  {
   "cell_type": "markdown",
   "id": "5f27bf43",
   "metadata": {},
   "source": [
    "2. type"
   ]
  },
  {
   "cell_type": "code",
   "execution_count": 277,
   "id": "f0ee5016",
   "metadata": {},
   "outputs": [],
   "source": [
    "categoricals['type'].mode()\n",
    "bookstore_df['type'].fillna('Paperback', inplace=True)"
   ]
  },
  {
   "cell_type": "code",
   "execution_count": 278,
   "id": "4bec09bd",
   "metadata": {},
   "outputs": [
    {
     "data": {
      "text/plain": [
       "0"
      ]
     },
     "execution_count": 278,
     "metadata": {},
     "output_type": "execute_result"
    }
   ],
   "source": [
    "bookstore_df['type'].isnull().sum()"
   ]
  },
  {
   "cell_type": "markdown",
   "id": "f99b7ebf",
   "metadata": {},
   "source": [
    "3. subtitle"
   ]
  },
  {
   "cell_type": "code",
   "execution_count": 223,
   "id": "266d8598",
   "metadata": {},
   "outputs": [
    {
     "data": {
      "text/html": [
       "<div>\n",
       "<style scoped>\n",
       "    .dataframe tbody tr th:only-of-type {\n",
       "        vertical-align: middle;\n",
       "    }\n",
       "\n",
       "    .dataframe tbody tr th {\n",
       "        vertical-align: top;\n",
       "    }\n",
       "\n",
       "    .dataframe thead th {\n",
       "        text-align: right;\n",
       "    }\n",
       "</style>\n",
       "<table border=\"1\" class=\"dataframe\">\n",
       "  <thead>\n",
       "    <tr style=\"text-align: right;\">\n",
       "      <th></th>\n",
       "      <th>subtitle</th>\n",
       "      <th>title</th>\n",
       "      <th>author</th>\n",
       "      <th>number_of_pages</th>\n",
       "    </tr>\n",
       "  </thead>\n",
       "  <tbody>\n",
       "    <tr>\n",
       "      <th>0</th>\n",
       "      <td>A Nature Journal</td>\n",
       "      <td>Secrets of a Devon Wood</td>\n",
       "      <td>Jo Brown (author)</td>\n",
       "      <td>96</td>\n",
       "    </tr>\n",
       "    <tr>\n",
       "      <th>1</th>\n",
       "      <td>NaN</td>\n",
       "      <td>Poor</td>\n",
       "      <td>Caleb Femi (author)</td>\n",
       "      <td>140</td>\n",
       "    </tr>\n",
       "    <tr>\n",
       "      <th>2</th>\n",
       "      <td>NaN</td>\n",
       "      <td>Humans</td>\n",
       "      <td>Brandon Stanton (author)</td>\n",
       "      <td>cm</td>\n",
       "    </tr>\n",
       "    <tr>\n",
       "      <th>3</th>\n",
       "      <td>A Graphic History of Gaming</td>\n",
       "      <td>Gamish</td>\n",
       "      <td>Edward Ross (author)</td>\n",
       "      <td>208</td>\n",
       "    </tr>\n",
       "    <tr>\n",
       "      <th>4</th>\n",
       "      <td>NaN</td>\n",
       "      <td>The Narrative of Trajan's Column</td>\n",
       "      <td>Italo Calvino (author)</td>\n",
       "      <td>112</td>\n",
       "    </tr>\n",
       "    <tr>\n",
       "      <th>...</th>\n",
       "      <td>...</td>\n",
       "      <td>...</td>\n",
       "      <td>...</td>\n",
       "      <td>...</td>\n",
       "    </tr>\n",
       "    <tr>\n",
       "      <th>11568</th>\n",
       "      <td>NaN</td>\n",
       "      <td>Humans of New York</td>\n",
       "      <td>Brandon Stanton (photographer)</td>\n",
       "      <td>NaN</td>\n",
       "    </tr>\n",
       "    <tr>\n",
       "      <th>11569</th>\n",
       "      <td>An Anthology of Women's Adventure Writing, Poe...</td>\n",
       "      <td>Waymaking</td>\n",
       "      <td>Helen Mort (editor), Claire Carter (editor), H...</td>\n",
       "      <td>256</td>\n",
       "    </tr>\n",
       "    <tr>\n",
       "      <th>11570</th>\n",
       "      <td>On Mazes and Labyrinths</td>\n",
       "      <td>Red Thread</td>\n",
       "      <td>Charlotte Higgins (author)</td>\n",
       "      <td>216</td>\n",
       "    </tr>\n",
       "    <tr>\n",
       "      <th>11571</th>\n",
       "      <td>NaN</td>\n",
       "      <td>Sailing Around Britain</td>\n",
       "      <td>Kim C. Sturgess (author)</td>\n",
       "      <td>240 , 8 unnumbered  of plates</td>\n",
       "    </tr>\n",
       "    <tr>\n",
       "      <th>11572</th>\n",
       "      <td>A Yachtsman's Pilot and Cruising Guide to Port...</td>\n",
       "      <td>The Solent Cruising Companion</td>\n",
       "      <td>Derek Aslett (author)</td>\n",
       "      <td>160</td>\n",
       "    </tr>\n",
       "  </tbody>\n",
       "</table>\n",
       "<p>11573 rows × 4 columns</p>\n",
       "</div>"
      ],
      "text/plain": [
       "                                                subtitle  \\\n",
       "0                                       A Nature Journal   \n",
       "1                                                    NaN   \n",
       "2                                                    NaN   \n",
       "3                            A Graphic History of Gaming   \n",
       "4                                                    NaN   \n",
       "...                                                  ...   \n",
       "11568                                                NaN   \n",
       "11569  An Anthology of Women's Adventure Writing, Poe...   \n",
       "11570                            On Mazes and Labyrinths   \n",
       "11571                                                NaN   \n",
       "11572  A Yachtsman's Pilot and Cruising Guide to Port...   \n",
       "\n",
       "                                  title  \\\n",
       "0               Secrets of a Devon Wood   \n",
       "1                                  Poor   \n",
       "2                                Humans   \n",
       "3                                Gamish   \n",
       "4      The Narrative of Trajan's Column   \n",
       "...                                 ...   \n",
       "11568                Humans of New York   \n",
       "11569                         Waymaking   \n",
       "11570                        Red Thread   \n",
       "11571            Sailing Around Britain   \n",
       "11572     The Solent Cruising Companion   \n",
       "\n",
       "                                                  author  \\\n",
       "0                                      Jo Brown (author)   \n",
       "1                                    Caleb Femi (author)   \n",
       "2                               Brandon Stanton (author)   \n",
       "3                                   Edward Ross (author)   \n",
       "4                                 Italo Calvino (author)   \n",
       "...                                                  ...   \n",
       "11568                     Brandon Stanton (photographer)   \n",
       "11569  Helen Mort (editor), Claire Carter (editor), H...   \n",
       "11570                         Charlotte Higgins (author)   \n",
       "11571                           Kim C. Sturgess (author)   \n",
       "11572                              Derek Aslett (author)   \n",
       "\n",
       "                     number_of_pages  \n",
       "0                                 96  \n",
       "1                                140  \n",
       "2                                 cm  \n",
       "3                                208  \n",
       "4                                112  \n",
       "...                              ...  \n",
       "11568                            NaN  \n",
       "11569                            256  \n",
       "11570                            216  \n",
       "11571  240 , 8 unnumbered  of plates  \n",
       "11572                            160  \n",
       "\n",
       "[11573 rows x 4 columns]"
      ]
     },
     "execution_count": 223,
     "metadata": {},
     "output_type": "execute_result"
    }
   ],
   "source": [
    "categoricals[['subtitle', 'title', 'author', 'number_of_pages']]"
   ]
  },
  {
   "cell_type": "code",
   "execution_count": 224,
   "id": "35860a70",
   "metadata": {},
   "outputs": [
    {
     "data": {
      "text/plain": [
       "0.5239782251792966"
      ]
     },
     "execution_count": 224,
     "metadata": {},
     "output_type": "execute_result"
    }
   ],
   "source": [
    "# We have to check if nan means there is no subtitle? - 52 percent\n",
    "categoricals['subtitle'].isnull().mean()"
   ]
  },
  {
   "cell_type": "code",
   "execution_count": 275,
   "id": "291015ea",
   "metadata": {},
   "outputs": [],
   "source": [
    "# Replace it with ''\n",
    "bookstore_df.subtitle = bookstore_df.subtitle.fillna('')"
   ]
  },
  {
   "cell_type": "code",
   "execution_count": 279,
   "id": "99b05412",
   "metadata": {},
   "outputs": [
    {
     "data": {
      "text/plain": [
       "isbn                 0\n",
       "publication_date     0\n",
       "euro_price           0\n",
       "discount_euro        0\n",
       "type                 0\n",
       "genre                0\n",
       "link_book_page       0\n",
       "title                0\n",
       "subtitle             0\n",
       "author               0\n",
       "gbp_price            0\n",
       "discount_gbp         0\n",
       "second_hand          0\n",
       "publisher            0\n",
       "published_country    0\n",
       "imprint              0\n",
       "language             0\n",
       "number_of_pages      0\n",
       "height               0\n",
       "width                0\n",
       "spine                0\n",
       "weight               0\n",
       "sales_rank           0\n",
       "short_blurb          0\n",
       "long_blurb           0\n",
       "blurb_review         0\n",
       "dtype: int64"
      ]
     },
     "execution_count": 279,
     "metadata": {},
     "output_type": "execute_result"
    }
   ],
   "source": [
    "bookstore_df.isnull().sum()"
   ]
  },
  {
   "cell_type": "markdown",
   "id": "91b58d8e",
   "metadata": {},
   "source": [
    "4. edition"
   ]
  },
  {
   "cell_type": "code",
   "execution_count": 226,
   "id": "9ad048a9",
   "metadata": {},
   "outputs": [
    {
     "data": {
      "text/plain": [
       "0.6224833664564071"
      ]
     },
     "execution_count": 226,
     "metadata": {},
     "output_type": "execute_result"
    }
   ],
   "source": [
    "# 62% missing values - we have to drop the column\n",
    "categoricals['edition'].isnull().mean()"
   ]
  },
  {
   "cell_type": "code",
   "execution_count": 227,
   "id": "1379153a",
   "metadata": {},
   "outputs": [],
   "source": [
    "bookstore_df = bookstore_df.drop('edition', axis=1)"
   ]
  },
  {
   "cell_type": "code",
   "execution_count": 228,
   "id": "425d4687",
   "metadata": {},
   "outputs": [
    {
     "data": {
      "text/html": [
       "<div>\n",
       "<style scoped>\n",
       "    .dataframe tbody tr th:only-of-type {\n",
       "        vertical-align: middle;\n",
       "    }\n",
       "\n",
       "    .dataframe tbody tr th {\n",
       "        vertical-align: top;\n",
       "    }\n",
       "\n",
       "    .dataframe thead th {\n",
       "        text-align: right;\n",
       "    }\n",
       "</style>\n",
       "<table border=\"1\" class=\"dataframe\">\n",
       "  <thead>\n",
       "    <tr style=\"text-align: right;\">\n",
       "      <th></th>\n",
       "      <th>isbn</th>\n",
       "      <th>publication_date</th>\n",
       "      <th>euro_price</th>\n",
       "      <th>discount_euro</th>\n",
       "      <th>type</th>\n",
       "      <th>genre</th>\n",
       "      <th>link_book_page</th>\n",
       "      <th>title</th>\n",
       "      <th>subtitle</th>\n",
       "      <th>author</th>\n",
       "      <th>...</th>\n",
       "      <th>language</th>\n",
       "      <th>number_of_pages</th>\n",
       "      <th>height</th>\n",
       "      <th>width</th>\n",
       "      <th>spine</th>\n",
       "      <th>weight</th>\n",
       "      <th>sales_rank</th>\n",
       "      <th>short_blurb</th>\n",
       "      <th>long_blurb</th>\n",
       "      <th>blurb_review</th>\n",
       "    </tr>\n",
       "  </thead>\n",
       "  <tbody>\n",
       "    <tr>\n",
       "      <th>0</th>\n",
       "      <td>9781780724379</td>\n",
       "      <td>08 Oct 2020</td>\n",
       "      <td>13.63</td>\n",
       "      <td>2.92</td>\n",
       "      <td>Hardback</td>\n",
       "      <td>artanddesign</td>\n",
       "      <td>/bookshop/product/Secrets-of-a-Devon-Wood-by-J...</td>\n",
       "      <td>Secrets of a Devon Wood</td>\n",
       "      <td>A Nature Journal</td>\n",
       "      <td>Jo Brown (author)</td>\n",
       "      <td>...</td>\n",
       "      <td>English</td>\n",
       "      <td>96</td>\n",
       "      <td>242.0</td>\n",
       "      <td>218.0</td>\n",
       "      <td>18.0</td>\n",
       "      <td>390</td>\n",
       "      <td>108.0</td>\n",
       "      <td>Walking one day in the woods behind her cottag...</td>\n",
       "      <td>&lt;p&gt;&lt;b&gt;\"Things of such magnitude deserve respec...</td>\n",
       "      <td>&lt;b&gt;Exquisite drawings and thoughtful annotatio...</td>\n",
       "    </tr>\n",
       "    <tr>\n",
       "      <th>1</th>\n",
       "      <td>9780141992150</td>\n",
       "      <td>05 Nov 2020</td>\n",
       "      <td>11.03</td>\n",
       "      <td>0.00</td>\n",
       "      <td>Paperback</td>\n",
       "      <td>artanddesign</td>\n",
       "      <td>/bookshop/product/Poor-by-Caleb-Femi-author/97...</td>\n",
       "      <td>Poor</td>\n",
       "      <td>NaN</td>\n",
       "      <td>Caleb Femi (author)</td>\n",
       "      <td>...</td>\n",
       "      <td>English</td>\n",
       "      <td>140</td>\n",
       "      <td>130.0</td>\n",
       "      <td>197.0</td>\n",
       "      <td>16.0</td>\n",
       "      <td>258</td>\n",
       "      <td>167.0</td>\n",
       "      <td>What is it like to grow up in a place where th...</td>\n",
       "      <td>&lt;p&gt;&lt;b&gt;A &lt;i&gt;NEW STATESMAN&lt;/i&gt; AND &lt;i&gt;FINANCIAL ...</td>\n",
       "      <td>&lt;b&gt;It&amp;#39;s rare for a book of poems to repeat...</td>\n",
       "    </tr>\n",
       "    <tr>\n",
       "      <th>2</th>\n",
       "      <td>9781250114297</td>\n",
       "      <td>06 Oct 2020</td>\n",
       "      <td>32.97</td>\n",
       "      <td>0.00</td>\n",
       "      <td>Hardback</td>\n",
       "      <td>artanddesign</td>\n",
       "      <td>/bookshop/product/Humans-by-Brandon-Stanton-au...</td>\n",
       "      <td>Humans</td>\n",
       "      <td>NaN</td>\n",
       "      <td>Brandon Stanton (author)</td>\n",
       "      <td>...</td>\n",
       "      <td>NaN</td>\n",
       "      <td>cm</td>\n",
       "      <td>214.0</td>\n",
       "      <td>261.0</td>\n",
       "      <td>36.0</td>\n",
       "      <td>1628</td>\n",
       "      <td>63.0</td>\n",
       "      <td>\"Brandon Stanton's new book, Humans ... shows ...</td>\n",
       "      <td>NaN</td>\n",
       "      <td>NaN</td>\n",
       "    </tr>\n",
       "    <tr>\n",
       "      <th>3</th>\n",
       "      <td>9781846149481</td>\n",
       "      <td>05 Nov 2020</td>\n",
       "      <td>19.11</td>\n",
       "      <td>2.97</td>\n",
       "      <td>Hardback</td>\n",
       "      <td>artanddesign</td>\n",
       "      <td>/bookshop/product/Gamish-by-Edward-Ross-author...</td>\n",
       "      <td>Gamish</td>\n",
       "      <td>A Graphic History of Gaming</td>\n",
       "      <td>Edward Ross (author)</td>\n",
       "      <td>...</td>\n",
       "      <td>English</td>\n",
       "      <td>208</td>\n",
       "      <td>171.0</td>\n",
       "      <td>235.0</td>\n",
       "      <td>22.0</td>\n",
       "      <td>616</td>\n",
       "      <td>285.0</td>\n",
       "      <td>Pac-Man. Mario. Minecraft. Doom. Ever since he...</td>\n",
       "      <td>&lt;p&gt;&lt;b&gt;'A love letter to gaming in all its form...</td>\n",
       "      <td>&lt;i&gt;Gamish&lt;/i&gt; is a &lt;b&gt;fascinating &lt;/b&gt;read. &lt;b...</td>\n",
       "    </tr>\n",
       "    <tr>\n",
       "      <th>4</th>\n",
       "      <td>9780241472859</td>\n",
       "      <td>24 Sep 2020</td>\n",
       "      <td>4.25</td>\n",
       "      <td>2.36</td>\n",
       "      <td>Paperback</td>\n",
       "      <td>artanddesign</td>\n",
       "      <td>/bookshop/product/The-Narrative-of-Trajans-Col...</td>\n",
       "      <td>The Narrative of Trajan's Column</td>\n",
       "      <td>NaN</td>\n",
       "      <td>Italo Calvino (author)</td>\n",
       "      <td>...</td>\n",
       "      <td>English</td>\n",
       "      <td>112</td>\n",
       "      <td>111.0</td>\n",
       "      <td>180.0</td>\n",
       "      <td>11.0</td>\n",
       "      <td>74</td>\n",
       "      <td>2645.0</td>\n",
       "      <td>Taken from his 'Collection of Sand', these ess...</td>\n",
       "      <td>&lt;p&gt;&lt;b&gt;&lt;i&gt;'When the last fire goes out, time to...</td>\n",
       "      <td>NaN</td>\n",
       "    </tr>\n",
       "    <tr>\n",
       "      <th>...</th>\n",
       "      <td>...</td>\n",
       "      <td>...</td>\n",
       "      <td>...</td>\n",
       "      <td>...</td>\n",
       "      <td>...</td>\n",
       "      <td>...</td>\n",
       "      <td>...</td>\n",
       "      <td>...</td>\n",
       "      <td>...</td>\n",
       "      <td>...</td>\n",
       "      <td>...</td>\n",
       "      <td>...</td>\n",
       "      <td>...</td>\n",
       "      <td>...</td>\n",
       "      <td>...</td>\n",
       "      <td>...</td>\n",
       "      <td>...</td>\n",
       "      <td>...</td>\n",
       "      <td>...</td>\n",
       "      <td>...</td>\n",
       "      <td>...</td>\n",
       "    </tr>\n",
       "    <tr>\n",
       "      <th>11568</th>\n",
       "      <td>9781250038821</td>\n",
       "      <td>15 Oct 2013</td>\n",
       "      <td>25.32</td>\n",
       "      <td>0.00</td>\n",
       "      <td>Hardback</td>\n",
       "      <td>travel</td>\n",
       "      <td>/bookshop/product/Humans-of-New-York-by-Brando...</td>\n",
       "      <td>Humans of New York</td>\n",
       "      <td>NaN</td>\n",
       "      <td>Brandon Stanton (photographer)</td>\n",
       "      <td>...</td>\n",
       "      <td>English</td>\n",
       "      <td>NaN</td>\n",
       "      <td>236.0</td>\n",
       "      <td>184.0</td>\n",
       "      <td>31.0</td>\n",
       "      <td>976</td>\n",
       "      <td>1792.0</td>\n",
       "      <td>STOP PRESS MARCH 2014</td>\n",
       "      <td>NaN</td>\n",
       "      <td>NaN</td>\n",
       "    </tr>\n",
       "    <tr>\n",
       "      <th>11569</th>\n",
       "      <td>9781910240755</td>\n",
       "      <td>04 Oct 2018</td>\n",
       "      <td>19.83</td>\n",
       "      <td>0.03</td>\n",
       "      <td>Paperback</td>\n",
       "      <td>travel</td>\n",
       "      <td>/bookshop/product/Waymaking-by-Helen-Mort-edit...</td>\n",
       "      <td>Waymaking</td>\n",
       "      <td>An Anthology of Women's Adventure Writing, Poe...</td>\n",
       "      <td>Helen Mort (editor), Claire Carter (editor), H...</td>\n",
       "      <td>...</td>\n",
       "      <td>English</td>\n",
       "      <td>256</td>\n",
       "      <td>219.0</td>\n",
       "      <td>184.0</td>\n",
       "      <td>25.0</td>\n",
       "      <td>750</td>\n",
       "      <td>31932.0</td>\n",
       "      <td>Waymaking is an anthology of prose, poetry and...</td>\n",
       "      <td>&lt;p&gt;&lt;strong&gt;Winner: Mountain Literature (Non Fi...</td>\n",
       "      <td>NaN</td>\n",
       "    </tr>\n",
       "    <tr>\n",
       "      <th>11570</th>\n",
       "      <td>9781910702390</td>\n",
       "      <td>02 Aug 2018</td>\n",
       "      <td>25.10</td>\n",
       "      <td>2.51</td>\n",
       "      <td>Hardback</td>\n",
       "      <td>travel</td>\n",
       "      <td>/bookshop/product/Red-Thread-by-Charlotte-Higg...</td>\n",
       "      <td>Red Thread</td>\n",
       "      <td>On Mazes and Labyrinths</td>\n",
       "      <td>Charlotte Higgins (author)</td>\n",
       "      <td>...</td>\n",
       "      <td>English</td>\n",
       "      <td>216</td>\n",
       "      <td>251.0</td>\n",
       "      <td>191.0</td>\n",
       "      <td>24.0</td>\n",
       "      <td>962</td>\n",
       "      <td>33708.0</td>\n",
       "      <td>The tale of how the hero Theseus killed the Mi...</td>\n",
       "      <td>&lt;p&gt;&lt;b&gt;'Charlotte Higgins's &lt;i&gt;Red Thread&lt;/i&gt; i...</td>\n",
       "      <td>&lt;b&gt;Charlotte Higgins&amp;#39;s &lt;i&gt;Red Thread&lt;/i&gt; i...</td>\n",
       "    </tr>\n",
       "    <tr>\n",
       "      <th>11571</th>\n",
       "      <td>9781912177059</td>\n",
       "      <td>03 Oct 2017</td>\n",
       "      <td>11.39</td>\n",
       "      <td>1.85</td>\n",
       "      <td>Paperback</td>\n",
       "      <td>travel</td>\n",
       "      <td>/bookshop/product/Sailing-Around-Britain-by-Ki...</td>\n",
       "      <td>Sailing Around Britain</td>\n",
       "      <td>NaN</td>\n",
       "      <td>Kim C. Sturgess (author)</td>\n",
       "      <td>...</td>\n",
       "      <td>English</td>\n",
       "      <td>240 , 8 unnumbered  of plates</td>\n",
       "      <td>130.0</td>\n",
       "      <td>198.0</td>\n",
       "      <td>19.0</td>\n",
       "      <td>242</td>\n",
       "      <td>0.0</td>\n",
       "      <td>An inspiring personal narrative of a weekend s...</td>\n",
       "      <td>Kim Sturgess was a weekend sailor: he enjoyed ...</td>\n",
       "      <td>\"Sail the glorious and challenging coast of Br...</td>\n",
       "    </tr>\n",
       "    <tr>\n",
       "      <th>11572</th>\n",
       "      <td>9781909911468</td>\n",
       "      <td>15 Dec 2015</td>\n",
       "      <td>31.62</td>\n",
       "      <td>7.02</td>\n",
       "      <td>Hardback</td>\n",
       "      <td>travel</td>\n",
       "      <td>/bookshop/product/The-Solent-Cruising-Companio...</td>\n",
       "      <td>The Solent Cruising Companion</td>\n",
       "      <td>A Yachtsman's Pilot and Cruising Guide to Port...</td>\n",
       "      <td>Derek Aslett (author)</td>\n",
       "      <td>...</td>\n",
       "      <td>English</td>\n",
       "      <td>160</td>\n",
       "      <td>219.0</td>\n",
       "      <td>305.0</td>\n",
       "      <td>17.0</td>\n",
       "      <td>904</td>\n",
       "      <td>0.0</td>\n",
       "      <td>An authoritative cruising companion to the Sol...</td>\n",
       "      <td>The Solent is the spiritual home of sailing an...</td>\n",
       "      <td>\"The layout is clear and content good&amp;hellip; ...</td>\n",
       "    </tr>\n",
       "  </tbody>\n",
       "</table>\n",
       "<p>11573 rows × 26 columns</p>\n",
       "</div>"
      ],
      "text/plain": [
       "                isbn publication_date  euro_price  discount_euro        type  \\\n",
       "0      9781780724379      08 Oct 2020       13.63           2.92   Hardback    \n",
       "1      9780141992150      05 Nov 2020       11.03           0.00  Paperback    \n",
       "2      9781250114297      06 Oct 2020       32.97           0.00   Hardback    \n",
       "3      9781846149481      05 Nov 2020       19.11           2.97   Hardback    \n",
       "4      9780241472859      24 Sep 2020        4.25           2.36  Paperback    \n",
       "...              ...              ...         ...            ...         ...   \n",
       "11568  9781250038821      15 Oct 2013       25.32           0.00   Hardback    \n",
       "11569  9781910240755      04 Oct 2018       19.83           0.03  Paperback    \n",
       "11570  9781910702390      02 Aug 2018       25.10           2.51   Hardback    \n",
       "11571  9781912177059      03 Oct 2017       11.39           1.85  Paperback    \n",
       "11572  9781909911468      15 Dec 2015       31.62           7.02   Hardback    \n",
       "\n",
       "              genre                                     link_book_page  \\\n",
       "0      artanddesign  /bookshop/product/Secrets-of-a-Devon-Wood-by-J...   \n",
       "1      artanddesign  /bookshop/product/Poor-by-Caleb-Femi-author/97...   \n",
       "2      artanddesign  /bookshop/product/Humans-by-Brandon-Stanton-au...   \n",
       "3      artanddesign  /bookshop/product/Gamish-by-Edward-Ross-author...   \n",
       "4      artanddesign  /bookshop/product/The-Narrative-of-Trajans-Col...   \n",
       "...             ...                                                ...   \n",
       "11568        travel  /bookshop/product/Humans-of-New-York-by-Brando...   \n",
       "11569        travel  /bookshop/product/Waymaking-by-Helen-Mort-edit...   \n",
       "11570        travel  /bookshop/product/Red-Thread-by-Charlotte-Higg...   \n",
       "11571        travel  /bookshop/product/Sailing-Around-Britain-by-Ki...   \n",
       "11572        travel  /bookshop/product/The-Solent-Cruising-Companio...   \n",
       "\n",
       "                                  title  \\\n",
       "0               Secrets of a Devon Wood   \n",
       "1                                  Poor   \n",
       "2                                Humans   \n",
       "3                                Gamish   \n",
       "4      The Narrative of Trajan's Column   \n",
       "...                                 ...   \n",
       "11568                Humans of New York   \n",
       "11569                         Waymaking   \n",
       "11570                        Red Thread   \n",
       "11571            Sailing Around Britain   \n",
       "11572     The Solent Cruising Companion   \n",
       "\n",
       "                                                subtitle  \\\n",
       "0                                       A Nature Journal   \n",
       "1                                                    NaN   \n",
       "2                                                    NaN   \n",
       "3                            A Graphic History of Gaming   \n",
       "4                                                    NaN   \n",
       "...                                                  ...   \n",
       "11568                                                NaN   \n",
       "11569  An Anthology of Women's Adventure Writing, Poe...   \n",
       "11570                            On Mazes and Labyrinths   \n",
       "11571                                                NaN   \n",
       "11572  A Yachtsman's Pilot and Cruising Guide to Port...   \n",
       "\n",
       "                                                  author  ...  language  \\\n",
       "0                                      Jo Brown (author)  ...   English   \n",
       "1                                    Caleb Femi (author)  ...   English   \n",
       "2                               Brandon Stanton (author)  ...       NaN   \n",
       "3                                   Edward Ross (author)  ...   English   \n",
       "4                                 Italo Calvino (author)  ...   English   \n",
       "...                                                  ...  ...       ...   \n",
       "11568                     Brandon Stanton (photographer)  ...   English   \n",
       "11569  Helen Mort (editor), Claire Carter (editor), H...  ...   English   \n",
       "11570                         Charlotte Higgins (author)  ...   English   \n",
       "11571                           Kim C. Sturgess (author)  ...   English   \n",
       "11572                              Derek Aslett (author)  ...   English   \n",
       "\n",
       "                     number_of_pages  height  width spine weight sales_rank  \\\n",
       "0                                 96   242.0  218.0  18.0    390      108.0   \n",
       "1                                140   130.0  197.0  16.0    258      167.0   \n",
       "2                                 cm   214.0  261.0  36.0   1628       63.0   \n",
       "3                                208   171.0  235.0  22.0    616      285.0   \n",
       "4                                112   111.0  180.0  11.0     74     2645.0   \n",
       "...                              ...     ...    ...   ...    ...        ...   \n",
       "11568                            NaN   236.0  184.0  31.0    976     1792.0   \n",
       "11569                            256   219.0  184.0  25.0    750    31932.0   \n",
       "11570                            216   251.0  191.0  24.0    962    33708.0   \n",
       "11571  240 , 8 unnumbered  of plates   130.0  198.0  19.0    242        0.0   \n",
       "11572                            160   219.0  305.0  17.0    904        0.0   \n",
       "\n",
       "                                             short_blurb  \\\n",
       "0      Walking one day in the woods behind her cottag...   \n",
       "1      What is it like to grow up in a place where th...   \n",
       "2      \"Brandon Stanton's new book, Humans ... shows ...   \n",
       "3      Pac-Man. Mario. Minecraft. Doom. Ever since he...   \n",
       "4      Taken from his 'Collection of Sand', these ess...   \n",
       "...                                                  ...   \n",
       "11568                              STOP PRESS MARCH 2014   \n",
       "11569  Waymaking is an anthology of prose, poetry and...   \n",
       "11570  The tale of how the hero Theseus killed the Mi...   \n",
       "11571  An inspiring personal narrative of a weekend s...   \n",
       "11572  An authoritative cruising companion to the Sol...   \n",
       "\n",
       "                                              long_blurb  \\\n",
       "0      <p><b>\"Things of such magnitude deserve respec...   \n",
       "1      <p><b>A <i>NEW STATESMAN</i> AND <i>FINANCIAL ...   \n",
       "2                                                    NaN   \n",
       "3      <p><b>'A love letter to gaming in all its form...   \n",
       "4      <p><b><i>'When the last fire goes out, time to...   \n",
       "...                                                  ...   \n",
       "11568                                                NaN   \n",
       "11569  <p><strong>Winner: Mountain Literature (Non Fi...   \n",
       "11570  <p><b>'Charlotte Higgins's <i>Red Thread</i> i...   \n",
       "11571  Kim Sturgess was a weekend sailor: he enjoyed ...   \n",
       "11572  The Solent is the spiritual home of sailing an...   \n",
       "\n",
       "                                            blurb_review  \n",
       "0      <b>Exquisite drawings and thoughtful annotatio...  \n",
       "1      <b>It&#39;s rare for a book of poems to repeat...  \n",
       "2                                                    NaN  \n",
       "3      <i>Gamish</i> is a <b>fascinating </b>read. <b...  \n",
       "4                                                    NaN  \n",
       "...                                                  ...  \n",
       "11568                                                NaN  \n",
       "11569                                                NaN  \n",
       "11570  <b>Charlotte Higgins&#39;s <i>Red Thread</i> i...  \n",
       "11571  \"Sail the glorious and challenging coast of Br...  \n",
       "11572  \"The layout is clear and content good&hellip; ...  \n",
       "\n",
       "[11573 rows x 26 columns]"
      ]
     },
     "execution_count": 228,
     "metadata": {},
     "output_type": "execute_result"
    }
   ],
   "source": [
    "bookstore_df"
   ]
  },
  {
   "cell_type": "markdown",
   "id": "eec61d8e",
   "metadata": {},
   "source": [
    "5. author"
   ]
  },
  {
   "cell_type": "code",
   "execution_count": 229,
   "id": "98e0b7eb",
   "metadata": {},
   "outputs": [],
   "source": [
    "# Drop or replace it with unknown?"
   ]
  },
  {
   "cell_type": "code",
   "execution_count": 230,
   "id": "16be7756",
   "metadata": {},
   "outputs": [
    {
     "data": {
      "text/plain": [
       "0.004406808951870733"
      ]
     },
     "execution_count": 230,
     "metadata": {},
     "output_type": "execute_result"
    }
   ],
   "source": [
    "categoricals['author'].isnull().mean()"
   ]
  },
  {
   "cell_type": "code",
   "execution_count": 232,
   "id": "3d98f467",
   "metadata": {},
   "outputs": [],
   "source": [
    "bookstore_df['author'].fillna('unknown', inplace=True)"
   ]
  },
  {
   "cell_type": "markdown",
   "id": "8576be5a",
   "metadata": {},
   "source": [
    "6. publisher"
   ]
  },
  {
   "cell_type": "code",
   "execution_count": 153,
   "id": "71060813",
   "metadata": {},
   "outputs": [
    {
     "data": {
      "text/plain": [
       "0    Penguin Books Ltd\n",
       "dtype: object"
      ]
     },
     "execution_count": 153,
     "metadata": {},
     "output_type": "execute_result"
    }
   ],
   "source": [
    "categoricals['publisher'].mode()"
   ]
  },
  {
   "cell_type": "code",
   "execution_count": 234,
   "id": "ce69520a",
   "metadata": {},
   "outputs": [],
   "source": [
    "bookstore_df['publisher'].fillna('Penguin Books Ltd', inplace=True)"
   ]
  },
  {
   "cell_type": "code",
   "execution_count": 236,
   "id": "69ec8e60",
   "metadata": {},
   "outputs": [
    {
     "data": {
      "text/plain": [
       "5"
      ]
     },
     "execution_count": 236,
     "metadata": {},
     "output_type": "execute_result"
    }
   ],
   "source": [
    "categoricals['publisher'].isnull().sum()"
   ]
  },
  {
   "cell_type": "code",
   "execution_count": 237,
   "id": "eaf7da35",
   "metadata": {},
   "outputs": [
    {
     "data": {
      "text/plain": [
       "0"
      ]
     },
     "execution_count": 237,
     "metadata": {},
     "output_type": "execute_result"
    }
   ],
   "source": [
    "bookstore_df['publisher'].isnull().sum()"
   ]
  },
  {
   "cell_type": "markdown",
   "id": "b2f698ac",
   "metadata": {},
   "source": [
    "7. published_country"
   ]
  },
  {
   "cell_type": "code",
   "execution_count": 238,
   "id": "aeb39f7d",
   "metadata": {},
   "outputs": [],
   "source": [
    "# Replace it with 'unknown'\n",
    "bookstore_df['published_country'].fillna('unknown', inplace=True)"
   ]
  },
  {
   "cell_type": "code",
   "execution_count": 239,
   "id": "3041d110",
   "metadata": {},
   "outputs": [
    {
     "data": {
      "text/plain": [
       "300"
      ]
     },
     "execution_count": 239,
     "metadata": {},
     "output_type": "execute_result"
    }
   ],
   "source": [
    "categoricals['published_country'].isnull().sum()"
   ]
  },
  {
   "cell_type": "code",
   "execution_count": 240,
   "id": "6fd32f7b",
   "metadata": {},
   "outputs": [
    {
     "data": {
      "text/plain": [
       "0"
      ]
     },
     "execution_count": 240,
     "metadata": {},
     "output_type": "execute_result"
    }
   ],
   "source": [
    "bookstore_df['published_country'].isnull().sum()"
   ]
  },
  {
   "cell_type": "markdown",
   "id": "bf8f43c9",
   "metadata": {},
   "source": [
    "8. imprint"
   ]
  },
  {
   "cell_type": "code",
   "execution_count": 241,
   "id": "d3af3202",
   "metadata": {},
   "outputs": [
    {
     "data": {
      "text/plain": [
       "0    Oxford University Press\n",
       "dtype: object"
      ]
     },
     "execution_count": 241,
     "metadata": {},
     "output_type": "execute_result"
    }
   ],
   "source": [
    "categoricals['imprint'].mode()"
   ]
  },
  {
   "cell_type": "code",
   "execution_count": 242,
   "id": "81a8524a",
   "metadata": {},
   "outputs": [
    {
     "data": {
      "text/plain": [
       "4"
      ]
     },
     "execution_count": 242,
     "metadata": {},
     "output_type": "execute_result"
    }
   ],
   "source": [
    "categoricals['imprint'].isnull().sum()"
   ]
  },
  {
   "cell_type": "code",
   "execution_count": 243,
   "id": "4a8ac876",
   "metadata": {},
   "outputs": [],
   "source": [
    "bookstore_df['imprint'].fillna('Oxford University Press', inplace=True)"
   ]
  },
  {
   "cell_type": "code",
   "execution_count": 244,
   "id": "28522aac",
   "metadata": {},
   "outputs": [
    {
     "data": {
      "text/plain": [
       "0"
      ]
     },
     "execution_count": 244,
     "metadata": {},
     "output_type": "execute_result"
    }
   ],
   "source": [
    "bookstore_df['imprint'].isnull().sum()"
   ]
  },
  {
   "cell_type": "markdown",
   "id": "5a0e44a7",
   "metadata": {},
   "source": [
    "9. language"
   ]
  },
  {
   "cell_type": "code",
   "execution_count": 245,
   "id": "32a0827f",
   "metadata": {},
   "outputs": [],
   "source": [
    "bookstore_df['language'].fillna('unknown', inplace=True)"
   ]
  },
  {
   "cell_type": "code",
   "execution_count": 246,
   "id": "27633230",
   "metadata": {},
   "outputs": [
    {
     "data": {
      "text/plain": [
       "0"
      ]
     },
     "execution_count": 246,
     "metadata": {},
     "output_type": "execute_result"
    }
   ],
   "source": [
    "bookstore_df['language'].isnull().sum()"
   ]
  },
  {
   "cell_type": "markdown",
   "id": "4be13ee5",
   "metadata": {},
   "source": [
    "10. number of pages"
   ]
  },
  {
   "cell_type": "code",
   "execution_count": 813,
   "id": "8125698d",
   "metadata": {},
   "outputs": [],
   "source": [
    "# wrong datatype"
   ]
  },
  {
   "cell_type": "code",
   "execution_count": 247,
   "id": "b3217b7c",
   "metadata": {},
   "outputs": [],
   "source": [
    "#How to update the value of a specific row\n",
    "#dataframe.loc[row index,['column-names']] = value\n",
    "categoricals.loc[2,['number_of_pages']] = 432"
   ]
  },
  {
   "cell_type": "code",
   "execution_count": 248,
   "id": "cf8f2a6a",
   "metadata": {},
   "outputs": [
    {
     "data": {
      "text/plain": [
       "432"
      ]
     },
     "execution_count": 248,
     "metadata": {},
     "output_type": "execute_result"
    }
   ],
   "source": [
    "categoricals['number_of_pages'][2]"
   ]
  },
  {
   "cell_type": "code",
   "execution_count": 253,
   "id": "3c5871be",
   "metadata": {},
   "outputs": [],
   "source": [
    "#categoricals['number_of_pages'].unique().tolist()"
   ]
  },
  {
   "cell_type": "code",
   "execution_count": 249,
   "id": "45516b8f",
   "metadata": {},
   "outputs": [],
   "source": [
    "# Using regular expression to get only the first digit\n",
    "bookstore_df['number_of_pages'] = bookstore_df['number_of_pages'].astype(str).str.extract(r'(\\d+)')"
   ]
  },
  {
   "cell_type": "code",
   "execution_count": 254,
   "id": "f98b7765",
   "metadata": {},
   "outputs": [],
   "source": [
    "#bookstore_df['number_of_pages'].unique().tolist()"
   ]
  },
  {
   "cell_type": "code",
   "execution_count": 250,
   "id": "8914122d",
   "metadata": {},
   "outputs": [
    {
     "data": {
      "text/plain": [
       "0.04190788905210403"
      ]
     },
     "execution_count": 250,
     "metadata": {},
     "output_type": "execute_result"
    }
   ],
   "source": [
    "categoricals['number_of_pages'].isnull().mean()"
   ]
  },
  {
   "cell_type": "code",
   "execution_count": 455,
   "id": "7d6d9e38",
   "metadata": {},
   "outputs": [
    {
     "data": {
      "text/plain": [
       "0.04199429707076817"
      ]
     },
     "execution_count": 455,
     "metadata": {},
     "output_type": "execute_result"
    }
   ],
   "source": [
    "categoricals['number_of_pages'].isnull().mean()"
   ]
  },
  {
   "cell_type": "code",
   "execution_count": 255,
   "id": "c30b0662",
   "metadata": {},
   "outputs": [],
   "source": [
    "# Convert datatype of 'number of pages' from object to float\n",
    "bookstore_df['number_of_pages'] = bookstore_df['number_of_pages'].apply(pd.to_numeric,errors='coerce')"
   ]
  },
  {
   "cell_type": "code",
   "execution_count": 256,
   "id": "9f1582d2",
   "metadata": {},
   "outputs": [
    {
     "ename": "TypeError",
     "evalue": "'numpy.dtype[float64]' object is not callable",
     "output_type": "error",
     "traceback": [
      "\u001b[0;31m---------------------------------------------------------------------------\u001b[0m",
      "\u001b[0;31mTypeError\u001b[0m                                 Traceback (most recent call last)",
      "\u001b[0;32m/var/folders/pp/zj2l4jcx48v20ggrz_hy7wdr0000gn/T/ipykernel_1280/1522724052.py\u001b[0m in \u001b[0;36m<module>\u001b[0;34m\u001b[0m\n\u001b[0;32m----> 1\u001b[0;31m \u001b[0mbookstore_df\u001b[0m\u001b[0;34m[\u001b[0m\u001b[0;34m'number_of_pages'\u001b[0m\u001b[0;34m]\u001b[0m\u001b[0;34m.\u001b[0m\u001b[0mdtype\u001b[0m\u001b[0;34m(\u001b[0m\u001b[0;34m)\u001b[0m\u001b[0;34m\u001b[0m\u001b[0;34m\u001b[0m\u001b[0m\n\u001b[0m",
      "\u001b[0;31mTypeError\u001b[0m: 'numpy.dtype[float64]' object is not callable"
     ]
    }
   ],
   "source": [
    "bookstore_df['number_of_pages'].dtype()"
   ]
  },
  {
   "cell_type": "code",
   "execution_count": 838,
   "id": "a106d517",
   "metadata": {},
   "outputs": [
    {
     "data": {
      "text/plain": [
       "288.8707458031373"
      ]
     },
     "execution_count": 838,
     "metadata": {},
     "output_type": "execute_result"
    }
   ],
   "source": [
    "mean_pages = categoricals['number_of_pages'].mean()"
   ]
  },
  {
   "cell_type": "code",
   "execution_count": 839,
   "id": "06e9573c",
   "metadata": {},
   "outputs": [
    {
     "data": {
      "text/plain": [
       "258.0"
      ]
     },
     "execution_count": 839,
     "metadata": {},
     "output_type": "execute_result"
    }
   ],
   "source": [
    "categoricals['number_of_pages'].median()"
   ]
  },
  {
   "cell_type": "code",
   "execution_count": 257,
   "id": "9f3a662a",
   "metadata": {},
   "outputs": [],
   "source": [
    "bookstore_df['number_of_pages'].fillna(289, inplace = True)"
   ]
  },
  {
   "cell_type": "code",
   "execution_count": 258,
   "id": "f99c7946",
   "metadata": {},
   "outputs": [],
   "source": [
    "# Convert float to integer\n",
    "bookstore_df['number_of_pages'] = bookstore_df['number_of_pages'].astype('int')"
   ]
  },
  {
   "cell_type": "code",
   "execution_count": 261,
   "id": "0e4bf6e2",
   "metadata": {},
   "outputs": [
    {
     "name": "stdout",
     "output_type": "stream",
     "text": [
      "<class 'pandas.core.frame.DataFrame'>\n",
      "RangeIndex: 11573 entries, 0 to 11572\n",
      "Data columns (total 26 columns):\n",
      " #   Column             Non-Null Count  Dtype  \n",
      "---  ------             --------------  -----  \n",
      " 0   isbn               11573 non-null  int64  \n",
      " 1   publication_date   11573 non-null  object \n",
      " 2   euro_price         11573 non-null  float64\n",
      " 3   discount_euro      11573 non-null  float64\n",
      " 4   type               11571 non-null  object \n",
      " 5   genre              11573 non-null  object \n",
      " 6   link_book_page     11573 non-null  object \n",
      " 7   title              11573 non-null  object \n",
      " 8   subtitle           5509 non-null   object \n",
      " 9   author             11573 non-null  object \n",
      " 10  gbp_price          11573 non-null  float64\n",
      " 11  discount_gbp       11573 non-null  float64\n",
      " 12  second_hand        11573 non-null  bool   \n",
      " 13  publisher          11573 non-null  object \n",
      " 14  published_country  11573 non-null  object \n",
      " 15  imprint            11573 non-null  object \n",
      " 16  language           11573 non-null  object \n",
      " 17  number_of_pages    11573 non-null  int64  \n",
      " 18  height             11573 non-null  float64\n",
      " 19  width              11573 non-null  float64\n",
      " 20  spine              11573 non-null  float64\n",
      " 21  weight             11573 non-null  int64  \n",
      " 22  sales_rank         11573 non-null  float64\n",
      " 23  short_blurb        11199 non-null  object \n",
      " 24  long_blurb         10989 non-null  object \n",
      " 25  blurb_review       5178 non-null   object \n",
      "dtypes: bool(1), float64(8), int64(3), object(14)\n",
      "memory usage: 2.2+ MB\n"
     ]
    }
   ],
   "source": [
    "bookstore_df.info()"
   ]
  },
  {
   "cell_type": "code",
   "execution_count": null,
   "id": "162085b6",
   "metadata": {},
   "outputs": [],
   "source": [
    "# c = df.select_dtypes(object).columns\n",
    "#df[c] = df[c].apply(pd.to_numeric,errors='coerce')\n",
    "convert string columns to numeric"
   ]
  },
  {
   "cell_type": "markdown",
   "id": "73259140",
   "metadata": {},
   "source": [
    "11. short_blurb"
   ]
  },
  {
   "cell_type": "code",
   "execution_count": 168,
   "id": "31efec9b",
   "metadata": {},
   "outputs": [
    {
     "data": {
      "text/plain": [
       "<p>Hergé's classic comic book creation Tintin is one of the most iconic characters in children's books. These highly collectible editions of the original 24 adventures will delight Tintin fans old and new. Perfect for lovers of graphic novels, mysteries and historical adventures.</p>                                                                                                                                                                                                                                                                                                                                                                                                                                                                                                                                                                                                                                                                                              21\n",
       "Tanjiro sets out on the path of the Demon Slayer to save his sister and avenge his family!                                                                                                                                                                                                                                                                                                                                                                                                                                                                                                                                                                                                                                                                                                                                                                                                                                                                                                 7\n",
       "Celebrating over 30 years as the market-leading series, Blackstone's Statutes have an unrivalled tradition of trust and quality. With a rock-solid reputation for accuracy, reliability, and authority, they remain first-choice for students and lecturers, providing a careful selection of all the up-to-date legislation needed for exams and course use.                                                                                                                                                                                                                                                                                                                                                                                                                                                                                                                                                                                                                              7\n",
       "<p><strong>'These were the books that taught me how to read' Anthony Horowitz.</strong></p><p>A classic Ant and Bee book to treasure, that is perfect for <strong>children aged 3 and up</strong>. Designed for <strong>shared reading fun</strong>, this much-loved series will <strong>build reading confidence.</strong></p><p>Over 100,000 copies of the Ant and Bee series already sold!</p>                                                                                                                                                                                                                                                                                                                                                                                                                                                                                                                                                                                          6\n",
       "Hurl Spells Faster than Ever Before with this Invaluable Accessory from Wizards of the Coast and GaleForce 9The Spellbook cards are an invaluable resource for both players and Dungeon Masters. With these spell details at their fingertips, they can save time, keep the action up, and avoid stalling the game by flipping through books. Each deck contains laminated cards that players and Dungeon Masters can use as a quick reference resource during Dungeon & Dragons tabletop play.  There are currently eight decks (each sold separately): Arcane Spell Deck (For any class that utilizes arcane cantrips and spells like wizards and sorcerers), Bard Spell Deck, Cleric Spell Deck, Druid Spell Deck, Paladin Spell Deck, Martial Powers & Races Deck (Includes spell-like racial abilities, Monk and Barbarian spell-like abilities, and fighter maneuvers), Ranger Spell Deck, Xanathar's Guide to Everything Spell Deck  (Contains spells found in the D&D suppleme     6\n",
       "                                                                                                                                                                                                                                                                                                                                                                                                                                                                                                                                                                                                                                                                                                                                                                                                                                                                                                                                                                                          ..\n",
       "Helen Clapp is a physics professor. She doesn't believe in pseudo-science, or time travel and especially not in ghosts. So when she gets a missed call from Charlie, her closest friend from university with whom she hasn't spoken in over a year, Helen thinks there must be some mistake. Because Charlie died two days ago. Then when her young son, Jack, claims to have seen Charlie in their house just the other day, Helen begins to have doubts. Through the grief of the husband and daughter she left behind, Helen is drawn into the orbit of Charlie's world, slotting in the missing pieces of her friend's past. And, as she delves into the web of their shared history, Helen finds herself entangled in the forgotten threads of her own life.                                                                                                                                                                                                                          1\n",
       "For years Jeanette Winterson has written a new story at Christmas time and here she brings together twelve of her brilliantly imaginative, funny, and bold tales, along with twelve delicious recipes for the twelve days of Christmas.                                                                                                                                                                                                                                                                                                                                                                                                                                                                                                                                                                                                                                                                                                                                                    1\n",
       "A rediscovered classic from the author of 'For Two Thousand Years', this remarkable novel presents nuanced snapshots of love in the early 20th century. Stefan Valeriu, a young man from Romania, who has just completed his medical studies in Paris, spends his vacation in the Alps where he quickly becomes entangled with three different women. We follow Stefan after his return to Paris as he reflects on the women in his life, at times playing the lover, and at others observing shrewdly from the periphery.                                                                                                                                                                                                                                                                                                                                                                                                                                                                 1\n",
       "Sitting in his cramped basement room in Brixton, Battersby dreams of money, women, a T-bone steak - and a place to call his own. So he and a group of friends decide to save up and buy a house together. But amid grasping landlords, the temptations of spending money and the less-than-welcoming attitude of the Mother Country, can this motley group of hustlers and schemers, Trinidadians and Jamaicans, men and women make their dreams a reality?                                                                                                                                                                                                                                                                                                                                                                                                                                                                                                                                1\n",
       "An authoritative cruising companion to the Solent - the spiritual home of sailing. Providing comprehensive pilotage and nautical information alongside colour charts.                                                                                                                                                                                                                                                                                                                                                                                                                                                                                                                                                                                                                                                                                                                                                                                                                      1\n",
       "Name: short_blurb, Length: 10937, dtype: int64"
      ]
     },
     "execution_count": 168,
     "metadata": {},
     "output_type": "execute_result"
    }
   ],
   "source": [
    "categoricals['short_blurb'].value_counts()"
   ]
  },
  {
   "cell_type": "code",
   "execution_count": 169,
   "id": "9b72c919",
   "metadata": {},
   "outputs": [
    {
     "data": {
      "text/plain": [
       "0.03231659898038538"
      ]
     },
     "execution_count": 169,
     "metadata": {},
     "output_type": "execute_result"
    }
   ],
   "source": [
    "#3% of missing values\n",
    "categoricals['short_blurb'].isnull().mean()"
   ]
  },
  {
   "cell_type": "code",
   "execution_count": 271,
   "id": "9450ab81",
   "metadata": {},
   "outputs": [],
   "source": [
    "#Replacing it with ''\n",
    "bookstore_df.short_blurb = bookstore_df.short_blurb.fillna('')"
   ]
  },
  {
   "cell_type": "markdown",
   "id": "3ec16169",
   "metadata": {},
   "source": [
    "12. long_blurb"
   ]
  },
  {
   "cell_type": "code",
   "execution_count": 171,
   "id": "d9773ff2",
   "metadata": {},
   "outputs": [
    {
     "data": {
      "text/plain": [
       "<b>Hurl Spells Faster than Ever Before with this Invaluable Accessory from Wizards of the Coast and GaleForce 9</b><br><br>The Spellbook cards are an invaluable resource for both players and Dungeon Masters. With these spell details at their fingertips, they can save time, keep the action up, and avoid stalling the game by flipping through books. Each deck contains laminated cards that players and Dungeon Masters can use as a quick reference resource during Dungeon & Dragons tabletop play.  There are currently eight decks (each sold separately): Arcane Spell Deck (For any class that utilizes arcane cantrips and spells like wizards and sorcerers), Bard Spell Deck, Cleric Spell Deck, Druid Spell Deck, Paladin Spell Deck, Martial Powers & Races Deck (Includes spell-like racial abilities, Monk and Barbarian spell-like abilities, and fighter maneuvers), Ranger Spell Deck, Xanathar's Guide to Everything Spell Deck  (Contains spells found in the D&D supplement, Xanathar's Guide to Everything)                                                                                                                                                                                                                                                                                                                                                                                                                                                                                                                                                                                                            6\n",
       "An educational title for learning Chinese published by Beijing Language and Culture University Press                                                                                                                                                                                                                                                                                                                                                                                                                                                                                                                                                                                                                                                                                                                                                                                                                                                                                                                                                                                                                                                                                                                                                                                                                                                                                                                                                                                                                                                                                                                                                5\n",
       "The most trusted anthology for complete works and helpful editorial apparatus. The Tenth Edition supports survey and period courses with NEW complete major works, NEW contemporary writers, and dynamic and easy-to-access digital resources. NEW video modules help introduce students to literature in multiple exciting ways. These innovations make the <em>Norton Anthology</em> an even better teaching tool for instructors and, as ever, unmatched value for students.\\n                                                                                                                                                                                                                                                                                                                                                                                                                                                                                                                                                                                                                                                                                                                                                                                                                                                                                                                                                                                                                                                                                                                                                                   5\n",
       "The moving, provocative manga about the struggles and triumphs in love of a woman and a man who uses a wheelchair comes to print! Fans of tumultuous manga romance like A Silent Voice and Your Lie in April - don't miss this! An office party reunites Tsugumi with her high school crush Itsuki. He's realised his dream of becoming an architect, but along the way, he experienced a spinal injury that put him in a wheelchair. Now Tsumugi's rekindled feelings will butt up against prejudices she never considered - and Itsuki will have to decide if he's ready to let someone into his heart - Yet they may soon discover that, without each other, the world feels imperfect.                                                                                                                                                                                                                                                                                                                                                                                                                                                                                                                                                                                                                                                                                                                                                                                                                                                                                                                                                          3\n",
       "In this post-apocalyptic sci-fi story, humanity has been devastated by the bizarre, giant humanoids known as The Titans. Little is known about where they came from or why they are bent on consuming mankind. Seemingly unintelligent, they have roamed the world for years, killing everyone they see. For the past century, what's left of the human race has hidden in a giant, three-walled city.                                                                                                                                                                                                                                                                                                                                                                                                                                                                                                                                                                                                                                                                                                                                                                                                                                                                                                                                                                                                                                                                                                                                                                                                                                              3\n",
       "                                                                                                                                                                                                                                                                                                                                                                                                                                                                                                                                                                                                                                                                                                                                                                                                                                                                                                                                                                                                                                                                                                                                                                                                                                                                                                                                                                                                                                                                                                                                                                                                                                                   ..\n",
       "<p><b><i>'</i>Nobody else writes with such precision and amusement about the absolute inability of men and women to understand each other' </b><i>RED MAGAZINE</i><br><br>  <b>'Recommended for anyone who enjoys short stories. She really doesn't shy away from sticky, nuanced subjects ... delivered with absolute poise. Delicious' </b>PANDORA SYKES, The High-Low podcast<br>  ____________________________________<br><br>Sittenfeld's wryly hilarious and insightful new collection, HELP YOURSELF, illuminates human experience and gracefully upends our assumptions about class and race, envy and disappointment, gender and celebrity.<br><br>Suburban friends fall out after a racist encounter at a birthday party is caught on video and posted on Facebook; an illustrious Manhattan film crew are victims of their own snobbery when they underestimate a pre-school teacher from the Mid-West; and a group of young writers fight about love and narrative style as they compete for a prestigious bursary.<br><br>Connecting each of these three stories is Sittenfeld's truthful yet merciless eye. Full of tenderness and compassion, this dazzling collection celebrates our humanity in all its pettiness and glory.<br><br><br><b>A <i>STYLIST</i>  Best Books for Autumn title</b><br><b>Featured in the <i>Sunday Times</i> Guide to Culture</b><br><br><br><b>Praise for CURTIS SITTENFELD:</b><br><br><b>'You won't want these stories to end' </b>REESE WITHERSPOON<br><b><i>'</i>Perfect miniatures in deadpan prose' </b><i>GUARDIAN</i><br><b><i>'</i>Clear-eyed and compulsive' </b><i>MAIL ON SUNDAY</i></p>    1\n",
       "<p><i>Candide, or the Optimist</i> is Voltaire's hilarious and deeply scathing satire on the  Age of Enlightenment. This classic of French literature has been a bestseller for over two hundred years.<br><br>Part of the Macmillan Collector's Library, a series of stunning, clothbound, pocket-sized classics with gold-foiled edges and ribbon markers. These beautiful books make perfect gifts or a treat for any book lover. This classic of French literature features an introduction by Dr Marine Ganofsky.<br><br>Young nobleman Candide lives a sheltered and comfortable life under the tutorship of the ridiculous Dr Pangloss who espouses the prevailing 18th-century philosophy of Optimism. Following an indiscretion, Candide is cast out into the world which according to Pangloss is 'the best of all possible worlds'. But this is not so, Candide and his companions encounter nothing but ludicrous calamities in their madcap travels around the world - war crimes, earthquakes, inquisitions and chain gangs - all based with horrible closeness on real events of the 18th century.</p>                                                                                                                                                                                                                                                                                                                                                                                                                                                                                                                               1\n",
       "<p><b>Your first love, your first time, your first heartbreak. The new novel from Jennifer Niven, author of <i>All the Bright Places</i>. </b><br><br><i>You were my first. Not just sex, although that was part of it, but the first to look past everything else into me. Some of the names and places have been changed, but the story is true.</i><br><br>Claudine Henry was not supposed to spend her summer on this remote island off the coast of Georgia. <br><br>She was supposed to be on a road trip with her best friend, spending every last minute together before they go to college. <br><br>But after her father makes a shock announcement, she is exiled with her shaken mother, with no phone service and no one she knows. She is completely cut off. <br><br>Until she meets Jeremiah. Free spirited, mysterious and beautiful, their chemistry is immediate and irresistible. <br><br>They both know that whatever they have can only last the summer, but maybe one summer is enough...</p>                                                                                                                                                                                                                                                                                                                                                                                                                                                                                                                                                                                                                                 1\n",
       "In Nothing Much Happens Kathryn Nicolai offers a healthy way to ease the mind before bed: through the timeless appeal of classic bedtime stories. These calming tales take place in and around a fictional city, each one revealing those small, sweet moments of joy that may be found in the commonplace. As the unnamed, gender-neutral narrators recount their days they evoke the distinct comforts offered by each of the four seasons and gently lull their reader towards sleep. From celebrating nature and revelling in the joy or being home alone to the pleasure of getting lost in the stacks of the library and picking out the best of the end-of-season tomatoes at the farmer's market, this treasury offers something for everyone.\\n\\nUsing her decades of experience as a meditation and yoga teacher, Kathryn Nicolai creates a world for you to slip into, one rich in sensory experience that quietly teaches mindfulness and self-compassion, soothes frayed nerves, and builds solid habits for nurturing sleep.                                                                                                                                                                                                                                                                                                                                                                                                                                                                                                                                                                                                          1\n",
       "The Solent is the spiritual home of sailing and one of Britain's most popular sailing spots, offering a varied and interesting cruising ground. In this fully updated third edition, Derek Aslett provides an authoritative companion that helps you make the most of your visit. Centred on Cowes and covering the area from Keyhaven and Yarmouth in the west to Chichester and Bembridge in the east, the Solent Cruising Companion provides comprehensive pilotage and nautical information, as well as suggestions of where to eat and what to do ashore. The book is enhanced with colour charts and detailed photography, including spectacular aerial shots of ports, harbours and anchorages.                                                                                                                                                                                                                                                                                                                                                                                                                                                                                                                                                                                                                                                                                                                                                                                                                                                                                                                                              1\n",
       "Name: long_blurb, Length: 10912, dtype: int64"
      ]
     },
     "execution_count": 171,
     "metadata": {},
     "output_type": "execute_result"
    }
   ],
   "source": [
    "categoricals['long_blurb'].value_counts()"
   ]
  },
  {
   "cell_type": "code",
   "execution_count": 172,
   "id": "0cfca127",
   "metadata": {},
   "outputs": [
    {
     "data": {
      "text/plain": [
       "0.050462282899853106"
      ]
     },
     "execution_count": 172,
     "metadata": {},
     "output_type": "execute_result"
    }
   ],
   "source": [
    "#5% missing values\n",
    "categoricals['long_blurb'].isnull().mean()"
   ]
  },
  {
   "cell_type": "code",
   "execution_count": 273,
   "id": "c260a485",
   "metadata": {},
   "outputs": [],
   "source": [
    "#Replacing it wit ''\n",
    "bookstore_df.long_blurb = bookstore_df.long_blurb.fillna('')"
   ]
  },
  {
   "cell_type": "markdown",
   "id": "97e3f2b2",
   "metadata": {},
   "source": [
    "13. blurb review"
   ]
  },
  {
   "cell_type": "code",
   "execution_count": 174,
   "id": "0529a8d5",
   "metadata": {},
   "outputs": [
    {
     "data": {
      "text/plain": [
       "<p>Praise for Mog:<br>'Since her debut in 1970, Mog has become&hellip; a national hero.' <strong>Junior Magazine</strong></p><p>'A firm favourite on children&#39;s bookshelves' <strong>The Telegraph</strong></p><p>'Mog is a star, she really is. I can&#39;t recommend her highly enough. Someone should give that cat a medal, or an egg for breakfast.' <strong>The Bookbag</strong></p><p>'Delightful stories about the family cat with attitude.' <strong>The Guardian</strong></p><p>Praise for Judith Kerr:<br>'One of the best authors a child of 3+ could encounter.' <strong>The Times</strong></p><p>\"It's no surprise Judith's work is still popular. It owes nothing to the vagaries of style or fashion. Her warmth and humanity are timeless.\" <strong>Michael Foreman</strong></p>                                                                                                                                                                                                                                                                                                                                                                                                                                                                                                                                                                                                                                                                                                                                                                                                                                                                                                                                                                                                                                                                                                                                                                                                                                                                                                                                                                                                                                                                               7\n",
       "An excellent and comprehensive collection of needed statutes.&#10;<br /><i>Dr Bruce Wardhaugh, Senior Lecturer in Law, University of Manchester</i><br /><br />Blackstone&#39;s Statutes are a very reliable series. Up-to-date legislation, with a good match for teaching needs. Students appreciate the clear layout and easy reference materials. Ideal for exam use.&#10;<br /><i>Renu Barton-Hanson, Associate Professor in Law, Middlesex University</i><br /><br />With an excellent selection of statutes and a clean, accessible layout, Blackstone&#39;s have long been the go-to series for statute books.&#10;<br /><i>Lee Roach, Senior Lecturer in Law, University of Portsmouth</i><br /><br />With their reputation for accuracy and expertly-selected legislation, the Blackstone&#39;s Statutes have been well-received by students for decades.&#10;<br /><i>Chris Bevan, Associate Professor in Property Law, Durham Law School</i>                                                                                                                                                                                                                                                                                                                                                                                                                                                                                                                                                                                                                                                                                                                                                                                                                                                                                                                                                                                                                                                                                                                                                                                                                                                                                                                            7\n",
       "As researchers in language acquisition, we need to study people like you.<br /><i>Stephen Krashen, Emeritus Professor, University of Southern California</i><br /><br />Olly&#39;s advice on language learning is the real deal, and I recommend you pay attention to what he has to say!<br /><i>Benny Lewis, Fluent in 3 Months</i><br /><br />When we wanted to create a free online course on how to learn a language we asked Olly to write it with us.<br /><i>Dr Tita Beaven, The Open University</i><br /><br />Learning a language is challenging, but it&#39;s one of the best things you can do for your brain and your learning skill set... Olly Richards is doing some seriously incredible work to empower more and more people to rise to the challenge.<br /><i>Jonathan Levi</i><br /><br />Olly bridges the gap between theory and practice by helping you to use scientific principles to get real results with your language learning.<br /><i>Anthony Metivier, Magnetic Memory Method</i>                                                                                                                                                                                                                                                                                                                                                                                                                                                                                                                                                                                                                                                                                                                                                                                                                                                                                                                                                                                                                                                                                                                                                                                                                                                                    5\n",
       "<p>'The English-speaking world is divided into those who have read The Lord of the Rings and The Hobbit and those who are going to read them.' Sunday Times</p><p>'A story magnificently told, with every kind of colour and movement and greatness.' New Statesman</p><p>'Masterpiece? Oh yes, I've no doubt about that.' Evening Standard</p>                                                                                                                                                                                                                                                                                                                                                                                                                                                                                                                                                                                                                                                                                                                                                                                                                                                                                                                                                                                                                                                                                                                                                                                                                                                                                                                                                                                                                                                                                                                                                                                                                                                                                                                                                                                                                                                                                                                                     5\n",
       "I've yet to meet a ten-year-old who hasn't been entranced by its witty, complex plot and the character of the eponymous Harry<br /><i>Independent</i><br /><br />Spellbinding, enchanting, bewitching stuff<br /><i>Mirror</i><br /><br />Teachers say a chapter can silence the most rowdy of classes<br /><i>Guardian</i><br /><br />One of the greatest literary adventures of modern times<br /><i>Sunday Telegraph</i><br /><br />The Harry Potter stories will join that small group of children's books which are read and reread into adulthood<br /><i>TLS</i>                                                                                                                                                                                                                                                                                                                                                                                                                                                                                                                                                                                                                                                                                                                                                                                                                                                                                                                                                                                                                                                                                                                                                                                                                                                                                                                                                                                                                                                                                                                                                                                                                                                                                                             5\n",
       "                                                                                                                                                                                                                                                                                                                                                                                                                                                                                                                                                                                                                                                                                                                                                                                                                                                                                                                                                                                                                                                                                                                                                                                                                                                                                                                                                                                                                                                                                                                                                                                                                                                                                                                                                                                                                                                                                                                                                                                                                                                                                                                                                                                                                                                                                   ..\n",
       "<p>'<strong>A total joy</strong> . . . Compulsively funny' Matt Haig</p><p>'The characters in So Lucky are lovely, very likeable. I enjoyed this book a lot, it really was<strong> unputdownable </strong>' Marian Keyes</p><p>'<strong>Funny, thought-provoking and filthy</strong>' <em>Red</em></p><p>'<strong>Thought-provoking</strong> . . . Beautifully drawn characters espouse the idea that you shouldn't judge any book by its cover'<em> Daily Mail</em></p><p>&#39;<strong>Couldn&#39;t put it down - it&#39;s wonderful</strong>&#39; Pandora Sykes</p><p>'Perceptive, poignant and proves that no one's life is as perfect as it looks'<em> Sunday Express</em></p><p>'Expect some raw realities of female life, but when these women come together, they go full-blown badass' <em>Heat</em></p><p>'A relatable take on the struggle for perfection and a journey to accepting who we truly are' <em>Woman & Home</em></p><p>'<strong>A binge read</strong>, was racing home from my day to cuddle up with it on the couch' Aisling Bea</p><p>'So Lucky is compulsively gripping and <strong>taps into the shame and self-hatred we *all* battle with</strong>. It is also very, very funny' Sara Pascoe</p><p>'Full of relevant issues'<em> Prima </em></p><p>'In true Dawn style, she has created layered, interesting characters who rile you up but also make you fall in love with them. If you enjoyed The Cows, you are going to LOVE this book. <strong>Timely, funny and very very entertaining</strong>' Emma Gannon</p><p>'<strong>Funny and very honest</strong>' Davina McCall</p><p>'It's an incredible and wonderful thing to read her painfully accurate, heart warming and hilarious analysis of our age of comparison in this <strong>wonderful, powerful novel</strong>!' Scarlett Curtis</p><p>'<strong>Perceptive, poignant</strong> and proves that no one's life is as perfect as it looks' <em>Sunday Express</em></p><p>'What a fabulous book. I read it, no DEVOURED it terribly fast and<strong> loved every minute</strong>' Mel Giedroyc</p><p>'A <strong> funny and relatable one-sitting read</strong>' Carmel Harrington</p><p>''Refreshingly raw . . . <strong>This is one to race through</strong>' <em>Sunday Mirror</em></p>    1\n",
       "<i>Redeployment</i> is a quick but powerful and, for me, painful set of stories about the experience of ordinary soldiers in Iraq<br /><i>BARACK OBAMA</i><br /><br />Searing . . .  Gives the civilian reader a visceral feeling for what it is like to be a soldier in a combat zone, and what it is like to return home, still reeling from the dislocations of war. Gritty, unsparing and fiercely observed, these stories leave us with a harrowing sense of the war in Iraq as it was experienced, day by day, by individual soldiers<br /><i>New York Times</i><br /><br />Incendiary stories of war . . .  <i>Redeployment</i> is the real thing <b>-</b> a vivid and vital battery of war stories that does not rely solely on its subject matter for impact (although, make no mistake, the subject certainly has impact) . . . A must-read<br /><i>Guardian</i><br /><br />One of the great story collections of recent times<br /><i>COLUM McCANN</i><br /><br />Achingly beautiful<br /><i>Financial Times</i><br /><br />After the first reading I immediately began the second . . . Truly haunting, and truly, indisputably, brilliant<br /><i>NIALL GRIFFITHS</i><br /><br />Brilliant<br /><i>Sunday Telegraph</i><br /><br />Klay&#39;s short stories pull off something incredibly subtle<br /><i>Sunday Times</i><br /><br />In Klay&#39;s hands, Iraq comes across not merely as a theater of war but as a laboratory for the human condition in extremis . . . <i>Redeployment</i> is hilarious, biting, whipsawing and sad. It's the best thing written so far on what the war did to people's souls<br /><i>New York Times Book Review</i><br /><br />A masterwork in mostly spare prose, its tonal range from laugh-out-loud, Joseph Heller-esque absurdity to soul-crushing bleakness. It may be our best literary window into the Iraq war<br /><i>Independent</i>                                                                                                                                                                                                                                                                                                                                                                                      1\n",
       "<p>'A fine debut' Independent</p><p>'Utterly moving' Stylist</p><p>'A thought provoking debut &hellip; so compelling &hellip; I loved it' Daily Mail</p><p>'Exactly the sort of read I'm looking for at the moment' Refinery29</p><p>'Pacy and unexpected, this is a read you&#39;ll find refreshing if you&#39;ve been stuck in a rut' Cosmopolitan</p><p>'By turns witty and moving, this is a sharp shock of a novel &hellip; Frazier is a stylish writer who wears her skills lightly &hellip; Her debut is a blistering slice of life with all the toppings' The Irish Times</p><p>'Short and sweet, this is a wry and understated tale of finding your place and identity' Heat</p><p>'Jean Kyoung Frazier's fantastic debut novel Pizza Girl is a moving and messy coming-of-age story full of dark humour&hellip; A really remarkable debut' The Nerd Daily</p><p>'Messy, funny, dark, with characters who feel so real you'd swear you know them already. A truly original coming-of-age tale that feels both fresh and familiar' Louise Hare, author of This Lovely City</p><p>'A sublime ode to obsessive outcasts and lovable screw-ups everywhere, Pizza Girl is irresistible and bold, brutal and sweet, with an ending that will thrash your heart' Kimberly King Parsons, author of Black Light</p><p>'Riotously funny' <strong>Elle</strong></p><p>'Fresh, funny, bittersweet' <strong>New York Times</strong></p><p>'This quirky, moody novel delivers in unexpected ways' <strong>People </strong></p><p>'A funny, fast-moving and essential coming-of-age novel. A sticky and feverish story about obsession, desire, grief, motherhood and need. You will devour it' Lara Williams</p><p>'Jean Kyoung Frazier, a blazing new voice in fiction, has given us a sly, poignant glimpse into the wilds of suburbia, where intergenerational queer love and alienation from labor go hand  in hand' Andrea Lawlor</p><p>'Jean Kyoung Frazier brings a flawless ear for language, great inventiveness, unfailing intelligence and empathy, and best of all a rare and shimmering wit. This novel has immense appeal' <strong>Richard Ford</strong></p><p>'Luminous, brooding, and, frankly, awe-inspiring' Bryan Washington</p>                                      1\n",
       "A girl&#39;s own adventure...This is <b>Rachel Joyce&#39;s best book yet</b> ...Exciting, moving and full of unexpected turns... surely this is the one that will propel the intrepid Joyce off the long and shortlists into prizewinning territory.<br /><i>The Times - Melissa Katsoulis</i><br /><br />A joy of a novel, with real insight into the lives of women, the value of friendship and the lasting effects of war<br /><i>Guardian - Katy Guest</i><br /><br /><p>Joyce&#39;s characters are so charmingly eccentric that they could have leapt straight from the pages of a Dickens novel. Enid is a comedic masterpiece, effervescent and brimming with life. <br><b>This exhilarating story will scoop you up and carry you along to a dizzying crescendo</b>. But it is also a story of an unlikely friendship and of women who refuse to be defined by the labels cast upon them in drab 1950s Britain. <b>Funny, wise, and utterly life-affirming</b></p><br /><i>Daily Express</i><br /><br />A life-affirming, joyously escapist picaresque tale<br /><i>Sunday Times</i><br /><br />This glorious novel is as much about second chances, heartfelt friendships and emotional courage as it is about trekking through dangerous terrain.<br /><i>Sunday Express</i><br /><br />A glorious novel about second chances, heartfelt friendships and emotional courage.<br /><i>Daily Mirror</i><br /><br />BEST BOOKS FOR SUMMER 2020: uplifting<br /><i>Stylist</i><br /><br />Rachel Joyce created an unforgettable character with Harold Fry and she&#39;s done it again with Margery Benson ...  Hilarious<br /><i>Good Housekeeping</i><br /><br />A sparkling new take on the concept of changing your life on a whim ... <b>a standout, special read</b>.<br /><i>The Lady</i><br /><br />A clear-eyed, unsparing view of regret, failure, loss, & the cost that life exacts from so many, countered with a belief in the resilience of human spirit & the possibility of second chances.<br /><i>Observer - Stephanie Merritt</i>                                                                                                                                                                                                                           1\n",
       "\"The layout is clear and content good&hellip; a good book to browse through on a wild and wet day stuck on your berth planning for the next voyage across the open water to the wild and exotic towns and creeks of the Solent.\" (Little Ship Club) \"It goes methodically through all the harbours in the Solent which one could possibly enter and its factual information on the facilities in each harbour is second to none.\" (Classic Sailor) \"Aslett provides clear navigation and pilotage advice for each location and a separate panel of useful information (fuel, gas, showers, places to eat etc). A good companion and the photos and chartlets are excellent.\" (Yachting Monthly)                                                                                                                                                                                                                                                                                                                                                                                                                                                                                                                                                                                                                                                                                                                                                                                                                                                                                                                                                                                                                                                                                                                                                                                                                                                                                                                                                                                                                                                                                                                                                                                     1\n",
       "Name: blurb_review, Length: 5069, dtype: int64"
      ]
     },
     "execution_count": 174,
     "metadata": {},
     "output_type": "execute_result"
    }
   ],
   "source": [
    "categoricals['blurb_review'].value_counts()"
   ]
  },
  {
   "cell_type": "code",
   "execution_count": 175,
   "id": "dc121aa7",
   "metadata": {},
   "outputs": [
    {
     "data": {
      "text/plain": [
       "0.5525792793571244"
      ]
     },
     "execution_count": 175,
     "metadata": {},
     "output_type": "execute_result"
    }
   ],
   "source": [
    "#55 percent of missing reviews\n",
    "categoricals['blurb_review'].isnull().mean()"
   ]
  },
  {
   "cell_type": "code",
   "execution_count": 192,
   "id": "d8e8fd92",
   "metadata": {},
   "outputs": [
    {
     "data": {
      "text/plain": [
       "Index(['number_of_pages'], dtype='object')"
      ]
     },
     "execution_count": 192,
     "metadata": {},
     "output_type": "execute_result"
    }
   ],
   "source": [
    "categoricals.columns[categoricals.isnull().any()]"
   ]
  },
  {
   "cell_type": "code",
   "execution_count": 274,
   "id": "05898d1d",
   "metadata": {},
   "outputs": [],
   "source": [
    "bookstore_df.blurb_review = bookstore_df.blurb_review.fillna('')"
   ]
  },
  {
   "cell_type": "code",
   "execution_count": 289,
   "id": "e602ce33",
   "metadata": {},
   "outputs": [
    {
     "data": {
      "text/plain": [
       "False"
      ]
     },
     "execution_count": 289,
     "metadata": {},
     "output_type": "execute_result"
    }
   ],
   "source": [
    "#Check if there is still nan values\n",
    "bookstore_df.columns.isnull().any()"
   ]
  },
  {
   "cell_type": "code",
   "execution_count": 284,
   "id": "ca926c38",
   "metadata": {},
   "outputs": [
    {
     "data": {
      "text/html": [
       "<div>\n",
       "<style scoped>\n",
       "    .dataframe tbody tr th:only-of-type {\n",
       "        vertical-align: middle;\n",
       "    }\n",
       "\n",
       "    .dataframe tbody tr th {\n",
       "        vertical-align: top;\n",
       "    }\n",
       "\n",
       "    .dataframe thead th {\n",
       "        text-align: right;\n",
       "    }\n",
       "</style>\n",
       "<table border=\"1\" class=\"dataframe\">\n",
       "  <thead>\n",
       "    <tr style=\"text-align: right;\">\n",
       "      <th></th>\n",
       "      <th>isbn</th>\n",
       "      <th>publication_date</th>\n",
       "      <th>euro_price</th>\n",
       "      <th>discount_euro</th>\n",
       "      <th>type</th>\n",
       "      <th>genre</th>\n",
       "      <th>link_book_page</th>\n",
       "      <th>title</th>\n",
       "      <th>subtitle</th>\n",
       "      <th>author</th>\n",
       "      <th>...</th>\n",
       "      <th>language</th>\n",
       "      <th>number_of_pages</th>\n",
       "      <th>height</th>\n",
       "      <th>width</th>\n",
       "      <th>spine</th>\n",
       "      <th>weight</th>\n",
       "      <th>sales_rank</th>\n",
       "      <th>short_blurb</th>\n",
       "      <th>long_blurb</th>\n",
       "      <th>blurb_review</th>\n",
       "    </tr>\n",
       "  </thead>\n",
       "  <tbody>\n",
       "    <tr>\n",
       "      <th>0</th>\n",
       "      <td>9781780724379</td>\n",
       "      <td>08 Oct 2020</td>\n",
       "      <td>13.63</td>\n",
       "      <td>2.92</td>\n",
       "      <td>Hardback</td>\n",
       "      <td>artanddesign</td>\n",
       "      <td>/bookshop/product/Secrets-of-a-Devon-Wood-by-J...</td>\n",
       "      <td>Secrets of a Devon Wood</td>\n",
       "      <td>A Nature Journal</td>\n",
       "      <td>Jo Brown (author)</td>\n",
       "      <td>...</td>\n",
       "      <td>English</td>\n",
       "      <td>96</td>\n",
       "      <td>242.0</td>\n",
       "      <td>218.0</td>\n",
       "      <td>18.0</td>\n",
       "      <td>390</td>\n",
       "      <td>108.0</td>\n",
       "      <td>Walking one day in the woods behind her cottag...</td>\n",
       "      <td>&lt;p&gt;&lt;b&gt;\"Things of such magnitude deserve respec...</td>\n",
       "      <td>&lt;b&gt;Exquisite drawings and thoughtful annotatio...</td>\n",
       "    </tr>\n",
       "    <tr>\n",
       "      <th>1</th>\n",
       "      <td>9780141992150</td>\n",
       "      <td>05 Nov 2020</td>\n",
       "      <td>11.03</td>\n",
       "      <td>0.00</td>\n",
       "      <td>Paperback</td>\n",
       "      <td>artanddesign</td>\n",
       "      <td>/bookshop/product/Poor-by-Caleb-Femi-author/97...</td>\n",
       "      <td>Poor</td>\n",
       "      <td></td>\n",
       "      <td>Caleb Femi (author)</td>\n",
       "      <td>...</td>\n",
       "      <td>English</td>\n",
       "      <td>140</td>\n",
       "      <td>130.0</td>\n",
       "      <td>197.0</td>\n",
       "      <td>16.0</td>\n",
       "      <td>258</td>\n",
       "      <td>167.0</td>\n",
       "      <td>What is it like to grow up in a place where th...</td>\n",
       "      <td>&lt;p&gt;&lt;b&gt;A &lt;i&gt;NEW STATESMAN&lt;/i&gt; AND &lt;i&gt;FINANCIAL ...</td>\n",
       "      <td>&lt;b&gt;It&amp;#39;s rare for a book of poems to repeat...</td>\n",
       "    </tr>\n",
       "    <tr>\n",
       "      <th>2</th>\n",
       "      <td>9781250114297</td>\n",
       "      <td>06 Oct 2020</td>\n",
       "      <td>32.97</td>\n",
       "      <td>0.00</td>\n",
       "      <td>Hardback</td>\n",
       "      <td>artanddesign</td>\n",
       "      <td>/bookshop/product/Humans-by-Brandon-Stanton-au...</td>\n",
       "      <td>Humans</td>\n",
       "      <td></td>\n",
       "      <td>Brandon Stanton (author)</td>\n",
       "      <td>...</td>\n",
       "      <td>unknown</td>\n",
       "      <td>289</td>\n",
       "      <td>214.0</td>\n",
       "      <td>261.0</td>\n",
       "      <td>36.0</td>\n",
       "      <td>1628</td>\n",
       "      <td>63.0</td>\n",
       "      <td>\"Brandon Stanton's new book, Humans ... shows ...</td>\n",
       "      <td></td>\n",
       "      <td></td>\n",
       "    </tr>\n",
       "    <tr>\n",
       "      <th>3</th>\n",
       "      <td>9781846149481</td>\n",
       "      <td>05 Nov 2020</td>\n",
       "      <td>19.11</td>\n",
       "      <td>2.97</td>\n",
       "      <td>Hardback</td>\n",
       "      <td>artanddesign</td>\n",
       "      <td>/bookshop/product/Gamish-by-Edward-Ross-author...</td>\n",
       "      <td>Gamish</td>\n",
       "      <td>A Graphic History of Gaming</td>\n",
       "      <td>Edward Ross (author)</td>\n",
       "      <td>...</td>\n",
       "      <td>English</td>\n",
       "      <td>208</td>\n",
       "      <td>171.0</td>\n",
       "      <td>235.0</td>\n",
       "      <td>22.0</td>\n",
       "      <td>616</td>\n",
       "      <td>285.0</td>\n",
       "      <td>Pac-Man. Mario. Minecraft. Doom. Ever since he...</td>\n",
       "      <td>&lt;p&gt;&lt;b&gt;'A love letter to gaming in all its form...</td>\n",
       "      <td>&lt;i&gt;Gamish&lt;/i&gt; is a &lt;b&gt;fascinating &lt;/b&gt;read. &lt;b...</td>\n",
       "    </tr>\n",
       "    <tr>\n",
       "      <th>4</th>\n",
       "      <td>9780241472859</td>\n",
       "      <td>24 Sep 2020</td>\n",
       "      <td>4.25</td>\n",
       "      <td>2.36</td>\n",
       "      <td>Paperback</td>\n",
       "      <td>artanddesign</td>\n",
       "      <td>/bookshop/product/The-Narrative-of-Trajans-Col...</td>\n",
       "      <td>The Narrative of Trajan's Column</td>\n",
       "      <td></td>\n",
       "      <td>Italo Calvino (author)</td>\n",
       "      <td>...</td>\n",
       "      <td>English</td>\n",
       "      <td>112</td>\n",
       "      <td>111.0</td>\n",
       "      <td>180.0</td>\n",
       "      <td>11.0</td>\n",
       "      <td>74</td>\n",
       "      <td>2645.0</td>\n",
       "      <td>Taken from his 'Collection of Sand', these ess...</td>\n",
       "      <td>&lt;p&gt;&lt;b&gt;&lt;i&gt;'When the last fire goes out, time to...</td>\n",
       "      <td></td>\n",
       "    </tr>\n",
       "    <tr>\n",
       "      <th>...</th>\n",
       "      <td>...</td>\n",
       "      <td>...</td>\n",
       "      <td>...</td>\n",
       "      <td>...</td>\n",
       "      <td>...</td>\n",
       "      <td>...</td>\n",
       "      <td>...</td>\n",
       "      <td>...</td>\n",
       "      <td>...</td>\n",
       "      <td>...</td>\n",
       "      <td>...</td>\n",
       "      <td>...</td>\n",
       "      <td>...</td>\n",
       "      <td>...</td>\n",
       "      <td>...</td>\n",
       "      <td>...</td>\n",
       "      <td>...</td>\n",
       "      <td>...</td>\n",
       "      <td>...</td>\n",
       "      <td>...</td>\n",
       "      <td>...</td>\n",
       "    </tr>\n",
       "    <tr>\n",
       "      <th>11568</th>\n",
       "      <td>9781250038821</td>\n",
       "      <td>15 Oct 2013</td>\n",
       "      <td>25.32</td>\n",
       "      <td>0.00</td>\n",
       "      <td>Hardback</td>\n",
       "      <td>travel</td>\n",
       "      <td>/bookshop/product/Humans-of-New-York-by-Brando...</td>\n",
       "      <td>Humans of New York</td>\n",
       "      <td></td>\n",
       "      <td>Brandon Stanton (photographer)</td>\n",
       "      <td>...</td>\n",
       "      <td>English</td>\n",
       "      <td>289</td>\n",
       "      <td>236.0</td>\n",
       "      <td>184.0</td>\n",
       "      <td>31.0</td>\n",
       "      <td>976</td>\n",
       "      <td>1792.0</td>\n",
       "      <td>STOP PRESS MARCH 2014</td>\n",
       "      <td></td>\n",
       "      <td></td>\n",
       "    </tr>\n",
       "    <tr>\n",
       "      <th>11569</th>\n",
       "      <td>9781910240755</td>\n",
       "      <td>04 Oct 2018</td>\n",
       "      <td>19.83</td>\n",
       "      <td>0.03</td>\n",
       "      <td>Paperback</td>\n",
       "      <td>travel</td>\n",
       "      <td>/bookshop/product/Waymaking-by-Helen-Mort-edit...</td>\n",
       "      <td>Waymaking</td>\n",
       "      <td>An Anthology of Women's Adventure Writing, Poe...</td>\n",
       "      <td>Helen Mort (editor), Claire Carter (editor), H...</td>\n",
       "      <td>...</td>\n",
       "      <td>English</td>\n",
       "      <td>256</td>\n",
       "      <td>219.0</td>\n",
       "      <td>184.0</td>\n",
       "      <td>25.0</td>\n",
       "      <td>750</td>\n",
       "      <td>31932.0</td>\n",
       "      <td>Waymaking is an anthology of prose, poetry and...</td>\n",
       "      <td>&lt;p&gt;&lt;strong&gt;Winner: Mountain Literature (Non Fi...</td>\n",
       "      <td></td>\n",
       "    </tr>\n",
       "    <tr>\n",
       "      <th>11570</th>\n",
       "      <td>9781910702390</td>\n",
       "      <td>02 Aug 2018</td>\n",
       "      <td>25.10</td>\n",
       "      <td>2.51</td>\n",
       "      <td>Hardback</td>\n",
       "      <td>travel</td>\n",
       "      <td>/bookshop/product/Red-Thread-by-Charlotte-Higg...</td>\n",
       "      <td>Red Thread</td>\n",
       "      <td>On Mazes and Labyrinths</td>\n",
       "      <td>Charlotte Higgins (author)</td>\n",
       "      <td>...</td>\n",
       "      <td>English</td>\n",
       "      <td>216</td>\n",
       "      <td>251.0</td>\n",
       "      <td>191.0</td>\n",
       "      <td>24.0</td>\n",
       "      <td>962</td>\n",
       "      <td>33708.0</td>\n",
       "      <td>The tale of how the hero Theseus killed the Mi...</td>\n",
       "      <td>&lt;p&gt;&lt;b&gt;'Charlotte Higgins's &lt;i&gt;Red Thread&lt;/i&gt; i...</td>\n",
       "      <td>&lt;b&gt;Charlotte Higgins&amp;#39;s &lt;i&gt;Red Thread&lt;/i&gt; i...</td>\n",
       "    </tr>\n",
       "    <tr>\n",
       "      <th>11571</th>\n",
       "      <td>9781912177059</td>\n",
       "      <td>03 Oct 2017</td>\n",
       "      <td>11.39</td>\n",
       "      <td>1.85</td>\n",
       "      <td>Paperback</td>\n",
       "      <td>travel</td>\n",
       "      <td>/bookshop/product/Sailing-Around-Britain-by-Ki...</td>\n",
       "      <td>Sailing Around Britain</td>\n",
       "      <td></td>\n",
       "      <td>Kim C. Sturgess (author)</td>\n",
       "      <td>...</td>\n",
       "      <td>English</td>\n",
       "      <td>240</td>\n",
       "      <td>130.0</td>\n",
       "      <td>198.0</td>\n",
       "      <td>19.0</td>\n",
       "      <td>242</td>\n",
       "      <td>0.0</td>\n",
       "      <td>An inspiring personal narrative of a weekend s...</td>\n",
       "      <td>Kim Sturgess was a weekend sailor: he enjoyed ...</td>\n",
       "      <td>\"Sail the glorious and challenging coast of Br...</td>\n",
       "    </tr>\n",
       "    <tr>\n",
       "      <th>11572</th>\n",
       "      <td>9781909911468</td>\n",
       "      <td>15 Dec 2015</td>\n",
       "      <td>31.62</td>\n",
       "      <td>7.02</td>\n",
       "      <td>Hardback</td>\n",
       "      <td>travel</td>\n",
       "      <td>/bookshop/product/The-Solent-Cruising-Companio...</td>\n",
       "      <td>The Solent Cruising Companion</td>\n",
       "      <td>A Yachtsman's Pilot and Cruising Guide to Port...</td>\n",
       "      <td>Derek Aslett (author)</td>\n",
       "      <td>...</td>\n",
       "      <td>English</td>\n",
       "      <td>160</td>\n",
       "      <td>219.0</td>\n",
       "      <td>305.0</td>\n",
       "      <td>17.0</td>\n",
       "      <td>904</td>\n",
       "      <td>0.0</td>\n",
       "      <td>An authoritative cruising companion to the Sol...</td>\n",
       "      <td>The Solent is the spiritual home of sailing an...</td>\n",
       "      <td>\"The layout is clear and content good&amp;hellip; ...</td>\n",
       "    </tr>\n",
       "  </tbody>\n",
       "</table>\n",
       "<p>11573 rows × 26 columns</p>\n",
       "</div>"
      ],
      "text/plain": [
       "                isbn publication_date  euro_price  discount_euro        type  \\\n",
       "0      9781780724379      08 Oct 2020       13.63           2.92   Hardback    \n",
       "1      9780141992150      05 Nov 2020       11.03           0.00  Paperback    \n",
       "2      9781250114297      06 Oct 2020       32.97           0.00   Hardback    \n",
       "3      9781846149481      05 Nov 2020       19.11           2.97   Hardback    \n",
       "4      9780241472859      24 Sep 2020        4.25           2.36  Paperback    \n",
       "...              ...              ...         ...            ...         ...   \n",
       "11568  9781250038821      15 Oct 2013       25.32           0.00   Hardback    \n",
       "11569  9781910240755      04 Oct 2018       19.83           0.03  Paperback    \n",
       "11570  9781910702390      02 Aug 2018       25.10           2.51   Hardback    \n",
       "11571  9781912177059      03 Oct 2017       11.39           1.85  Paperback    \n",
       "11572  9781909911468      15 Dec 2015       31.62           7.02   Hardback    \n",
       "\n",
       "              genre                                     link_book_page  \\\n",
       "0      artanddesign  /bookshop/product/Secrets-of-a-Devon-Wood-by-J...   \n",
       "1      artanddesign  /bookshop/product/Poor-by-Caleb-Femi-author/97...   \n",
       "2      artanddesign  /bookshop/product/Humans-by-Brandon-Stanton-au...   \n",
       "3      artanddesign  /bookshop/product/Gamish-by-Edward-Ross-author...   \n",
       "4      artanddesign  /bookshop/product/The-Narrative-of-Trajans-Col...   \n",
       "...             ...                                                ...   \n",
       "11568        travel  /bookshop/product/Humans-of-New-York-by-Brando...   \n",
       "11569        travel  /bookshop/product/Waymaking-by-Helen-Mort-edit...   \n",
       "11570        travel  /bookshop/product/Red-Thread-by-Charlotte-Higg...   \n",
       "11571        travel  /bookshop/product/Sailing-Around-Britain-by-Ki...   \n",
       "11572        travel  /bookshop/product/The-Solent-Cruising-Companio...   \n",
       "\n",
       "                                  title  \\\n",
       "0               Secrets of a Devon Wood   \n",
       "1                                  Poor   \n",
       "2                                Humans   \n",
       "3                                Gamish   \n",
       "4      The Narrative of Trajan's Column   \n",
       "...                                 ...   \n",
       "11568                Humans of New York   \n",
       "11569                         Waymaking   \n",
       "11570                        Red Thread   \n",
       "11571            Sailing Around Britain   \n",
       "11572     The Solent Cruising Companion   \n",
       "\n",
       "                                                subtitle  \\\n",
       "0                                       A Nature Journal   \n",
       "1                                                          \n",
       "2                                                          \n",
       "3                            A Graphic History of Gaming   \n",
       "4                                                          \n",
       "...                                                  ...   \n",
       "11568                                                      \n",
       "11569  An Anthology of Women's Adventure Writing, Poe...   \n",
       "11570                            On Mazes and Labyrinths   \n",
       "11571                                                      \n",
       "11572  A Yachtsman's Pilot and Cruising Guide to Port...   \n",
       "\n",
       "                                                  author  ...  language  \\\n",
       "0                                      Jo Brown (author)  ...   English   \n",
       "1                                    Caleb Femi (author)  ...   English   \n",
       "2                               Brandon Stanton (author)  ...   unknown   \n",
       "3                                   Edward Ross (author)  ...   English   \n",
       "4                                 Italo Calvino (author)  ...   English   \n",
       "...                                                  ...  ...       ...   \n",
       "11568                     Brandon Stanton (photographer)  ...   English   \n",
       "11569  Helen Mort (editor), Claire Carter (editor), H...  ...   English   \n",
       "11570                         Charlotte Higgins (author)  ...   English   \n",
       "11571                           Kim C. Sturgess (author)  ...   English   \n",
       "11572                              Derek Aslett (author)  ...   English   \n",
       "\n",
       "       number_of_pages  height  width spine weight sales_rank  \\\n",
       "0                   96   242.0  218.0  18.0    390      108.0   \n",
       "1                  140   130.0  197.0  16.0    258      167.0   \n",
       "2                  289   214.0  261.0  36.0   1628       63.0   \n",
       "3                  208   171.0  235.0  22.0    616      285.0   \n",
       "4                  112   111.0  180.0  11.0     74     2645.0   \n",
       "...                ...     ...    ...   ...    ...        ...   \n",
       "11568              289   236.0  184.0  31.0    976     1792.0   \n",
       "11569              256   219.0  184.0  25.0    750    31932.0   \n",
       "11570              216   251.0  191.0  24.0    962    33708.0   \n",
       "11571              240   130.0  198.0  19.0    242        0.0   \n",
       "11572              160   219.0  305.0  17.0    904        0.0   \n",
       "\n",
       "                                             short_blurb  \\\n",
       "0      Walking one day in the woods behind her cottag...   \n",
       "1      What is it like to grow up in a place where th...   \n",
       "2      \"Brandon Stanton's new book, Humans ... shows ...   \n",
       "3      Pac-Man. Mario. Minecraft. Doom. Ever since he...   \n",
       "4      Taken from his 'Collection of Sand', these ess...   \n",
       "...                                                  ...   \n",
       "11568                              STOP PRESS MARCH 2014   \n",
       "11569  Waymaking is an anthology of prose, poetry and...   \n",
       "11570  The tale of how the hero Theseus killed the Mi...   \n",
       "11571  An inspiring personal narrative of a weekend s...   \n",
       "11572  An authoritative cruising companion to the Sol...   \n",
       "\n",
       "                                              long_blurb  \\\n",
       "0      <p><b>\"Things of such magnitude deserve respec...   \n",
       "1      <p><b>A <i>NEW STATESMAN</i> AND <i>FINANCIAL ...   \n",
       "2                                                          \n",
       "3      <p><b>'A love letter to gaming in all its form...   \n",
       "4      <p><b><i>'When the last fire goes out, time to...   \n",
       "...                                                  ...   \n",
       "11568                                                      \n",
       "11569  <p><strong>Winner: Mountain Literature (Non Fi...   \n",
       "11570  <p><b>'Charlotte Higgins's <i>Red Thread</i> i...   \n",
       "11571  Kim Sturgess was a weekend sailor: he enjoyed ...   \n",
       "11572  The Solent is the spiritual home of sailing an...   \n",
       "\n",
       "                                            blurb_review  \n",
       "0      <b>Exquisite drawings and thoughtful annotatio...  \n",
       "1      <b>It&#39;s rare for a book of poems to repeat...  \n",
       "2                                                         \n",
       "3      <i>Gamish</i> is a <b>fascinating </b>read. <b...  \n",
       "4                                                         \n",
       "...                                                  ...  \n",
       "11568                                                     \n",
       "11569                                                     \n",
       "11570  <b>Charlotte Higgins&#39;s <i>Red Thread</i> i...  \n",
       "11571  \"Sail the glorious and challenging coast of Br...  \n",
       "11572  \"The layout is clear and content good&hellip; ...  \n",
       "\n",
       "[11573 rows x 26 columns]"
      ]
     },
     "execution_count": 284,
     "metadata": {},
     "output_type": "execute_result"
    }
   ],
   "source": [
    "bookstore_df"
   ]
  },
  {
   "cell_type": "code",
   "execution_count": 280,
   "id": "3664577b",
   "metadata": {},
   "outputs": [
    {
     "data": {
      "text/plain": [
       "0"
      ]
     },
     "execution_count": 280,
     "metadata": {},
     "output_type": "execute_result"
    }
   ],
   "source": [
    "bookstore_df['subtitle'].isnull().sum()"
   ]
  },
  {
   "cell_type": "code",
   "execution_count": 288,
   "id": "7140d34f",
   "metadata": {},
   "outputs": [
    {
     "data": {
      "text/plain": [
       "0"
      ]
     },
     "execution_count": 288,
     "metadata": {},
     "output_type": "execute_result"
    }
   ],
   "source": [
    "bookstore_df['short_blurb'].isnull().sum()"
   ]
  },
  {
   "cell_type": "code",
   "execution_count": 283,
   "id": "876d5c13",
   "metadata": {},
   "outputs": [
    {
     "data": {
      "text/plain": [
       "0"
      ]
     },
     "execution_count": 283,
     "metadata": {},
     "output_type": "execute_result"
    }
   ],
   "source": [
    "bookstore_df['publisher'].isnull().sum()"
   ]
  },
  {
   "cell_type": "code",
   "execution_count": 287,
   "id": "ef3048ee",
   "metadata": {},
   "outputs": [],
   "source": [
    "#save it to csv\n",
    "bookstore_df.to_csv('data/cleaned_version_blackwell.csv', index = False)"
   ]
  },
  {
   "cell_type": "code",
   "execution_count": 291,
   "id": "5f87b271",
   "metadata": {},
   "outputs": [
    {
     "data": {
      "text/plain": [
       "01 Oct 2020    432\n",
       "03 Sep 2020    417\n",
       "06 Aug 2020    215\n",
       "29 Oct 2020    211\n",
       "15 Oct 2020    204\n",
       "              ... \n",
       "22 Aug 2016      1\n",
       "08 Jan 2015      1\n",
       "17 May 2005      1\n",
       "02 Jun 2015      1\n",
       "28 Jun 2012      1\n",
       "Name: publication_date, Length: 2145, dtype: int64"
      ]
     },
     "execution_count": 291,
     "metadata": {},
     "output_type": "execute_result"
    }
   ],
   "source": [
    "#Let's look at the publication_date\n",
    "bookstore_df['publication_date'].value_counts()"
   ]
  },
  {
   "cell_type": "code",
   "execution_count": null,
   "id": "ed9208be",
   "metadata": {},
   "outputs": [],
   "source": []
  }
 ],
 "metadata": {
  "kernelspec": {
   "display_name": "Python 3",
   "language": "python",
   "name": "python3"
  },
  "language_info": {
   "codemirror_mode": {
    "name": "ipython",
    "version": 3
   },
   "file_extension": ".py",
   "mimetype": "text/x-python",
   "name": "python",
   "nbconvert_exporter": "python",
   "pygments_lexer": "ipython3",
   "version": "3.8.8"
  }
 },
 "nbformat": 4,
 "nbformat_minor": 5
}
